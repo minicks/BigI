{
  "nbformat": 4,
  "nbformat_minor": 0,
  "metadata": {
    "colab": {
      "name": "titanic",
      "provenance": [],
      "toc_visible": true,
      "include_colab_link": true
    },
    "kernelspec": {
      "name": "python3",
      "display_name": "Python 3"
    },
    "accelerator": "GPU"
  },
  "cells": [
    {
      "cell_type": "markdown",
      "metadata": {
        "id": "view-in-github",
        "colab_type": "text"
      },
      "source": [
        "<a href=\"https://colab.research.google.com/github/minicks/BigI/blob/master/titanic3.ipynb\" target=\"_parent\"><img src=\"https://colab.research.google.com/assets/colab-badge.svg\" alt=\"Open In Colab\"/></a>"
      ]
    },
    {
      "cell_type": "code",
      "metadata": {
        "id": "iCMMQMT8EyoU",
        "colab_type": "code",
        "outputId": "5a84da3e-e947-4230-c730-c56e4ea8158b",
        "colab": {
          "base_uri": "https://localhost:8080/",
          "height": 127
        }
      },
      "source": [
        "from google.colab import drive\n",
        "drive.mount('/content/drive')"
      ],
      "execution_count": 0,
      "outputs": [
        {
          "output_type": "stream",
          "text": [
            "Go to this URL in a browser: https://accounts.google.com/o/oauth2/auth?client_id=947318989803-6bn6qk8qdgf4n4g3pfee6491hc0brc4i.apps.googleusercontent.com&redirect_uri=urn%3aietf%3awg%3aoauth%3a2.0%3aoob&response_type=code&scope=email%20https%3a%2f%2fwww.googleapis.com%2fauth%2fdocs.test%20https%3a%2f%2fwww.googleapis.com%2fauth%2fdrive%20https%3a%2f%2fwww.googleapis.com%2fauth%2fdrive.photos.readonly%20https%3a%2f%2fwww.googleapis.com%2fauth%2fpeopleapi.readonly\n",
            "\n",
            "Enter your authorization code:\n",
            "··········\n",
            "Mounted at /content/drive\n"
          ],
          "name": "stdout"
        }
      ]
    },
    {
      "cell_type": "code",
      "metadata": {
        "id": "flxySFAeE80g",
        "colab_type": "code",
        "colab": {}
      },
      "source": [
        "# data analysis and wrangling\n",
        "import pandas as pd\n",
        "import numpy as np\n",
        "import random as rnd\n",
        "\n",
        "# visualization\n",
        "import seaborn as sns\n",
        "import matplotlib.pyplot as plt\n",
        "%matplotlib inline\n",
        "\n",
        "# machine learning\n",
        "from sklearn.linear_model import LogisticRegression\n",
        "from sklearn.svm import SVC, LinearSVC\n",
        "from sklearn.ensemble import RandomForestClassifier\n",
        "from sklearn.neighbors import KNeighborsClassifier\n",
        "from sklearn.naive_bayes import GaussianNB\n",
        "from sklearn.linear_model import Perceptron\n",
        "from sklearn.linear_model import SGDClassifier\n",
        "from sklearn.tree import DecisionTreeClassifier\n",
        "from sklearn.model_selection import train_test_split\n",
        "\n"
      ],
      "execution_count": 0,
      "outputs": []
    },
    {
      "cell_type": "markdown",
      "metadata": {
        "id": "moZK_fd0chkQ",
        "colab_type": "text"
      },
      "source": [
        "데이터 불러오기"
      ]
    },
    {
      "cell_type": "code",
      "metadata": {
        "id": "RstUBbvADgMe",
        "colab_type": "code",
        "colab": {}
      },
      "source": [
        "train_df = pd.read_csv('/content/drive/My Drive/train.csv')\n",
        "test_df = pd.read_csv('/content/drive/My Drive/test.csv')\n",
        "combine = [train_df, test_df]"
      ],
      "execution_count": 0,
      "outputs": []
    },
    {
      "cell_type": "markdown",
      "metadata": {
        "id": "5do2VWk2ub4Q",
        "colab_type": "text"
      },
      "source": [
        "# 전처리"
      ]
    },
    {
      "cell_type": "markdown",
      "metadata": {
        "id": "NQ5Hy_Irdo0l",
        "colab_type": "text"
      },
      "source": [
        "## train 전 처리"
      ]
    },
    {
      "cell_type": "markdown",
      "metadata": {
        "id": "b4pLZd3qMGuh",
        "colab_type": "text"
      },
      "source": [
        "전처리('Embarked') 문자를 숫자값으로"
      ]
    },
    {
      "cell_type": "code",
      "metadata": {
        "id": "JLpNFVD6IF8u",
        "colab_type": "code",
        "colab": {}
      },
      "source": [
        "for index in train_df[train_df['Embarked'] == 'C'].index:\n",
        "  train_df.loc[index,'Embarked'] = 1\n",
        "\n",
        "for index in train_df[train_df['Embarked'] == 'Q'].index:\n",
        "  train_df.loc[index,'Embarked'] = 2\n",
        "\n",
        "for index in train_df[train_df['Embarked'] == 'S'].index:\n",
        "  train_df.loc[index,'Embarked'] = 3\n",
        "\n",
        "for index in train_df[train_df['Embarked'].isnull()].index:\n",
        "  train_df.loc[index,'Embarked'] = 1"
      ],
      "execution_count": 0,
      "outputs": []
    },
    {
      "cell_type": "markdown",
      "metadata": {
        "id": "MYCw_Hk1OF_q",
        "colab_type": "text"
      },
      "source": [
        "전처리('Sex') 문자를 숫자값으로"
      ]
    },
    {
      "cell_type": "code",
      "metadata": {
        "id": "Ft2WcWWXONhI",
        "colab_type": "code",
        "colab": {}
      },
      "source": [
        "for index in train_df[train_df['Sex'] == 'male'].index:\n",
        "  train_df.loc[index,'Sex'] = -1\n",
        "\n",
        "for index in train_df[train_df['Sex'] == 'female'].index:\n",
        "  train_df.loc[index,'Sex'] = 1"
      ],
      "execution_count": 0,
      "outputs": []
    },
    {
      "cell_type": "code",
      "metadata": {
        "colab_type": "code",
        "id": "Heyzx0GQe3YK",
        "colab": {}
      },
      "source": [
        "# Name,Ticket,Cabin col 삭제\n",
        "df_1 = train_df.drop(columns=['Name','Ticket','Cabin'])"
      ],
      "execution_count": 0,
      "outputs": []
    },
    {
      "cell_type": "code",
      "metadata": {
        "id": "bAsBGzW5fstp",
        "colab_type": "code",
        "colab": {}
      },
      "source": [
        "#train,valid 나누기 \n",
        "train0,test0 = train_test_split(df_1,test_size=0.3, random_state=1)"
      ],
      "execution_count": 0,
      "outputs": []
    },
    {
      "cell_type": "markdown",
      "metadata": {
        "id": "JN7pxQWk4oMi",
        "colab_type": "text"
      },
      "source": [
        "test"
      ]
    },
    {
      "cell_type": "code",
      "metadata": {
        "id": "eh6wqUh1gAqv",
        "colab_type": "code",
        "colab": {}
      },
      "source": [
        "train0=train0.fillna(0.0)\n",
        "test0=test0.fillna(10.0)"
      ],
      "execution_count": 0,
      "outputs": []
    },
    {
      "cell_type": "markdown",
      "metadata": {
        "id": "kcshscuY34Ar",
        "colab_type": "text"
      },
      "source": [
        "## test 전처리"
      ]
    },
    {
      "cell_type": "markdown",
      "metadata": {
        "colab_type": "text",
        "id": "ecBsI7GgvIDq"
      },
      "source": [
        "전처리('Embarked') 문자를 숫자값으로"
      ]
    },
    {
      "cell_type": "code",
      "metadata": {
        "colab_type": "code",
        "id": "2wxJ7kEz36nT",
        "colab": {}
      },
      "source": [
        "for index in test_df[test_df['Embarked'] == 'C'].index:\n",
        "  test_df.loc[index,'Embarked'] = 1\n",
        "\n",
        "for index in test_df[test_df['Embarked'] == 'Q'].index:\n",
        "  test_df.loc[index,'Embarked'] = 2\n",
        "\n",
        "for index in test_df[test_df['Embarked'] == 'S'].index:\n",
        "  test_df.loc[index,'Embarked'] = 3\n",
        "\n",
        "for index in test_df[test_df['Embarked'].isnull()].index:\n",
        "  test_df.loc[index,'Embarked'] = 1"
      ],
      "execution_count": 0,
      "outputs": []
    },
    {
      "cell_type": "markdown",
      "metadata": {
        "colab_type": "text",
        "id": "1QY9pWByvKK-"
      },
      "source": [
        "전처리('Sex') 문자를 숫자값으로"
      ]
    },
    {
      "cell_type": "code",
      "metadata": {
        "colab_type": "code",
        "id": "Zr1mdoCS36nY",
        "colab": {}
      },
      "source": [
        "for index in test_df[test_df['Sex'] == 'male'].index:\n",
        "  test_df.loc[index,'Sex'] = -1\n",
        "\n",
        "for index in test_df[test_df['Sex'] == 'female'].index:\n",
        "  test_df.loc[index,'Sex'] = 1"
      ],
      "execution_count": 0,
      "outputs": []
    },
    {
      "cell_type": "code",
      "metadata": {
        "colab_type": "code",
        "id": "1quv4PEZ36nb",
        "colab": {}
      },
      "source": [
        "# Name,Ticket,Cabin col 삭제\n",
        "df_2 = test_df.drop(columns=['Name','Ticket','Cabin'])"
      ],
      "execution_count": 0,
      "outputs": []
    },
    {
      "cell_type": "code",
      "metadata": {
        "id": "MGtZIjG75D_b",
        "colab_type": "code",
        "colab": {}
      },
      "source": [
        "df_2=df_2.astype('float32')"
      ],
      "execution_count": 0,
      "outputs": []
    },
    {
      "cell_type": "code",
      "metadata": {
        "id": "ffsOCwCNdBOd",
        "colab_type": "code",
        "colab": {}
      },
      "source": [
        "df_2=df_2.fillna(20.0)"
      ],
      "execution_count": 0,
      "outputs": []
    },
    {
      "cell_type": "markdown",
      "metadata": {
        "id": "tXu9Wypn4bQB",
        "colab_type": "text"
      },
      "source": [
        "## 회귀 넣기 전 데이터 *처리*"
      ]
    },
    {
      "cell_type": "code",
      "metadata": {
        "colab_type": "code",
        "id": "D3W85UHL4dDb",
        "colab": {}
      },
      "source": [
        "Ytrain = train0[\"Survived\"]\n",
        "Xtrain = train0.drop(\"Survived\",axis = 1)\n",
        "Ytest = test0[\"Survived\"]\n",
        "Xtest = test0.drop(\"Survived\",axis = 1)"
      ],
      "execution_count": 0,
      "outputs": []
    },
    {
      "cell_type": "code",
      "metadata": {
        "colab_type": "code",
        "id": "iVvSLHUb4dDs",
        "colab": {}
      },
      "source": [
        "Xtrain=Xtrain.astype('float32')\n",
        "Ytrain=Ytrain.astype('float32')\n",
        "Xtest=Xtest.astype('float32')\n",
        "Ytest=Ytest.astype('float32')"
      ],
      "execution_count": 0,
      "outputs": []
    },
    {
      "cell_type": "markdown",
      "metadata": {
        "id": "dm5dSzUMvSCu",
        "colab_type": "text"
      },
      "source": [
        "## 전처리 test"
      ]
    },
    {
      "cell_type": "code",
      "metadata": {
        "id": "MOw9YlHW40FU",
        "colab_type": "code",
        "colab": {}
      },
      "source": [
        "for index in train_df[train_df['Age'].isnull()].index:\n",
        "  train_df=train_df.drop(index=index)"
      ],
      "execution_count": 0,
      "outputs": []
    },
    {
      "cell_type": "code",
      "metadata": {
        "id": "ofW6NosgQl3K",
        "colab_type": "code",
        "colab": {}
      },
      "source": [
        "for index in test_df[test_df['Age'].isnull()].index:\n",
        "  test_df=test_df.drop(index=index)"
      ],
      "execution_count": 0,
      "outputs": []
    },
    {
      "cell_type": "markdown",
      "metadata": {
        "id": "DzixMjrrN4El",
        "colab_type": "text"
      },
      "source": [
        "나이 변환"
      ]
    },
    {
      "cell_type": "code",
      "metadata": {
        "id": "CI9iQiZeTSZ2",
        "colab_type": "code",
        "colab": {}
      },
      "source": [
        "for index in train_df[train_df['Age'].isnull()].index:\n",
        "  if (train_df.loc[index,'SibSp']==0) & (train_df.loc[index,'Parch']==0):\n",
        "    train_df.loc[index,'Age'] = 32.0\n",
        "  elif (train_df.loc[index,'SibSp']==0) & ((2>=train_df.loc[index,'Parch']) & (train_df.loc[index,'Parch'] > 0)):\n",
        "    train_df.loc[index,'Age'] = 26.0\n",
        "  elif (train_df.loc[index,'SibSp'] == 0) & (train_df.loc[index,'Parch'] > 2):\n",
        "    train_df.loc[index,'Age'] = 32.0\n",
        "  elif ((2 >= train_df.loc[index,'SibSp']) & (train_df.loc[index,'SibSp'] > 0)) & (train_df.loc[index,'Parch']==0):\n",
        "    train_df.loc[index,'Age'] = 32.0\n",
        "  elif ((2 >= train_df.loc[index,'SibSp']) & (train_df.loc[index,'SibSp'] > 0)) & ((2>=train_df.loc[index,'Parch']) &(train_df.loc[index,'Parch'] > 0)):\n",
        "    train_df.loc[index,'Age'] = 23.0\n",
        "  elif ((2>=train_df.loc[index,'SibSp']) & (train_df.loc[index,'SibSp'] > 0)) & (train_df.loc[index,'Parch'] > 2):\n",
        "    train_df.loc[index,'Age'] = 40.0\n",
        "  elif (train_df.loc[index,'SibSp']>2) & (train_df.loc[index,'Parch']==0):\n",
        "    train_df.loc[index,'Age'] = 31.0\n",
        "  elif (train_df.loc[index,'SibSp']>2) & ((2>=train_df.loc[index,'Parch']) &(train_df.loc[index,'Parch'] > 0)):\n",
        "    train_df.loc[index,'Age'] = 8.0\n",
        "  elif (train_df.loc[index,'SibSp']>2) & (train_df.loc[index,'Parch'] > 2):\n",
        "    train_df.loc[index,'Age'] = 32.0\n"
      ],
      "execution_count": 0,
      "outputs": []
    },
    {
      "cell_type": "code",
      "metadata": {
        "id": "V6MwXHuKaLU7",
        "colab_type": "code",
        "colab": {}
      },
      "source": [
        "for index in test_df[test_df['Age'].isnull()].index:\n",
        "  if (test_df.loc[index,'SibSp']==0) & (test_df.loc[index,'Parch']==0):\n",
        "    test_df.loc[index,'Age'] = 32.0\n",
        "  if (test_df.loc[index,'SibSp']==0) & ((2>=test_df.loc[index,'Parch']) &(test_df.loc[index,'Parch'] > 0)):\n",
        "    test_df.loc[index,'Age'] = 26.0\n",
        "  if (test_df.loc[index,'SibSp']==0) & (test_df.loc[index,'Parch'] > 2):\n",
        "    test_df.loc[index,'Age'] = 32.0\n",
        "  if ((2>=test_df.loc[index,'SibSp']) &(test_df.loc[index,'SibSp'] > 0)) & (test_df.loc[index,'Parch']==0):\n",
        "    test_df.loc[index,'Age'] = 32.0\n",
        "  if ((2>=test_df.loc[index,'SibSp']) &(test_df.loc[index,'SibSp'] > 0)) & ((2>=test_df.loc[index,'Parch']) &(test_df.loc[index,'Parch'] > 0)):\n",
        "    test_df.loc[index,'Age'] = 23.0\n",
        "  if ((2>=test_df.loc[index,'SibSp']) &(test_df.loc[index,'SibSp'] > 0)) & (test_df.loc[index,'Parch'] > 2):\n",
        "    test_df.loc[index,'Age'] = 40.0\n",
        "  if (test_df.loc[index,'SibSp']>2) & (test_df.loc[index,'Parch']==0):\n",
        "    test_df.loc[index,'Age'] = 31.0\n",
        "  if (test_df.loc[index,'SibSp']>2) & ((2>=test_df.loc[index,'Parch']) &(test_df.loc[index,'Parch'] > 0)):\n",
        "    test_df.loc[index,'Age'] = 8.0\n",
        "  if (test_df.loc[index,'SibSp']>2) & (test_df.loc[index,'Parch'] > 2):\n",
        "    test_df.loc[index,'Age'] = 32.0\n"
      ],
      "execution_count": 0,
      "outputs": []
    },
    {
      "cell_type": "markdown",
      "metadata": {
        "id": "q16YEcloN2Iw",
        "colab_type": "text"
      },
      "source": [
        "test"
      ]
    },
    {
      "cell_type": "code",
      "metadata": {
        "id": "uxggUEGwUjLp",
        "colab_type": "code",
        "outputId": "cb4dc1f0-2224-4cb5-96a6-4b84f0b2b4b3",
        "colab": {
          "base_uri": "https://localhost:8080/",
          "height": 297
        }
      },
      "source": [
        "train_df[((2>=train_df['SibSp']) &(train_df['SibSp'] > 0)) & (train_df['Parch'] > 2)].describe()"
      ],
      "execution_count": 0,
      "outputs": [
        {
          "output_type": "execute_result",
          "data": {
            "text/html": [
              "<div>\n",
              "<style scoped>\n",
              "    .dataframe tbody tr th:only-of-type {\n",
              "        vertical-align: middle;\n",
              "    }\n",
              "\n",
              "    .dataframe tbody tr th {\n",
              "        vertical-align: top;\n",
              "    }\n",
              "\n",
              "    .dataframe thead th {\n",
              "        text-align: right;\n",
              "    }\n",
              "</style>\n",
              "<table border=\"1\" class=\"dataframe\">\n",
              "  <thead>\n",
              "    <tr style=\"text-align: right;\">\n",
              "      <th></th>\n",
              "      <th>PassengerId</th>\n",
              "      <th>Survived</th>\n",
              "      <th>Pclass</th>\n",
              "      <th>Sex</th>\n",
              "      <th>Age</th>\n",
              "      <th>SibSp</th>\n",
              "      <th>Parch</th>\n",
              "      <th>Fare</th>\n",
              "      <th>Embarked</th>\n",
              "    </tr>\n",
              "  </thead>\n",
              "  <tbody>\n",
              "    <tr>\n",
              "      <th>count</th>\n",
              "      <td>11.000000</td>\n",
              "      <td>11.000000</td>\n",
              "      <td>11.000000</td>\n",
              "      <td>11.000000</td>\n",
              "      <td>11.000000</td>\n",
              "      <td>11.000000</td>\n",
              "      <td>11.000000</td>\n",
              "      <td>11.000000</td>\n",
              "      <td>11.0</td>\n",
              "    </tr>\n",
              "    <tr>\n",
              "      <th>mean</th>\n",
              "      <td>394.090909</td>\n",
              "      <td>0.272727</td>\n",
              "      <td>2.636364</td>\n",
              "      <td>0.636364</td>\n",
              "      <td>40.909091</td>\n",
              "      <td>1.090909</td>\n",
              "      <td>4.090909</td>\n",
              "      <td>51.830682</td>\n",
              "      <td>2.0</td>\n",
              "    </tr>\n",
              "    <tr>\n",
              "      <th>std</th>\n",
              "      <td>286.587318</td>\n",
              "      <td>0.467099</td>\n",
              "      <td>0.674200</td>\n",
              "      <td>0.504525</td>\n",
              "      <td>13.034221</td>\n",
              "      <td>0.301511</td>\n",
              "      <td>1.044466</td>\n",
              "      <td>70.398924</td>\n",
              "      <td>0.0</td>\n",
              "    </tr>\n",
              "    <tr>\n",
              "      <th>min</th>\n",
              "      <td>14.000000</td>\n",
              "      <td>0.000000</td>\n",
              "      <td>1.000000</td>\n",
              "      <td>0.000000</td>\n",
              "      <td>16.000000</td>\n",
              "      <td>1.000000</td>\n",
              "      <td>3.000000</td>\n",
              "      <td>18.750000</td>\n",
              "      <td>2.0</td>\n",
              "    </tr>\n",
              "    <tr>\n",
              "      <th>25%</th>\n",
              "      <td>127.500000</td>\n",
              "      <td>0.000000</td>\n",
              "      <td>2.500000</td>\n",
              "      <td>0.000000</td>\n",
              "      <td>38.500000</td>\n",
              "      <td>1.000000</td>\n",
              "      <td>3.000000</td>\n",
              "      <td>27.900000</td>\n",
              "      <td>2.0</td>\n",
              "    </tr>\n",
              "    <tr>\n",
              "      <th>50%</th>\n",
              "      <td>438.000000</td>\n",
              "      <td>0.000000</td>\n",
              "      <td>3.000000</td>\n",
              "      <td>1.000000</td>\n",
              "      <td>40.000000</td>\n",
              "      <td>1.000000</td>\n",
              "      <td>4.000000</td>\n",
              "      <td>31.275000</td>\n",
              "      <td>2.0</td>\n",
              "    </tr>\n",
              "    <tr>\n",
              "      <th>75%</th>\n",
              "      <td>645.000000</td>\n",
              "      <td>0.500000</td>\n",
              "      <td>3.000000</td>\n",
              "      <td>1.000000</td>\n",
              "      <td>46.500000</td>\n",
              "      <td>1.000000</td>\n",
              "      <td>5.000000</td>\n",
              "      <td>34.375000</td>\n",
              "      <td>2.0</td>\n",
              "    </tr>\n",
              "    <tr>\n",
              "      <th>max</th>\n",
              "      <td>775.000000</td>\n",
              "      <td>1.000000</td>\n",
              "      <td>3.000000</td>\n",
              "      <td>1.000000</td>\n",
              "      <td>64.000000</td>\n",
              "      <td>2.000000</td>\n",
              "      <td>6.000000</td>\n",
              "      <td>263.000000</td>\n",
              "      <td>2.0</td>\n",
              "    </tr>\n",
              "  </tbody>\n",
              "</table>\n",
              "</div>"
            ],
            "text/plain": [
              "       PassengerId   Survived     Pclass  ...      Parch        Fare  Embarked\n",
              "count    11.000000  11.000000  11.000000  ...  11.000000   11.000000      11.0\n",
              "mean    394.090909   0.272727   2.636364  ...   4.090909   51.830682       2.0\n",
              "std     286.587318   0.467099   0.674200  ...   1.044466   70.398924       0.0\n",
              "min      14.000000   0.000000   1.000000  ...   3.000000   18.750000       2.0\n",
              "25%     127.500000   0.000000   2.500000  ...   3.000000   27.900000       2.0\n",
              "50%     438.000000   0.000000   3.000000  ...   4.000000   31.275000       2.0\n",
              "75%     645.000000   0.500000   3.000000  ...   5.000000   34.375000       2.0\n",
              "max     775.000000   1.000000   3.000000  ...   6.000000  263.000000       2.0\n",
              "\n",
              "[8 rows x 9 columns]"
            ]
          },
          "metadata": {
            "tags": []
          },
          "execution_count": 82
        }
      ]
    },
    {
      "cell_type": "code",
      "metadata": {
        "id": "xmrgc31sYduY",
        "colab_type": "code",
        "outputId": "1193c521-1dff-465a-b53d-8cd79148dfd8",
        "colab": {
          "base_uri": "https://localhost:8080/",
          "height": 297
        }
      },
      "source": [
        "train_df[((2>=train_df['SibSp']) &(train_df['SibSp'] > 0)) & ((2>=train_df['Parch']) &(train_df['Parch'] > 0))].describe()"
      ],
      "execution_count": 0,
      "outputs": [
        {
          "output_type": "execute_result",
          "data": {
            "text/html": [
              "<div>\n",
              "<style scoped>\n",
              "    .dataframe tbody tr th:only-of-type {\n",
              "        vertical-align: middle;\n",
              "    }\n",
              "\n",
              "    .dataframe tbody tr th {\n",
              "        vertical-align: top;\n",
              "    }\n",
              "\n",
              "    .dataframe thead th {\n",
              "        text-align: right;\n",
              "    }\n",
              "</style>\n",
              "<table border=\"1\" class=\"dataframe\">\n",
              "  <thead>\n",
              "    <tr style=\"text-align: right;\">\n",
              "      <th></th>\n",
              "      <th>PassengerId</th>\n",
              "      <th>Survived</th>\n",
              "      <th>Pclass</th>\n",
              "      <th>Sex</th>\n",
              "      <th>Age</th>\n",
              "      <th>SibSp</th>\n",
              "      <th>Parch</th>\n",
              "      <th>Fare</th>\n",
              "      <th>Embarked</th>\n",
              "    </tr>\n",
              "  </thead>\n",
              "  <tbody>\n",
              "    <tr>\n",
              "      <th>count</th>\n",
              "      <td>87.000000</td>\n",
              "      <td>87.000000</td>\n",
              "      <td>87.000000</td>\n",
              "      <td>87.000000</td>\n",
              "      <td>82.000000</td>\n",
              "      <td>87.000000</td>\n",
              "      <td>87.000000</td>\n",
              "      <td>87.000000</td>\n",
              "      <td>87.000000</td>\n",
              "    </tr>\n",
              "    <tr>\n",
              "      <th>mean</th>\n",
              "      <td>505.655172</td>\n",
              "      <td>0.620690</td>\n",
              "      <td>2.149425</td>\n",
              "      <td>0.528736</td>\n",
              "      <td>23.620976</td>\n",
              "      <td>1.126437</td>\n",
              "      <td>1.264368</td>\n",
              "      <td>48.300095</td>\n",
              "      <td>1.494253</td>\n",
              "    </tr>\n",
              "    <tr>\n",
              "      <th>std</th>\n",
              "      <td>237.869899</td>\n",
              "      <td>0.488028</td>\n",
              "      <td>0.785460</td>\n",
              "      <td>0.502067</td>\n",
              "      <td>17.085901</td>\n",
              "      <td>0.334268</td>\n",
              "      <td>0.443553</td>\n",
              "      <td>51.176470</td>\n",
              "      <td>0.860956</td>\n",
              "    </tr>\n",
              "    <tr>\n",
              "      <th>min</th>\n",
              "      <td>11.000000</td>\n",
              "      <td>0.000000</td>\n",
              "      <td>1.000000</td>\n",
              "      <td>0.000000</td>\n",
              "      <td>0.670000</td>\n",
              "      <td>1.000000</td>\n",
              "      <td>1.000000</td>\n",
              "      <td>7.229200</td>\n",
              "      <td>0.000000</td>\n",
              "    </tr>\n",
              "    <tr>\n",
              "      <th>25%</th>\n",
              "      <td>317.500000</td>\n",
              "      <td>0.000000</td>\n",
              "      <td>2.000000</td>\n",
              "      <td>0.000000</td>\n",
              "      <td>5.750000</td>\n",
              "      <td>1.000000</td>\n",
              "      <td>1.000000</td>\n",
              "      <td>19.258300</td>\n",
              "      <td>1.000000</td>\n",
              "    </tr>\n",
              "    <tr>\n",
              "      <th>50%</th>\n",
              "      <td>531.000000</td>\n",
              "      <td>1.000000</td>\n",
              "      <td>2.000000</td>\n",
              "      <td>1.000000</td>\n",
              "      <td>24.000000</td>\n",
              "      <td>1.000000</td>\n",
              "      <td>1.000000</td>\n",
              "      <td>26.250000</td>\n",
              "      <td>2.000000</td>\n",
              "    </tr>\n",
              "    <tr>\n",
              "      <th>75%</th>\n",
              "      <td>704.500000</td>\n",
              "      <td>1.000000</td>\n",
              "      <td>3.000000</td>\n",
              "      <td>1.000000</td>\n",
              "      <td>36.000000</td>\n",
              "      <td>1.000000</td>\n",
              "      <td>2.000000</td>\n",
              "      <td>52.554200</td>\n",
              "      <td>2.000000</td>\n",
              "    </tr>\n",
              "    <tr>\n",
              "      <th>max</th>\n",
              "      <td>889.000000</td>\n",
              "      <td>1.000000</td>\n",
              "      <td>3.000000</td>\n",
              "      <td>1.000000</td>\n",
              "      <td>70.000000</td>\n",
              "      <td>2.000000</td>\n",
              "      <td>2.000000</td>\n",
              "      <td>262.375000</td>\n",
              "      <td>2.000000</td>\n",
              "    </tr>\n",
              "  </tbody>\n",
              "</table>\n",
              "</div>"
            ],
            "text/plain": [
              "       PassengerId   Survived     Pclass  ...      Parch        Fare   Embarked\n",
              "count    87.000000  87.000000  87.000000  ...  87.000000   87.000000  87.000000\n",
              "mean    505.655172   0.620690   2.149425  ...   1.264368   48.300095   1.494253\n",
              "std     237.869899   0.488028   0.785460  ...   0.443553   51.176470   0.860956\n",
              "min      11.000000   0.000000   1.000000  ...   1.000000    7.229200   0.000000\n",
              "25%     317.500000   0.000000   2.000000  ...   1.000000   19.258300   1.000000\n",
              "50%     531.000000   1.000000   2.000000  ...   1.000000   26.250000   2.000000\n",
              "75%     704.500000   1.000000   3.000000  ...   2.000000   52.554200   2.000000\n",
              "max     889.000000   1.000000   3.000000  ...   2.000000  262.375000   2.000000\n",
              "\n",
              "[8 rows x 9 columns]"
            ]
          },
          "metadata": {
            "tags": []
          },
          "execution_count": 83
        }
      ]
    },
    {
      "cell_type": "code",
      "metadata": {
        "id": "utVFX6_QYuRF",
        "colab_type": "code",
        "outputId": "f1929a95-55ea-46ce-edfb-4ad0e9fe2b0c",
        "colab": {
          "base_uri": "https://localhost:8080/",
          "height": 297
        }
      },
      "source": [
        "train_df[((2>=train_df['SibSp']) &(train_df['SibSp'] > 0)) & (train_df['Parch'] == 0)].describe()"
      ],
      "execution_count": 0,
      "outputs": [
        {
          "output_type": "execute_result",
          "data": {
            "text/html": [
              "<div>\n",
              "<style scoped>\n",
              "    .dataframe tbody tr th:only-of-type {\n",
              "        vertical-align: middle;\n",
              "    }\n",
              "\n",
              "    .dataframe tbody tr th {\n",
              "        vertical-align: top;\n",
              "    }\n",
              "\n",
              "    .dataframe thead th {\n",
              "        text-align: right;\n",
              "    }\n",
              "</style>\n",
              "<table border=\"1\" class=\"dataframe\">\n",
              "  <thead>\n",
              "    <tr style=\"text-align: right;\">\n",
              "      <th></th>\n",
              "      <th>PassengerId</th>\n",
              "      <th>Survived</th>\n",
              "      <th>Pclass</th>\n",
              "      <th>Sex</th>\n",
              "      <th>Age</th>\n",
              "      <th>SibSp</th>\n",
              "      <th>Parch</th>\n",
              "      <th>Fare</th>\n",
              "      <th>Embarked</th>\n",
              "    </tr>\n",
              "  </thead>\n",
              "  <tbody>\n",
              "    <tr>\n",
              "      <th>count</th>\n",
              "      <td>139.000000</td>\n",
              "      <td>139.000000</td>\n",
              "      <td>139.000000</td>\n",
              "      <td>139.000000</td>\n",
              "      <td>115.000000</td>\n",
              "      <td>139.000000</td>\n",
              "      <td>139.0</td>\n",
              "      <td>139.000000</td>\n",
              "      <td>139.000000</td>\n",
              "    </tr>\n",
              "    <tr>\n",
              "      <th>mean</th>\n",
              "      <td>396.575540</td>\n",
              "      <td>0.489209</td>\n",
              "      <td>2.014388</td>\n",
              "      <td>0.474820</td>\n",
              "      <td>32.043478</td>\n",
              "      <td>1.115108</td>\n",
              "      <td>0.0</td>\n",
              "      <td>42.472365</td>\n",
              "      <td>1.366906</td>\n",
              "    </tr>\n",
              "    <tr>\n",
              "      <th>std</th>\n",
              "      <td>251.814055</td>\n",
              "      <td>0.501691</td>\n",
              "      <td>0.892689</td>\n",
              "      <td>0.501172</td>\n",
              "      <td>11.508305</td>\n",
              "      <td>0.320306</td>\n",
              "      <td>0.0</td>\n",
              "      <td>36.302765</td>\n",
              "      <td>0.885830</td>\n",
              "    </tr>\n",
              "    <tr>\n",
              "      <th>min</th>\n",
              "      <td>1.000000</td>\n",
              "      <td>0.000000</td>\n",
              "      <td>1.000000</td>\n",
              "      <td>0.000000</td>\n",
              "      <td>12.000000</td>\n",
              "      <td>1.000000</td>\n",
              "      <td>0.0</td>\n",
              "      <td>6.495800</td>\n",
              "      <td>0.000000</td>\n",
              "    </tr>\n",
              "    <tr>\n",
              "      <th>25%</th>\n",
              "      <td>169.500000</td>\n",
              "      <td>0.000000</td>\n",
              "      <td>1.000000</td>\n",
              "      <td>0.000000</td>\n",
              "      <td>24.000000</td>\n",
              "      <td>1.000000</td>\n",
              "      <td>0.0</td>\n",
              "      <td>15.700000</td>\n",
              "      <td>0.000000</td>\n",
              "    </tr>\n",
              "    <tr>\n",
              "      <th>50%</th>\n",
              "      <td>393.000000</td>\n",
              "      <td>0.000000</td>\n",
              "      <td>2.000000</td>\n",
              "      <td>0.000000</td>\n",
              "      <td>30.000000</td>\n",
              "      <td>1.000000</td>\n",
              "      <td>0.0</td>\n",
              "      <td>26.000000</td>\n",
              "      <td>2.000000</td>\n",
              "    </tr>\n",
              "    <tr>\n",
              "      <th>75%</th>\n",
              "      <td>603.000000</td>\n",
              "      <td>1.000000</td>\n",
              "      <td>3.000000</td>\n",
              "      <td>1.000000</td>\n",
              "      <td>39.500000</td>\n",
              "      <td>1.000000</td>\n",
              "      <td>0.0</td>\n",
              "      <td>63.887500</td>\n",
              "      <td>2.000000</td>\n",
              "    </tr>\n",
              "    <tr>\n",
              "      <th>max</th>\n",
              "      <td>875.000000</td>\n",
              "      <td>1.000000</td>\n",
              "      <td>3.000000</td>\n",
              "      <td>1.000000</td>\n",
              "      <td>63.000000</td>\n",
              "      <td>2.000000</td>\n",
              "      <td>0.0</td>\n",
              "      <td>227.525000</td>\n",
              "      <td>2.000000</td>\n",
              "    </tr>\n",
              "  </tbody>\n",
              "</table>\n",
              "</div>"
            ],
            "text/plain": [
              "       PassengerId    Survived      Pclass  ...  Parch        Fare    Embarked\n",
              "count   139.000000  139.000000  139.000000  ...  139.0  139.000000  139.000000\n",
              "mean    396.575540    0.489209    2.014388  ...    0.0   42.472365    1.366906\n",
              "std     251.814055    0.501691    0.892689  ...    0.0   36.302765    0.885830\n",
              "min       1.000000    0.000000    1.000000  ...    0.0    6.495800    0.000000\n",
              "25%     169.500000    0.000000    1.000000  ...    0.0   15.700000    0.000000\n",
              "50%     393.000000    0.000000    2.000000  ...    0.0   26.000000    2.000000\n",
              "75%     603.000000    1.000000    3.000000  ...    0.0   63.887500    2.000000\n",
              "max     875.000000    1.000000    3.000000  ...    0.0  227.525000    2.000000\n",
              "\n",
              "[8 rows x 9 columns]"
            ]
          },
          "metadata": {
            "tags": []
          },
          "execution_count": 84
        }
      ]
    },
    {
      "cell_type": "code",
      "metadata": {
        "id": "IbzTEnJl0yHG",
        "colab_type": "code",
        "outputId": "b428235c-74b3-456b-f43b-2c16d675f3e6",
        "colab": {
          "base_uri": "https://localhost:8080/",
          "height": 269
        }
      },
      "source": [
        "df_1.info()"
      ],
      "execution_count": 0,
      "outputs": [
        {
          "output_type": "stream",
          "text": [
            "<class 'pandas.core.frame.DataFrame'>\n",
            "RangeIndex: 891 entries, 0 to 890\n",
            "Data columns (total 9 columns):\n",
            "PassengerId    891 non-null int64\n",
            "Survived       891 non-null int64\n",
            "Pclass         891 non-null int64\n",
            "Sex            891 non-null int64\n",
            "Age            891 non-null float64\n",
            "SibSp          891 non-null int64\n",
            "Parch          891 non-null int64\n",
            "Fare           891 non-null float64\n",
            "Embarked       891 non-null int64\n",
            "dtypes: float64(2), int64(7)\n",
            "memory usage: 62.8 KB\n"
          ],
          "name": "stdout"
        }
      ]
    },
    {
      "cell_type": "code",
      "metadata": {
        "id": "Quha6_s2RQXH",
        "colab_type": "code",
        "outputId": "21e580a5-7b00-404d-a069-4ab85590eefc",
        "colab": {
          "base_uri": "https://localhost:8080/",
          "height": 251
        }
      },
      "source": [
        "df_2.info()"
      ],
      "execution_count": 0,
      "outputs": [
        {
          "output_type": "stream",
          "text": [
            "<class 'pandas.core.frame.DataFrame'>\n",
            "RangeIndex: 418 entries, 0 to 417\n",
            "Data columns (total 8 columns):\n",
            "PassengerId    418 non-null float32\n",
            "Pclass         418 non-null float32\n",
            "Sex            418 non-null float32\n",
            "Age            418 non-null float32\n",
            "SibSp          418 non-null float32\n",
            "Parch          418 non-null float32\n",
            "Fare           418 non-null float32\n",
            "Embarked       418 non-null float32\n",
            "dtypes: float32(8)\n",
            "memory usage: 13.2 KB\n"
          ],
          "name": "stdout"
        }
      ]
    },
    {
      "cell_type": "markdown",
      "metadata": {
        "id": "OBTtSYr9c9QH",
        "colab_type": "text"
      },
      "source": [
        "# 정보 모으기"
      ]
    },
    {
      "cell_type": "code",
      "metadata": {
        "id": "QXdca_vtFdnY",
        "colab_type": "code",
        "colab": {}
      },
      "source": [
        "print(train_df.sort_values(by='Survived'))\n",
        "print(train_df.columns.values)\n",
        "print('======================================================')\n",
        "print(test_df)\n",
        "print(test_df.columns.values)\n",
        "print('======================================================')\n",
        "print(combine)\n",
        "print('======================================================')"
      ],
      "execution_count": 0,
      "outputs": []
    },
    {
      "cell_type": "code",
      "metadata": {
        "id": "Yuol56XBFsGm",
        "colab_type": "code",
        "colab": {}
      },
      "source": [
        "print(train_df.min())\n",
        "print(train_df.max())\n",
        "train_df.describe(include='all')"
      ],
      "execution_count": 0,
      "outputs": []
    },
    {
      "cell_type": "code",
      "metadata": {
        "id": "Du6ofliP6-h7",
        "colab_type": "code",
        "colab": {}
      },
      "source": [
        "train_df.info()"
      ],
      "execution_count": 0,
      "outputs": []
    },
    {
      "cell_type": "code",
      "metadata": {
        "id": "Uw5dv9gC7KPn",
        "colab_type": "code",
        "colab": {}
      },
      "source": [
        "for a in train_df.index[train_df['Age'].isnull()]:\n",
        "  print(a)"
      ],
      "execution_count": 0,
      "outputs": []
    },
    {
      "cell_type": "code",
      "metadata": {
        "id": "GK7Brkp2Qwvs",
        "colab_type": "code",
        "colab": {}
      },
      "source": [
        "g = sns.FacetGrid(train_df, col='Survived')\n",
        "g.map(plt.hist, 'Age', bins=20)"
      ],
      "execution_count": 0,
      "outputs": []
    },
    {
      "cell_type": "code",
      "metadata": {
        "id": "hGIQb-MXa2mH",
        "colab_type": "code",
        "colab": {}
      },
      "source": [
        "grid = sns.FacetGrid(train_df, col='Survived', row='Pclass', size=2.2, aspect=1.6)\n",
        "grid.map(plt.hist, 'Cabin', alpha=.5, bins=20)\n",
        "grid.add_legend();"
      ],
      "execution_count": 0,
      "outputs": []
    },
    {
      "cell_type": "code",
      "metadata": {
        "id": "iLYfqfmIHU7N",
        "colab_type": "code",
        "colab": {}
      },
      "source": [
        "for index in train_df[train_df['Age'].isnull()].index:\n",
        "  print(train_df.loc[index,['Pclass','SibSp','Parch']])"
      ],
      "execution_count": 0,
      "outputs": []
    },
    {
      "cell_type": "code",
      "metadata": {
        "id": "FUhKnkHiU7Il",
        "colab_type": "code",
        "colab": {}
      },
      "source": [
        "\n",
        "for index in train_df[(train_df['Age'].isnull()) & (train_df['SibSp'] == 0) & (train_df['Parch'] == 0)].index:\n",
        "  print(train_df.loc[index,['Pclass','SibSp','Parch','Fare','Embarked','Cabin']])"
      ],
      "execution_count": 0,
      "outputs": []
    },
    {
      "cell_type": "code",
      "metadata": {
        "id": "SBqM0KeyVaR8",
        "colab_type": "code",
        "colab": {}
      },
      "source": [
        "train_df.corr(method='pearson')"
      ],
      "execution_count": 0,
      "outputs": []
    },
    {
      "cell_type": "code",
      "metadata": {
        "id": "Cj-AZzd3IMFy",
        "colab_type": "code",
        "colab": {}
      },
      "source": [
        "train_df.info()"
      ],
      "execution_count": 0,
      "outputs": []
    },
    {
      "cell_type": "code",
      "metadata": {
        "id": "IdTQNvd1MEqR",
        "colab_type": "code",
        "colab": {}
      },
      "source": [
        "train_df.corr(method='pearson')"
      ],
      "execution_count": 0,
      "outputs": []
    },
    {
      "cell_type": "code",
      "metadata": {
        "id": "nfyTkVx-fHp8",
        "colab_type": "code",
        "colab": {}
      },
      "source": [
        "train_df.describe()"
      ],
      "execution_count": 0,
      "outputs": []
    },
    {
      "cell_type": "code",
      "metadata": {
        "id": "2wMa4WbgMy3y",
        "colab_type": "code",
        "colab": {}
      },
      "source": [
        "for index in train_df[train_df['Pclass'] == 1].index:\n",
        "  train_df.loc[index,'Pclass'] = 'a'"
      ],
      "execution_count": 0,
      "outputs": []
    },
    {
      "cell_type": "code",
      "metadata": {
        "id": "QiWieJtkNJ1T",
        "colab_type": "code",
        "colab": {}
      },
      "source": [
        "for index in train_df[train_df['Pclass'] == 3].index:\n",
        "  print(train_df.loc[index,'Cabin'])"
      ],
      "execution_count": 0,
      "outputs": []
    },
    {
      "cell_type": "code",
      "metadata": {
        "id": "KeY1vXLodJ6w",
        "colab_type": "code",
        "colab": {}
      },
      "source": [
        ""
      ],
      "execution_count": 0,
      "outputs": []
    },
    {
      "cell_type": "markdown",
      "metadata": {
        "id": "l_HQT7lQvyIN",
        "colab_type": "text"
      },
      "source": [
        "# 회귀 분석"
      ]
    },
    {
      "cell_type": "code",
      "metadata": {
        "id": "WAOCp4o9x7e2",
        "colab_type": "code",
        "outputId": "bb9252f9-a064-4ea4-b4dd-3873ddd57a73",
        "colab": {
          "base_uri": "https://localhost:8080/",
          "height": 71
        }
      },
      "source": [
        "random_forest = RandomForestClassifier(n_estimators=1000)\n",
        "random_forest.fit(Xtrain, Ytrain)\n",
        "Ftrain = random_forest.predict(Xtrain)\n",
        "Ydf_2 = random_forest.predict(df_2)\n",
        "random_forest.score(Xtest,Ytest )\n",
        "random_forest.score(Xtrain, Ytrain )\n",
        "random_forest.score(df_2, Ydf_2 )\n",
        "acc_random_forest1 = round(random_forest.score(Xtrain, Ftrain ) * 100, 2)\n",
        "acc_random_forest2 = round(random_forest.score(Xtest,Ytest ) * 100, 2)\n",
        "acc_random_forest3 = round(random_forest.score(df_2,Ydf_2 ) * 100, 2)\n",
        "print('train : ' , acc_random_forest1)\n",
        "print('valid : ' , acc_random_forest2)\n",
        "print('test : ' ,acc_random_forest3)"
      ],
      "execution_count": 0,
      "outputs": [
        {
          "output_type": "stream",
          "text": [
            "train :  100.0\n",
            "valid :  77.99\n",
            "test :  100.0\n"
          ],
          "name": "stdout"
        }
      ]
    },
    {
      "cell_type": "markdown",
      "metadata": {
        "id": "_YXJ0O13vrMB",
        "colab_type": "text"
      },
      "source": [
        "# 파일 저장"
      ]
    },
    {
      "cell_type": "code",
      "metadata": {
        "id": "ttbleKb263JR",
        "colab_type": "code",
        "colab": {}
      },
      "source": [
        "submission = pd.DataFrame({\n",
        "        \"PassengerId\": df_2[\"PassengerId\"],\n",
        "        \"Survived\": Ydf_2\n",
        "    })\n",
        "submission.to_csv('age_'+'titanic_SUBMISSION.csv', index=False)"
      ],
      "execution_count": 0,
      "outputs": []
    },
    {
      "cell_type": "markdown",
      "metadata": {
        "id": "lBY4ixOL4Tui",
        "colab_type": "text"
      },
      "source": [
        "# 새 섹션"
      ]
    },
    {
      "cell_type": "code",
      "metadata": {
        "id": "T0Kc3fc2yLLj",
        "colab_type": "code",
        "colab": {}
      },
      "source": [
        "Ytrain = train0[\"Survived\"]\n",
        "Xtrain = train0.drop(\"Survived\",axis = 1)\n",
        "Xtest = test0.drop(\"Survived\",axis = 1)"
      ],
      "execution_count": 0,
      "outputs": []
    },
    {
      "cell_type": "code",
      "metadata": {
        "id": "D80kV6ESzzXq",
        "colab_type": "code",
        "colab": {}
      },
      "source": [
        "Xtrain=Xtrain.astype('float32')\n",
        "Ytrain=Ytrain.astype('float32')\n",
        "Xtest=Xtest.astype('float32')"
      ],
      "execution_count": 0,
      "outputs": []
    },
    {
      "cell_type": "code",
      "metadata": {
        "id": "mLxAhV7q2JRz",
        "colab_type": "code",
        "colab": {}
      },
      "source": [
        "for index in Xtrain[Xtrain.isnull()].index:\n",
        "  print(Xtrain.loc[index])"
      ],
      "execution_count": 0,
      "outputs": []
    },
    {
      "cell_type": "code",
      "metadata": {
        "id": "SpNCOZtX1p6z",
        "colab_type": "code",
        "colab": {}
      },
      "source": [
        "Xtrain[Xtrain.isnull()]"
      ],
      "execution_count": 0,
      "outputs": []
    },
    {
      "cell_type": "code",
      "metadata": {
        "id": "CAk9N2H_2xpo",
        "colab_type": "code",
        "colab": {}
      },
      "source": [
        "Xtest.info()"
      ],
      "execution_count": 0,
      "outputs": []
    },
    {
      "cell_type": "code",
      "metadata": {
        "id": "JO_8tp6h2rJJ",
        "colab_type": "code",
        "colab": {}
      },
      "source": [
        "Xtrain[Xtrain.isnull()].index"
      ],
      "execution_count": 0,
      "outputs": []
    },
    {
      "cell_type": "code",
      "metadata": {
        "id": "x-gjAot07UsG",
        "colab_type": "code",
        "colab": {}
      },
      "source": [
        "Ypred"
      ],
      "execution_count": 0,
      "outputs": []
    },
    {
      "cell_type": "code",
      "metadata": {
        "id": "r47MzGb25vpO",
        "colab_type": "code",
        "colab": {}
      },
      "source": [
        "df_2"
      ],
      "execution_count": 0,
      "outputs": []
    }
  ]
}