{
  "nbformat": 4,
  "nbformat_minor": 0,
  "metadata": {
    "colab": {
      "name": "Keras_test.ipynb",
      "provenance": [],
      "include_colab_link": true
    },
    "kernelspec": {
      "name": "python3",
      "display_name": "Python 3"
    }
  },
  "cells": [
    {
      "cell_type": "markdown",
      "metadata": {
        "id": "view-in-github",
        "colab_type": "text"
      },
      "source": [
        "<a href=\"https://colab.research.google.com/github/minicks/BigI/blob/master/Keras_test.ipynb\" target=\"_parent\"><img src=\"https://colab.research.google.com/assets/colab-badge.svg\" alt=\"Open In Colab\"/></a>"
      ]
    },
    {
      "cell_type": "code",
      "metadata": {
        "id": "0CDP8lOiV1WT",
        "colab_type": "code",
        "colab": {}
      },
      "source": [
        "# 코랩에서는 다음 코드로 베타버전을 설치한다.\n",
        "# !pip install tensorflow-gpu==2.0.0-beta1\n",
        "import tensorflow as tf\n",
        "# tf.__version__"
      ],
      "execution_count": 0,
      "outputs": []
    },
    {
      "cell_type": "code",
      "metadata": {
        "id": "eg-utposV9l-",
        "colab_type": "code",
        "colab": {}
      },
      "source": [
        "from tensorflow import keras\n",
        "keras.__version__"
      ],
      "execution_count": 0,
      "outputs": []
    },
    {
      "cell_type": "code",
      "metadata": {
        "id": "zOmZ6Z6OWBhA",
        "colab_type": "code",
        "colab": {
          "base_uri": "https://localhost:8080/",
          "height": 85
        },
        "outputId": "a7c1412b-d237-4f6e-bf40-308f252c6e23"
      },
      "source": [
        "import pandas as pd\n",
        "import matplotlib.pyplot as plt\n",
        "import matplotlib.pyplot as mpl\n",
        "\n",
        "mnist = keras.datasets.mnist\n",
        "(X_train0, y_train0), (X_test0, y_test0) = mnist.load_data()\n",
        "\n",
        "\n",
        "plt.figure(figsize=(6, 1))\n",
        "for i in range(36):\n",
        "    plt.subplot(3, 12, i+1)\n",
        "    plt.imshow(X_train0[i], cmap=\"gray\")\n",
        "    plt.axis(\"off\")\n",
        "plt.show()"
      ],
      "execution_count": 30,
      "outputs": [
        {
          "output_type": "display_data",
          "data": {
            "image/png": "[encoded data removed]",
            "text/plain": [
              "<Figure size 432x72 with 36 Axes>"
            ]
          },
          "metadata": {
            "tags": []
          }
        }
      ]
    },
    {
      "cell_type": "code",
      "metadata": {
        "id": "oNSULBwjYoUQ",
        "colab_type": "code",
        "colab": {
          "base_uri": "https://localhost:8080/",
          "height": 172
        },
        "outputId": "f0412011-9556-42ae-d7a9-45e124ba9b81"
      },
      "source": [
        "help(tensorflow)"
      ],
      "execution_count": 19,
      "outputs": [
        {
          "output_type": "error",
          "ename": "NameError",
          "evalue": "ignored",
          "traceback": [
            "\u001b[0;31m---------------------------------------------------------------------------\u001b[0m",
            "\u001b[0;31mNameError\u001b[0m                                 Traceback (most recent call last)",
            "\u001b[0;32m<ipython-input-19-bd4ccf35a1a5>\u001b[0m in \u001b[0;36m<module>\u001b[0;34m()\u001b[0m\n\u001b[0;32m----> 1\u001b[0;31m \u001b[0mhelp\u001b[0m\u001b[0;34m(\u001b[0m\u001b[0mtensorflow\u001b[0m\u001b[0;34m)\u001b[0m\u001b[0;34m\u001b[0m\u001b[0;34m\u001b[0m\u001b[0m\n\u001b[0m",
            "\u001b[0;31mNameError\u001b[0m: name 'tensorflow' is not defined"
          ]
        }
      ]
    },
    {
      "cell_type": "code",
      "metadata": {
        "id": "lp9qkamdXdAx",
        "colab_type": "code",
        "colab": {}
      },
      "source": [
        "print(X_train0.shape, X_train0.dtype)\n",
        "print(y_train0.shape, y_train0.dtype)\n",
        "print(X_test0.shape, X_test0.dtype)\n",
        "print(y_test0.shape, y_test0.dtype)\n"
      ],
      "execution_count": 0,
      "outputs": []
    },
    {
      "cell_type": "code",
      "metadata": {
        "id": "IUEg94EBXsA9",
        "colab_type": "code",
        "colab": {}
      },
      "source": [
        "X_train = X_train0.reshape(60000, 784).astype('float32') / 255.0\n",
        "X_test = X_test0.reshape(10000, 784).astype('float32') / 255.0\n",
        "print(X_train.shape, X_train.dtype)"
      ],
      "execution_count": 0,
      "outputs": []
    },
    {
      "cell_type": "code",
      "metadata": {
        "id": "L0duJG5GZEqC",
        "colab_type": "code",
        "colab": {}
      },
      "source": [
        "y_train0[:5]"
      ],
      "execution_count": 0,
      "outputs": []
    },
    {
      "cell_type": "code",
      "metadata": {
        "id": "z-7qrwSNZZDH",
        "colab_type": "code",
        "colab": {}
      },
      "source": [
        "from tensorflow.keras.utils import to_categorical\n",
        "\n",
        "Y_train = to_categorical(y_train0, 10)\n",
        "Y_test = to_categorical(y_test0, 10)\n",
        "Y_train[:5]"
      ],
      "execution_count": 0,
      "outputs": []
    },
    {
      "cell_type": "code",
      "metadata": {
        "id": "iHhTuduBZ2Zi",
        "colab_type": "code",
        "colab": {}
      },
      "source": [
        "from tensorflow.keras.models import Sequential\n",
        "from tensorflow.keras.layers import Dense\n",
        "from tensorflow.keras.optimizers import Adam\n",
        "\n",
        "import numpy as np\n",
        "\n",
        "np.random.seed(0)\n",
        "\n",
        "model = Sequential()\n",
        "model.add(Dense(15, input_dim=784, activation=\"relu\"))\n",
        "model.add(Dense(10, activation=\"softmax\"))\n",
        "# model.compile(optimizer=Adam(lr=0.01), loss='mean_squared_error', metrics=[\"accuracy\"])\n",
        "model.compile(optimizer=Adam(lr=0.01), loss='categorical_crossentropy', metrics=[\"accuracy\"])"
      ],
      "execution_count": 0,
      "outputs": []
    },
    {
      "cell_type": "code",
      "metadata": {
        "id": "rcMXV3gMaRkn",
        "colab_type": "code",
        "colab": {
          "base_uri": "https://localhost:8080/",
          "height": 233
        },
        "outputId": "e9505e66-e413-4880-c19c-9f3d26b0b4a9"
      },
      "source": [
        "model.summary()"
      ],
      "execution_count": 34,
      "outputs": [
        {
          "output_type": "stream",
          "text": [
            "Model: \"sequential_2\"\n",
            "_________________________________________________________________\n",
            "Layer (type)                 Output Shape              Param #   \n",
            "=================================================================\n",
            "dense_4 (Dense)              (None, 15)                11775     \n",
            "_________________________________________________________________\n",
            "dense_5 (Dense)              (None, 10)                160       \n",
            "=================================================================\n",
            "Total params: 11,935\n",
            "Trainable params: 11,935\n",
            "Non-trainable params: 0\n",
            "_________________________________________________________________\n"
          ],
          "name": "stdout"
        }
      ]
    },
    {
      "cell_type": "code",
      "metadata": {
        "id": "YcsHtJVCaqzP",
        "colab_type": "code",
        "colab": {
          "base_uri": "https://localhost:8080/",
          "height": 53
        },
        "outputId": "e2fd187f-102f-4960-f244-4795e3a2f24e"
      },
      "source": [
        "l1 = model.layers[0]\n",
        "l2 = model.layers[1]\n",
        "\n",
        "print(l1.name, type(l1), l1.output_shape, l1.activation.__name__, l1.count_params())\n",
        "print(l2.name, type(l1), l2.output_shape, l2.activation.__name__, l2.count_params())"
      ],
      "execution_count": 22,
      "outputs": [
        {
          "output_type": "stream",
          "text": [
            "dense_2 <class 'tensorflow.python.keras.layers.core.Dense'> (None, 15) sigmoid 11775\n",
            "dense_3 <class 'tensorflow.python.keras.layers.core.Dense'> (None, 10) sigmoid 160\n"
          ],
          "name": "stdout"
        }
      ]
    },
    {
      "cell_type": "code",
      "metadata": {
        "id": "1As1dVNLcP9I",
        "colab_type": "code",
        "colab": {
          "base_uri": "https://localhost:8080/",
          "height": 791
        },
        "outputId": "46d0b1ce-62da-4476-80c2-73392dcb0acd"
      },
      "source": [
        "%%time\n",
        "hist = model.fit(X_train, Y_train,\n",
        "                 epochs=20, batch_size=100,\n",
        "                 validation_data=(X_test, Y_test),\n",
        "                 verbose=2) # 0, 1, 2"
      ],
      "execution_count": 44,
      "outputs": [
        {
          "output_type": "stream",
          "text": [
            "Train on 60000 samples, validate on 10000 samples\n",
            "Epoch 1/20\n",
            "60000/60000 - 1s - loss: 0.3928 - acc: 0.8874 - val_loss: 0.3059 - val_acc: 0.9135\n",
            "Epoch 2/20\n",
            "60000/60000 - 1s - loss: 0.2877 - acc: 0.9195 - val_loss: 0.2767 - val_acc: 0.9184\n",
            "Epoch 3/20\n",
            "60000/60000 - 1s - loss: 0.2686 - acc: 0.9226 - val_loss: 0.2785 - val_acc: 0.9204\n",
            "Epoch 4/20\n",
            "60000/60000 - 1s - loss: 0.2458 - acc: 0.9298 - val_loss: 0.2468 - val_acc: 0.9311\n",
            "Epoch 5/20\n",
            "60000/60000 - 1s - loss: 0.2366 - acc: 0.9312 - val_loss: 0.2423 - val_acc: 0.9290\n",
            "Epoch 6/20\n",
            "60000/60000 - 1s - loss: 0.2278 - acc: 0.9344 - val_loss: 0.2528 - val_acc: 0.9264\n",
            "Epoch 7/20\n",
            "60000/60000 - 1s - loss: 0.2242 - acc: 0.9351 - val_loss: 0.2559 - val_acc: 0.9261\n",
            "Epoch 8/20\n",
            "60000/60000 - 1s - loss: 0.2199 - acc: 0.9356 - val_loss: 0.2313 - val_acc: 0.9349\n",
            "Epoch 9/20\n",
            "60000/60000 - 1s - loss: 0.2172 - acc: 0.9373 - val_loss: 0.2473 - val_acc: 0.9299\n",
            "Epoch 10/20\n",
            "60000/60000 - 1s - loss: 0.2118 - acc: 0.9384 - val_loss: 0.2442 - val_acc: 0.9308\n",
            "Epoch 11/20\n",
            "60000/60000 - 1s - loss: 0.2085 - acc: 0.9393 - val_loss: 0.2346 - val_acc: 0.9350\n",
            "Epoch 12/20\n",
            "60000/60000 - 1s - loss: 0.2034 - acc: 0.9410 - val_loss: 0.2398 - val_acc: 0.9334\n",
            "Epoch 13/20\n",
            "60000/60000 - 1s - loss: 0.2012 - acc: 0.9416 - val_loss: 0.2387 - val_acc: 0.9345\n",
            "Epoch 14/20\n",
            "60000/60000 - 1s - loss: 0.2013 - acc: 0.9413 - val_loss: 0.2374 - val_acc: 0.9331\n",
            "Epoch 15/20\n",
            "60000/60000 - 1s - loss: 0.2024 - acc: 0.9414 - val_loss: 0.2445 - val_acc: 0.9296\n",
            "Epoch 16/20\n",
            "60000/60000 - 1s - loss: 0.1990 - acc: 0.9417 - val_loss: 0.2402 - val_acc: 0.9337\n",
            "Epoch 17/20\n",
            "60000/60000 - 1s - loss: 0.1980 - acc: 0.9421 - val_loss: 0.2365 - val_acc: 0.9338\n",
            "Epoch 18/20\n",
            "60000/60000 - 1s - loss: 0.1944 - acc: 0.9423 - val_loss: 0.2595 - val_acc: 0.9293\n",
            "Epoch 19/20\n",
            "60000/60000 - 1s - loss: 0.1977 - acc: 0.9427 - val_loss: 0.2591 - val_acc: 0.9259\n",
            "Epoch 20/20\n",
            "60000/60000 - 1s - loss: 0.1924 - acc: 0.9431 - val_loss: 0.2318 - val_acc: 0.9357\n",
            "CPU times: user 34.2 s, sys: 1.7 s, total: 35.9 s\n",
            "Wall time: 26.5 s\n"
          ],
          "name": "stdout"
        }
      ]
    },
    {
      "cell_type": "code",
      "metadata": {
        "id": "j_P9vTjsdTkv",
        "colab_type": "code",
        "colab": {
          "base_uri": "https://localhost:8080/",
          "height": 1000
        },
        "outputId": "3e5b7e5f-860f-430d-fd3d-a2807b5f16b2"
      },
      "source": [
        "plt.figure(figsize=(8, 4))\n",
        "plt.subplot(1, 2, 1)\n",
        "plt.plot(hist.history['loss'])\n",
        "plt.title(\"훈련 중 cost-function 그래프\")\n",
        "plt.ylabel(\"cost-function value\")\n",
        "plt.subplot(1, 2, 2)\n",
        "plt.title(\"훈련 중 성능지표 그래프\")\n",
        "plt.ylabel(\"성능지표 값\")\n",
        "plt.plot(hist.history['acc'], 'b-', label=\"학습 성능\")\n",
        "plt.plot(hist.history['val_acc'], 'r:', label=\"검증 성능\")\n",
        "plt.legend()\n",
        "plt.tight_layout()\n",
        "plt.show()"
      ],
      "execution_count": 24,
      "outputs": [
        {
          "output_type": "stream",
          "text": [
            "/usr/local/lib/python3.6/dist-packages/matplotlib/backends/backend_agg.py:211: RuntimeWarning: Glyph 54984 missing from current font.\n",
            "  font.set_text(s, 0.0, flags=flags)\n",
            "/usr/local/lib/python3.6/dist-packages/matplotlib/backends/backend_agg.py:211: RuntimeWarning: Glyph 47144 missing from current font.\n",
            "  font.set_text(s, 0.0, flags=flags)\n",
            "/usr/local/lib/python3.6/dist-packages/matplotlib/backends/backend_agg.py:211: RuntimeWarning: Glyph 51473 missing from current font.\n",
            "  font.set_text(s, 0.0, flags=flags)\n",
            "/usr/local/lib/python3.6/dist-packages/matplotlib/backends/backend_agg.py:211: RuntimeWarning: Glyph 44536 missing from current font.\n",
            "  font.set_text(s, 0.0, flags=flags)\n",
            "/usr/local/lib/python3.6/dist-packages/matplotlib/backends/backend_agg.py:211: RuntimeWarning: Glyph 47000 missing from current font.\n",
            "  font.set_text(s, 0.0, flags=flags)\n",
            "/usr/local/lib/python3.6/dist-packages/matplotlib/backends/backend_agg.py:211: RuntimeWarning: Glyph 54532 missing from current font.\n",
            "  font.set_text(s, 0.0, flags=flags)\n",
            "/usr/local/lib/python3.6/dist-packages/matplotlib/backends/backend_agg.py:211: RuntimeWarning: Glyph 49457 missing from current font.\n",
            "  font.set_text(s, 0.0, flags=flags)\n",
            "/usr/local/lib/python3.6/dist-packages/matplotlib/backends/backend_agg.py:211: RuntimeWarning: Glyph 45733 missing from current font.\n",
            "  font.set_text(s, 0.0, flags=flags)\n",
            "/usr/local/lib/python3.6/dist-packages/matplotlib/backends/backend_agg.py:211: RuntimeWarning: Glyph 51648 missing from current font.\n",
            "  font.set_text(s, 0.0, flags=flags)\n",
            "/usr/local/lib/python3.6/dist-packages/matplotlib/backends/backend_agg.py:211: RuntimeWarning: Glyph 54364 missing from current font.\n",
            "  font.set_text(s, 0.0, flags=flags)\n",
            "/usr/local/lib/python3.6/dist-packages/matplotlib/backends/backend_agg.py:211: RuntimeWarning: Glyph 44050 missing from current font.\n",
            "  font.set_text(s, 0.0, flags=flags)\n",
            "/usr/local/lib/python3.6/dist-packages/matplotlib/backends/backend_agg.py:211: RuntimeWarning: Glyph 54617 missing from current font.\n",
            "  font.set_text(s, 0.0, flags=flags)\n",
            "/usr/local/lib/python3.6/dist-packages/matplotlib/backends/backend_agg.py:211: RuntimeWarning: Glyph 49845 missing from current font.\n",
            "  font.set_text(s, 0.0, flags=flags)\n",
            "/usr/local/lib/python3.6/dist-packages/matplotlib/backends/backend_agg.py:211: RuntimeWarning: Glyph 44160 missing from current font.\n",
            "  font.set_text(s, 0.0, flags=flags)\n",
            "/usr/local/lib/python3.6/dist-packages/matplotlib/backends/backend_agg.py:211: RuntimeWarning: Glyph 51613 missing from current font.\n",
            "  font.set_text(s, 0.0, flags=flags)\n",
            "/usr/local/lib/python3.6/dist-packages/matplotlib/backends/backend_agg.py:180: RuntimeWarning: Glyph 54984 missing from current font.\n",
            "  font.set_text(s, 0, flags=flags)\n",
            "/usr/local/lib/python3.6/dist-packages/matplotlib/backends/backend_agg.py:180: RuntimeWarning: Glyph 47144 missing from current font.\n",
            "  font.set_text(s, 0, flags=flags)\n",
            "/usr/local/lib/python3.6/dist-packages/matplotlib/backends/backend_agg.py:180: RuntimeWarning: Glyph 51473 missing from current font.\n",
            "  font.set_text(s, 0, flags=flags)\n",
            "/usr/local/lib/python3.6/dist-packages/matplotlib/backends/backend_agg.py:180: RuntimeWarning: Glyph 44536 missing from current font.\n",
            "  font.set_text(s, 0, flags=flags)\n",
            "/usr/local/lib/python3.6/dist-packages/matplotlib/backends/backend_agg.py:180: RuntimeWarning: Glyph 47000 missing from current font.\n",
            "  font.set_text(s, 0, flags=flags)\n",
            "/usr/local/lib/python3.6/dist-packages/matplotlib/backends/backend_agg.py:180: RuntimeWarning: Glyph 54532 missing from current font.\n",
            "  font.set_text(s, 0, flags=flags)\n",
            "/usr/local/lib/python3.6/dist-packages/matplotlib/backends/backend_agg.py:180: RuntimeWarning: Glyph 49457 missing from current font.\n",
            "  font.set_text(s, 0, flags=flags)\n",
            "/usr/local/lib/python3.6/dist-packages/matplotlib/backends/backend_agg.py:180: RuntimeWarning: Glyph 45733 missing from current font.\n",
            "  font.set_text(s, 0, flags=flags)\n",
            "/usr/local/lib/python3.6/dist-packages/matplotlib/backends/backend_agg.py:180: RuntimeWarning: Glyph 51648 missing from current font.\n",
            "  font.set_text(s, 0, flags=flags)\n",
            "/usr/local/lib/python3.6/dist-packages/matplotlib/backends/backend_agg.py:180: RuntimeWarning: Glyph 54364 missing from current font.\n",
            "  font.set_text(s, 0, flags=flags)\n",
            "/usr/local/lib/python3.6/dist-packages/matplotlib/backends/backend_agg.py:180: RuntimeWarning: Glyph 44050 missing from current font.\n",
            "  font.set_text(s, 0, flags=flags)\n",
            "/usr/local/lib/python3.6/dist-packages/matplotlib/backends/backend_agg.py:180: RuntimeWarning: Glyph 54617 missing from current font.\n",
            "  font.set_text(s, 0, flags=flags)\n",
            "/usr/local/lib/python3.6/dist-packages/matplotlib/backends/backend_agg.py:180: RuntimeWarning: Glyph 49845 missing from current font.\n",
            "  font.set_text(s, 0, flags=flags)\n",
            "/usr/local/lib/python3.6/dist-packages/matplotlib/backends/backend_agg.py:180: RuntimeWarning: Glyph 44160 missing from current font.\n",
            "  font.set_text(s, 0, flags=flags)\n",
            "/usr/local/lib/python3.6/dist-packages/matplotlib/backends/backend_agg.py:180: RuntimeWarning: Glyph 51613 missing from current font.\n",
            "  font.set_text(s, 0, flags=flags)\n"
          ],
          "name": "stderr"
        },
        {
          "output_type": "display_data",
          "data": {
            "image/png": "[encoded data removed]",
            "text/plain": [
              "<Figure size 576x288 with 2 Axes>"
            ]
          },
          "metadata": {
            "tags": []
          }
        }
      ]
    },
    {
      "cell_type": "code",
      "metadata": {
        "id": "tNDwSi8rd9q2",
        "colab_type": "code",
        "colab": {
          "base_uri": "https://localhost:8080/",
          "height": 35
        },
        "outputId": "f2475e4a-a76f-415d-a946-8106266f4888"
      },
      "source": [
        "# 첫번째 레이어\n",
        "w1 = l1.get_weights()\n",
        "w1[0].shape, w1[1].shape"
      ],
      "execution_count": 25,
      "outputs": [
        {
          "output_type": "execute_result",
          "data": {
            "text/plain": [
              "((784, 15), (15,))"
            ]
          },
          "metadata": {
            "tags": []
          },
          "execution_count": 25
        }
      ]
    },
    {
      "cell_type": "code",
      "metadata": {
        "id": "gE6nlqCqd_mP",
        "colab_type": "code",
        "colab": {
          "base_uri": "https://localhost:8080/",
          "height": 35
        },
        "outputId": "36af9a12-af07-495f-97fb-68f6c94ab600"
      },
      "source": [
        "# 두번째 레이어\n",
        "w2 = l2.get_weights()\n",
        "w2[0].shape, w2[1].shape"
      ],
      "execution_count": 26,
      "outputs": [
        {
          "output_type": "execute_result",
          "data": {
            "text/plain": [
              "((15, 10), (10,))"
            ]
          },
          "metadata": {
            "tags": []
          },
          "execution_count": 26
        }
      ]
    },
    {
      "cell_type": "code",
      "metadata": {
        "id": "cxVLxdV_eBn-",
        "colab_type": "code",
        "colab": {
          "base_uri": "https://localhost:8080/",
          "height": 71
        },
        "outputId": "be4fe071-5abe-4aac-dc6f-a53151c14b3b"
      },
      "source": [
        "model.predict(X_test[:1, :])"
      ],
      "execution_count": 27,
      "outputs": [
        {
          "output_type": "execute_result",
          "data": {
            "text/plain": [
              "array([[4.1723251e-07, 8.7678432e-05, 0.0000000e+00, 1.9012299e-01,\n",
              "        1.6661111e-01, 5.6883693e-04, 2.0155111e-01, 4.0839523e-02,\n",
              "        3.7618736e-03, 5.8023997e-02]], dtype=float32)"
            ]
          },
          "metadata": {
            "tags": []
          },
          "execution_count": 27
        }
      ]
    },
    {
      "cell_type": "code",
      "metadata": {
        "id": "bE9LEIWGeCTo",
        "colab_type": "code",
        "colab": {
          "base_uri": "https://localhost:8080/",
          "height": 35
        },
        "outputId": "d67c46e1-027c-4fc3-bd6d-909427c251d6"
      },
      "source": [
        "model.predict_classes(X_test[:1, :], verbose=0)"
      ],
      "execution_count": 28,
      "outputs": [
        {
          "output_type": "execute_result",
          "data": {
            "text/plain": [
              "array([6])"
            ]
          },
          "metadata": {
            "tags": []
          },
          "execution_count": 28
        }
      ]
    },
    {
      "cell_type": "code",
      "metadata": {
        "id": "Q3xXF9EXeIre",
        "colab_type": "code",
        "colab": {
          "base_uri": "https://localhost:8080/",
          "height": 85
        },
        "outputId": "d2fc1644-fa90-4d2c-d150-6c4c990b4a08"
      },
      "source": [
        "plt.figure(figsize=(1, 1))\n",
        "plt.imshow(X_test0[0], cmap=mpl.cm.bone_r)\n",
        "plt.grid(False)\n",
        "plt.axis(\"off\")\n",
        "plt.show()"
      ],
      "execution_count": 31,
      "outputs": [
        {
          "output_type": "display_data",
          "data": {
            "image/png": "[encoded data removed]",
            "text/plain": [
              "<Figure size 72x72 with 1 Axes>"
            ]
          },
          "metadata": {
            "tags": []
          }
        }
      ]
    },
    {
      "cell_type": "code",
      "metadata": {
        "id": "PtjxxSv-ePgu",
        "colab_type": "code",
        "colab": {
          "base_uri": "https://localhost:8080/",
          "height": 35
        },
        "outputId": "bf0c0f3d-da95-4e4a-c802-a297de90c61c"
      },
      "source": [
        "print(model.predict_classes(X_test[:1, :], verbose=0))"
      ],
      "execution_count": 32,
      "outputs": [
        {
          "output_type": "stream",
          "text": [
            "[6]\n"
          ],
          "name": "stdout"
        }
      ]
    },
    {
      "cell_type": "code",
      "metadata": {
        "id": "8EhVamNieRXe",
        "colab_type": "code",
        "colab": {}
      },
      "source": [
        "model.save('my_model.hdf5')\n",
        "del model"
      ],
      "execution_count": 0,
      "outputs": []
    },
    {
      "cell_type": "code",
      "metadata": {
        "id": "wGARY1K7eRhW",
        "colab_type": "code",
        "outputId": "7d6b542a-9335-48ff-8950-c3d00519b656",
        "colab": {
          "base_uri": "https://localhost:8080/",
          "height": 163
        }
      },
      "source": [
        "from tensorflow.keras.models import load_model\n",
        "\n",
        "model2 = load_model('my_model.hdf5')\n",
        "print(model2.predict_classes(X_test[:1, :], verbose=0))"
      ],
      "execution_count": 0,
      "outputs": [
        {
          "output_type": "stream",
          "text": [
            "WARNING:tensorflow:From /usr/local/lib/python3.6/dist-packages/tensorflow_core/python/ops/init_ops.py:97: calling GlorotUniform.__init__ (from tensorflow.python.ops.init_ops) with dtype is deprecated and will be removed in a future version.\n",
            "Instructions for updating:\n",
            "Call initializer instance with the dtype argument instead of passing it to the constructor\n",
            "WARNING:tensorflow:From /usr/local/lib/python3.6/dist-packages/tensorflow_core/python/ops/init_ops.py:97: calling Zeros.__init__ (from tensorflow.python.ops.init_ops) with dtype is deprecated and will be removed in a future version.\n",
            "Instructions for updating:\n",
            "Call initializer instance with the dtype argument instead of passing it to the constructor\n",
            "[7]\n"
          ],
          "name": "stdout"
        }
      ]
    }
  ]
}