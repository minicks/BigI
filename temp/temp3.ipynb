{
  "nbformat": 4,
  "nbformat_minor": 0,
  "metadata": {
    "colab": {
      "name": "temp3.ipynb",
      "provenance": [],
      "mount_file_id": "198YuoBh5quj46c7vGK1sjEAe-KFTv5d1",
      "authorship_tag": "ABX9TyOcbipozt47JWmlNn1meGHK",
      "include_colab_link": true
    },
    "kernelspec": {
      "name": "python3",
      "display_name": "Python 3"
    },
    "accelerator": "GPU"
  },
  "cells": [
    {
      "cell_type": "markdown",
      "metadata": {
        "id": "view-in-github",
        "colab_type": "text"
      },
      "source": [
        "<a href=\"https://colab.research.google.com/github/minicks/BigI/blob/master/temp/temp3.ipynb\" target=\"_parent\"><img src=\"https://colab.research.google.com/assets/colab-badge.svg\" alt=\"Open In Colab\"/></a>"
      ]
    },
    {
      "cell_type": "markdown",
      "metadata": {
        "id": "db9sRxKfX_9y",
        "colab_type": "text"
      },
      "source": [
        "#1. 라이브러리 및 데이터\n",
        "Library & Data"
      ]
    },
    {
      "cell_type": "code",
      "metadata": {
        "id": "tVto_9QWXEpr",
        "colab_type": "code",
        "outputId": "108428dd-a267-4381-c213-ebc9ed0cfdc2",
        "colab": {
          "base_uri": "https://localhost:8080/",
          "height": 127
        }
      },
      "source": [
        "import os, sys \n",
        "from google.colab import drive \n",
        "drive.mount('/content/drive')"
      ],
      "execution_count": 0,
      "outputs": [
        {
          "output_type": "stream",
          "text": [
            "Go to this URL in a browser: https://accounts.google.com/o/oauth2/auth?client_id=947318989803-6bn6qk8qdgf4n4g3pfee6491hc0brc4i.apps.googleusercontent.com&redirect_uri=urn%3aietf%3awg%3aoauth%3a2.0%3aoob&response_type=code&scope=email%20https%3a%2f%2fwww.googleapis.com%2fauth%2fdocs.test%20https%3a%2f%2fwww.googleapis.com%2fauth%2fdrive%20https%3a%2f%2fwww.googleapis.com%2fauth%2fdrive.photos.readonly%20https%3a%2f%2fwww.googleapis.com%2fauth%2fpeopleapi.readonly\n",
            "\n",
            "Enter your authorization code:\n",
            "··········\n",
            "Mounted at /content/drive\n"
          ],
          "name": "stdout"
        }
      ]
    },
    {
      "cell_type": "code",
      "metadata": {
        "id": "-7bM-Zs_iv3e",
        "colab_type": "code",
        "outputId": "56b97de7-1eab-4fd1-cc4d-1fae2bbe53fe",
        "colab": {
          "base_uri": "https://localhost:8080/",
          "height": 64
        }
      },
      "source": [
        "import seaborn as sns\n",
        "import pandas as pd\n",
        "import numpy as np\n",
        "from tqdm import tqdm\n",
        "import random\n",
        "import tensorflow as tf\n",
        "import matplotlib.pyplot as plt\n",
        "import os"
      ],
      "execution_count": 0,
      "outputs": [
        {
          "output_type": "display_data",
          "data": {
            "text/html": [
              "<p style=\"color: red;\">\n",
              "The default version of TensorFlow in Colab will soon switch to TensorFlow 2.x.<br>\n",
              "We recommend you <a href=\"https://www.tensorflow.org/guide/migrate\" target=\"_blank\">upgrade</a> now \n",
              "or ensure your notebook will continue to use TensorFlow 1.x via the <code>%tensorflow_version 1.x</code> magic:\n",
              "<a href=\"https://colab.research.google.com/notebooks/tensorflow_version.ipynb\" target=\"_blank\">more info</a>.</p>\n"
            ],
            "text/plain": [
              "<IPython.core.display.HTML object>"
            ]
          },
          "metadata": {
            "tags": []
          }
        }
      ]
    },
    {
      "cell_type": "code",
      "metadata": {
        "id": "FmZ0GFBSQSn9",
        "colab_type": "code",
        "colab": {}
      },
      "source": [
        "# 재생산성을 위해 시드 고정\n",
        "np.random.seed(7)\n",
        "random.seed(7)\n"
      ],
      "execution_count": 0,
      "outputs": []
    },
    {
      "cell_type": "code",
      "metadata": {
        "id": "y3G9mbwpQUXE",
        "colab_type": "code",
        "colab": {}
      },
      "source": [
        "# 작업 환경 변경 \n",
        "os.chdir('/content/drive/My Drive/AI프렌즈/')"
      ],
      "execution_count": 0,
      "outputs": []
    },
    {
      "cell_type": "code",
      "metadata": {
        "id": "mwR0lrfQQZwF",
        "colab_type": "code",
        "colab": {}
      },
      "source": [
        "train = pd.read_csv('data/train.csv', index_col = 'id')\n",
        "test = pd.read_csv('data/test.csv', index_col = 'id')"
      ],
      "execution_count": 0,
      "outputs": []
    },
    {
      "cell_type": "markdown",
      "metadata": {
        "id": "qkJ6ZnqiqfEB",
        "colab_type": "text"
      },
      "source": [
        "# ㅁ"
      ]
    },
    {
      "cell_type": "code",
      "metadata": {
        "id": "Zhcj2a8OapnA",
        "colab_type": "code",
        "colab": {}
      },
      "source": [
        "train"
      ],
      "execution_count": 0,
      "outputs": []
    },
    {
      "cell_type": "code",
      "metadata": {
        "id": "6lVYQ0rLePCl",
        "colab_type": "code",
        "colab": {}
      },
      "source": [
        "trainX = train.iloc[: , 1:41]\n",
        "trainY = train.iloc[: , 42:]"
      ],
      "execution_count": 0,
      "outputs": []
    },
    {
      "cell_type": "code",
      "metadata": {
        "id": "iV4OKYWRelyQ",
        "colab_type": "code",
        "colab": {}
      },
      "source": [
        "trainX"
      ],
      "execution_count": 0,
      "outputs": []
    },
    {
      "cell_type": "code",
      "metadata": {
        "id": "HBfYMTlzesGZ",
        "colab_type": "code",
        "colab": {}
      },
      "source": [
        "#0~4319, 4320~4751\n",
        "trainY"
      ],
      "execution_count": 0,
      "outputs": []
    },
    {
      "cell_type": "markdown",
      "metadata": {
        "id": "OEQWLIoz_HqZ",
        "colab_type": "text"
      },
      "source": [
        "#2. 데이터 전처리\n",
        "Data Cleansing & Pre-Processing\n"
      ]
    },
    {
      "cell_type": "code",
      "metadata": {
        "id": "wxi76Whh_aPq",
        "colab_type": "code",
        "colab": {}
      },
      "source": [
        "# 기상청 데이터만 추출\n",
        "X_train = train.loc[:,'X00':'X39']\n",
        "\n",
        "# standardization을 위해 평균과 표준편차 구하기\n",
        "MEAN = X_train.mean()\n",
        "STD = X_train.std()\n",
        "\n",
        "# 표준편차가 0일 경우 대비하여 1e-07 추가 \n",
        "X_train = (X_train - MEAN) / (STD + 1e-07)"
      ],
      "execution_count": 0,
      "outputs": []
    },
    {
      "cell_type": "code",
      "metadata": {
        "id": "NISqB-jb_MCR",
        "colab_type": "code",
        "colab": {}
      },
      "source": [
        "# RNN 모델에 입력 할 수 있는 시계열 형태로 데이터 변환 \n",
        "def convert_to_timeseries(df, interval):\n",
        "    sequence_list = []\n",
        "    target_list = []\n",
        "    \n",
        "    for i in tqdm(range(df.shape[0] - interval)):\n",
        "        sequence_list.append(np.array(df.iloc[i:i+interval,:-1]))\n",
        "        target_list.append(df.iloc[i+interval,-1])\n",
        "    \n",
        "    sequence = np.array(sequence_list)\n",
        "    target = np.array(target_list)\n",
        "    \n",
        "    return sequence, target"
      ],
      "execution_count": 0,
      "outputs": []
    },
    {
      "cell_type": "code",
      "metadata": {
        "id": "51ZteoA4_u9W",
        "colab_type": "code",
        "outputId": "8ffab517-66b7-4313-e992-6d24c7d072c0",
        "colab": {
          "base_uri": "https://localhost:8080/",
          "height": 35
        }
      },
      "source": [
        "y_columns = ['Y16']\n",
        "# t시점 이전 120분의 데이터로 t시점의 온도를 추정할 수 있는 학습데이터 형성\n",
        "sequence = np.empty((0, 12, 40))\n",
        "target = np.empty((0,))\n",
        "for column in y_columns :\n",
        "    \n",
        "    concat = pd.concat([trainX, train[column]], axis = 1)\n",
        "\n",
        "    _sequence, _target = convert_to_timeseries(concat.head(144*30), interval = 12)\n",
        "\n",
        "    sequence = np.vstack((sequence, _sequence))\n",
        "    target = np.hstack((target, _target))"
      ],
      "execution_count": 0,
      "outputs": [
        {
          "output_type": "stream",
          "text": [
            "100%|██████████| 4308/4308 [00:01<00:00, 3240.76it/s]\n"
          ],
          "name": "stderr"
        }
      ]
    },
    {
      "cell_type": "code",
      "metadata": {
        "id": "CsfZUKv5C9PF",
        "colab_type": "code",
        "colab": {}
      },
      "source": [
        "# convert_to_timeseries 함수를 쓰기 위한 dummy feature 생성\n",
        "X_train['dummy'] = 0"
      ],
      "execution_count": 0,
      "outputs": []
    },
    {
      "cell_type": "code",
      "metadata": {
        "id": "IcxwJAfPDKfp",
        "colab_type": "code",
        "colab": {}
      },
      "source": [
        "# train set에서 도출된 평균과 표준편차로 standardization 실시 \n",
        "test = (test - MEAN) / (STD + 1e-07)"
      ],
      "execution_count": 0,
      "outputs": []
    },
    {
      "cell_type": "code",
      "metadata": {
        "id": "cQ5E2k3BYFVG",
        "colab_type": "code",
        "colab": {}
      },
      "source": [
        "# convert_to_timeseries 함수를 쓰기 위한 dummy feature 생성\n",
        "test['dummy'] = 0"
      ],
      "execution_count": 0,
      "outputs": []
    },
    {
      "cell_type": "code",
      "metadata": {
        "id": "ulebnfqQYHpS",
        "colab_type": "code",
        "outputId": "a022f093-39e8-467a-ee6c-84641479db45",
        "colab": {
          "base_uri": "https://localhost:8080/",
          "height": 35
        }
      },
      "source": [
        "# train과 test 기간을 합쳐서 120분 간격으로 학습데이터 재구축\n",
        "X_test, _ = convert_to_timeseries(pd.concat([X_train, test], axis = 0), interval=12)"
      ],
      "execution_count": 0,
      "outputs": [
        {
          "output_type": "stream",
          "text": [
            "100%|██████████| 16260/16260 [00:06<00:00, 2386.91it/s]\n"
          ],
          "name": "stderr"
        }
      ]
    },
    {
      "cell_type": "code",
      "metadata": {
        "id": "-La4pAKuYJmu",
        "colab_type": "code",
        "colab": {}
      },
      "source": [
        "# test set 기간인 후반부 80일에 맞게 자르기 \n",
        "X_test = X_test[-11520:, :, :]"
      ],
      "execution_count": 0,
      "outputs": []
    },
    {
      "cell_type": "code",
      "metadata": {
        "id": "HUau8yq8YKNK",
        "colab_type": "code",
        "colab": {}
      },
      "source": [
        "# 만들어 두었던 dummy feature 제거\n",
        "X_train.drop('dummy', axis = 1, inplace = True)\n",
        "test.drop('dummy', axis = 1, inplace = True)"
      ],
      "execution_count": 0,
      "outputs": []
    },
    {
      "cell_type": "markdown",
      "metadata": {
        "id": "OHXxs3qsCo2v",
        "colab_type": "text"
      },
      "source": [
        "#4. 변수 선택 및 모델 구축 \n",
        "Feature Engineering & Initial Modeling"
      ]
    },
    {
      "cell_type": "code",
      "metadata": {
        "id": "R2pbecinCoS9",
        "colab_type": "code",
        "outputId": "d3b8a3a0-4aae-43d9-96c3-48e98e1d841a",
        "colab": {
          "base_uri": "https://localhost:8080/"
        }
      },
      "source": [
        "# 간단한 lstm 모델 구축하기 \n",
        "simple_lstm_model = tf.keras.models.Sequential([\n",
        "    tf.keras.layers.LSTM(128, input_shape=sequence.shape[-2:]),\n",
        "    tf.keras.layers.Dense(256, activation='linear'),\n",
        "    tf.keras.layers.Dense(128, activation='linear'),\n",
        "    tf.keras.layers.Dense(1)\n",
        "])\n",
        "\n",
        "simple_lstm_model.compile(optimizer='adam', loss='mse')"
      ],
      "execution_count": 0,
      "outputs": [
        {
          "output_type": "stream",
          "text": [
            "WARNING:tensorflow:From /usr/local/lib/python3.6/dist-packages/tensorflow_core/python/ops/resource_variable_ops.py:1630: calling BaseResourceVariable.__init__ (from tensorflow.python.ops.resource_variable_ops) with constraint is deprecated and will be removed in a future version.\n",
            "Instructions for updating:\n",
            "If using Keras pass *_constraint arguments to layers.\n"
          ],
          "name": "stdout"
        }
      ]
    },
    {
      "cell_type": "markdown",
      "metadata": {
        "id": "yjovOUh2C5qN",
        "colab_type": "text"
      },
      "source": [
        "#5. 모델 학습 및 검증\n",
        "Model Tuning & Evaluation"
      ]
    },
    {
      "cell_type": "code",
      "metadata": {
        "id": "Ukfq3s8vC7PH",
        "colab_type": "code",
        "colab": {}
      },
      "source": [
        "# loss가 4미만으로 떨어지면 학습 종료 시키는 기능\n",
        "class myCallback(tf.keras.callbacks.Callback):\n",
        "    def on_epoch_end(self, epoch, logs = None):\n",
        "        if(logs.get('loss') < 4):\n",
        "            print('\\n Loss is under 4, cancelling training')\n",
        "            self.model.stop_training = True"
      ],
      "execution_count": 0,
      "outputs": []
    },
    {
      "cell_type": "code",
      "metadata": {
        "id": "Y2TR6HoxFLsd",
        "colab_type": "code",
        "colab": {}
      },
      "source": [
        "callbacks = myCallback()"
      ],
      "execution_count": 0,
      "outputs": []
    },
    {
      "cell_type": "code",
      "metadata": {
        "id": "b6KfITg_FOkU",
        "colab_type": "code",
        "colab": {}
      },
      "source": [
        "# 모델 학습\n",
        "simple_lstm_model.fit(    \n",
        "    sequence, target,\n",
        "    epochs=60,\n",
        "    batch_size=128,\n",
        "    verbose=2,\n",
        "    shuffle=False,\n",
        "    callbacks = [callbacks]\n",
        ")"
      ],
      "execution_count": 0,
      "outputs": []
    },
    {
      "cell_type": "code",
      "metadata": {
        "id": "2DhfZZypFQsn",
        "colab_type": "code",
        "colab": {}
      },
      "source": [
        "# LSTM 레이어는 고정\n",
        "simple_lstm_model.layers[0].trainable = False"
      ],
      "execution_count": 0,
      "outputs": []
    },
    {
      "cell_type": "code",
      "metadata": {
        "id": "8Ddj0yZvFSwD",
        "colab_type": "code",
        "colab": {}
      },
      "source": [
        "# fine tuning 할 때 사용할 학습데이터 생성 (Y18)\n",
        "finetune_X, finetune_y = convert_to_timeseries(pd.concat([X_train.tail(432), train['Y18'].tail(432)], axis = 1), interval=12)\n"
      ],
      "execution_count": 0,
      "outputs": []
    },
    {
      "cell_type": "code",
      "metadata": {
        "id": "51GZR4gaFUvF",
        "colab_type": "code",
        "colab": {}
      },
      "source": [
        "# LSTM 레이어는 고정 시켜두고, DNN 레이어에 대해서 fine tuning 진행 (Transfer Learning)\n",
        "finetune_history = simple_lstm_model.fit(\n",
        "            finetune_X, finetune_y,\n",
        "            epochs=20,\n",
        "            batch_size=64,\n",
        "            shuffle=False,\n",
        "            verbose = 2)"
      ],
      "execution_count": 0,
      "outputs": []
    },
    {
      "cell_type": "code",
      "metadata": {
        "id": "tESMgfZ4FWyo",
        "colab_type": "code",
        "colab": {}
      },
      "source": [
        "# 예측하기 \n",
        "finetune_pred = simple_lstm_model.predict(X_test)"
      ],
      "execution_count": 0,
      "outputs": []
    },
    {
      "cell_type": "code",
      "metadata": {
        "id": "yjjj0RkxFYQe",
        "colab_type": "code",
        "colab": {}
      },
      "source": [
        "# 제출 파일 만들기\n",
        "submit = pd.DataFrame({'id':range(144*33, 144*113),\n",
        "              'Y18':finetune_pred.reshape(1,-1)[0]})"
      ],
      "execution_count": 0,
      "outputs": []
    },
    {
      "cell_type": "code",
      "metadata": {
        "id": "cHJyoQUuFZtF",
        "colab_type": "code",
        "colab": {}
      },
      "source": [
        "submit.to_csv('baseline_result.csv', index = False)"
      ],
      "execution_count": 0,
      "outputs": []
    },
    {
      "cell_type": "code",
      "metadata": {
        "id": "igsFTbOKeBF1",
        "colab_type": "code",
        "outputId": "31e621c3-3ba9-4f35-efa9-f498f6bd47eb",
        "colab": {
          "base_uri": "https://localhost:8080/",
          "height": 35
        }
      },
      "source": [
        "%pwd"
      ],
      "execution_count": 0,
      "outputs": [
        {
          "output_type": "execute_result",
          "data": {
            "text/plain": [
              "'/content/drive/My Drive/AI프렌즈'"
            ]
          },
          "metadata": {
            "tags": []
          },
          "execution_count": 29
        }
      ]
    },
    {
      "cell_type": "code",
      "metadata": {
        "id": "zHlMjwXmeHyI",
        "colab_type": "code",
        "outputId": "63f76884-51fb-40c4-a696-7d7770973224",
        "colab": {
          "base_uri": "https://localhost:8080/",
          "height": 35
        }
      },
      "source": [
        "%cd .."
      ],
      "execution_count": 0,
      "outputs": [
        {
          "output_type": "stream",
          "text": [
            "/content/drive/My Drive\n"
          ],
          "name": "stdout"
        }
      ]
    },
    {
      "cell_type": "code",
      "metadata": {
        "id": "jhKttMi8eL8i",
        "colab_type": "code",
        "colab": {}
      },
      "source": [
        "%ls"
      ],
      "execution_count": 0,
      "outputs": []
    },
    {
      "cell_type": "code",
      "metadata": {
        "id": "mbLJ593rePCp",
        "colab_type": "code",
        "outputId": "cfac4277-fcac-40f7-ba39-cc578ed7e4b0",
        "colab": {
          "base_uri": "https://localhost:8080/",
          "height": 53
        }
      },
      "source": [
        "%cd notebooks"
      ],
      "execution_count": 0,
      "outputs": [
        {
          "output_type": "stream",
          "text": [
            "[Errno 2] No such file or directory: 'notebooks'\n",
            "/content/drive/My Drive\n"
          ],
          "name": "stdout"
        }
      ]
    },
    {
      "cell_type": "markdown",
      "metadata": {
        "id": "J_qkSjellcy5",
        "colab_type": "text"
      },
      "source": [
        "#TEST"
      ]
    },
    {
      "cell_type": "code",
      "metadata": {
        "id": "iIty_xvTjDjW",
        "colab_type": "code",
        "colab": {}
      },
      "source": [
        "y18 = train[~train['Y18'].isnull()]['Y18'].reset_index(drop= True)\n",
        "no_y18_target = ['Y00', 'Y01', 'Y02', 'Y03', 'Y04', 'Y05', 'Y06', 'Y07', 'Y08','Y09', 'Y10', 'Y11', 'Y12', 'Y13', 'Y14', 'Y15', 'Y16', 'Y17']\n",
        "no_y18 = train[(train['Y18'].isnull()) & (train['id'] > 3887)][no_y18_target].reset_index(drop = True)\n",
        "check_target = pd.concat([no_y18, y18], axis = 1)"
      ],
      "execution_count": 0,
      "outputs": []
    },
    {
      "cell_type": "code",
      "metadata": {
        "id": "2K6nXk2Ek0SL",
        "colab_type": "code",
        "colab": {}
      },
      "source": [
        "correlations =  check_target.corr()\n",
        "plt.figure(figsize = (14, 12))\n",
        "\n",
        "# Heatmap of correlations\n",
        "sns.heatmap(correlations, cmap = plt.cm.RdYlBu_r,  vmin = 0.2, annot = True, vmax = 0.9)\n",
        "plt.title('Correlation Heatmap');"
      ],
      "execution_count": 0,
      "outputs": []
    },
    {
      "cell_type": "code",
      "metadata": {
        "id": "CEd3Z6ob8y67",
        "colab_type": "code",
        "colab": {}
      },
      "source": [
        "trainY.describe(include='all')"
      ],
      "execution_count": 0,
      "outputs": []
    },
    {
      "cell_type": "code",
      "metadata": {
        "id": "p2S5-RU09En1",
        "colab_type": "code",
        "colab": {}
      },
      "source": [
        "train.info()"
      ],
      "execution_count": 0,
      "outputs": []
    }
  ]
}