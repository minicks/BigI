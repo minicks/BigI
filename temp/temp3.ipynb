{
  "nbformat": 4,
  "nbformat_minor": 0,
  "metadata": {
    "colab": {
      "name": "temp3.ipynb",
      "provenance": [],
      "toc_visible": true,
      "mount_file_id": "198YuoBh5quj46c7vGK1sjEAe-KFTv5d1",
      "authorship_tag": "ABX9TyNMyo0kyIUsmgXinE2ObsFc",
      "include_colab_link": true
    },
    "kernelspec": {
      "name": "python3",
      "display_name": "Python 3"
    },
    "accelerator": "GPU"
  },
  "cells": [
    {
      "cell_type": "markdown",
      "metadata": {
        "id": "view-in-github",
        "colab_type": "text"
      },
      "source": [
        "<a href=\"https://colab.research.google.com/github/minicks/BigI/blob/master/temp/temp3.ipynb\" target=\"_parent\"><img src=\"https://colab.research.google.com/assets/colab-badge.svg\" alt=\"Open In Colab\"/></a>"
      ]
    },
    {
      "cell_type": "markdown",
      "metadata": {
        "id": "db9sRxKfX_9y",
        "colab_type": "text"
      },
      "source": [
        "#1. 라이브러리 및 데이터\n",
        "Library & Data"
      ]
    },
    {
      "cell_type": "code",
      "metadata": {
        "id": "tVto_9QWXEpr",
        "colab_type": "code",
        "colab": {}
      },
      "source": [
        "import os, sys \n",
        "from google.colab import drive \n",
        "drive.mount('/content/drive')"
      ],
      "execution_count": 0,
      "outputs": []
    },
    {
      "cell_type": "code",
      "metadata": {
        "id": "-7bM-Zs_iv3e",
        "colab_type": "code",
        "colab": {}
      },
      "source": [
        "import seaborn as sns\n",
        "import pandas as pd\n",
        "import numpy as np\n",
        "from tqdm import tqdm\n",
        "import random\n",
        "import tensorflow as tf\n",
        "import matplotlib.pyplot as plt\n",
        "import os"
      ],
      "execution_count": 0,
      "outputs": []
    },
    {
      "cell_type": "code",
      "metadata": {
        "id": "FmZ0GFBSQSn9",
        "colab_type": "code",
        "colab": {}
      },
      "source": [
        "# 재생산성을 위해 시드 고정\n",
        "np.random.seed(7)\n",
        "random.seed(7)\n"
      ],
      "execution_count": 0,
      "outputs": []
    },
    {
      "cell_type": "code",
      "metadata": {
        "id": "y3G9mbwpQUXE",
        "colab_type": "code",
        "colab": {}
      },
      "source": [
        "# 작업 환경 변경 \n",
        "os.chdir('/content/drive/My Drive/AI프렌즈/')"
      ],
      "execution_count": 0,
      "outputs": []
    },
    {
      "cell_type": "code",
      "metadata": {
        "id": "mwR0lrfQQZwF",
        "colab_type": "code",
        "colab": {}
      },
      "source": [
        "train = pd.read_csv('data/train.csv', index_col = 'id')\n",
        "test = pd.read_csv('data/test.csv', index_col = 'id')"
      ],
      "execution_count": 0,
      "outputs": []
    },
    {
      "cell_type": "markdown",
      "metadata": {
        "id": "OEQWLIoz_HqZ",
        "colab_type": "text"
      },
      "source": [
        "#2. 데이터 전처리\n",
        "Data Cleansing & Pre-Processing\n"
      ]
    },
    {
      "cell_type": "code",
      "metadata": {
        "id": "wxi76Whh_aPq",
        "colab_type": "code",
        "colab": {}
      },
      "source": [
        "# 기상청 데이터만 추출\n",
        "X_train = train.loc[:,'X00':'X39']\n",
        "\n",
        "# standardization을 위해 평균과 표준편차 구하기\n",
        "MEAN = X_train.mean()\n",
        "STD = X_train.std()\n",
        "\n",
        "# 표준편차가 0일 경우 대비하여 1e-07 추가 \n",
        "X_train = (X_train - MEAN) / (STD + 1e-07)"
      ],
      "execution_count": 0,
      "outputs": []
    },
    {
      "cell_type": "code",
      "metadata": {
        "id": "NISqB-jb_MCR",
        "colab_type": "code",
        "colab": {}
      },
      "source": [
        "# RNN 모델에 입력 할 수 있는 시계열 형태로 데이터 변환 \n",
        "def convert_to_timeseries(df, interval):\n",
        "    sequence_list = []\n",
        "    target_list = []\n",
        "    \n",
        "    for i in tqdm(range(df.shape[0] - interval)):\n",
        "        sequence_list.append(np.array(df.iloc[i:i+interval,:-1]))\n",
        "        target_list.append(df.iloc[i+interval,-1])\n",
        "    \n",
        "    sequence = np.array(sequence_list)\n",
        "    target = np.array(target_list)\n",
        "    \n",
        "    return sequence, target"
      ],
      "execution_count": 0,
      "outputs": []
    },
    {
      "cell_type": "code",
      "metadata": {
        "id": "51ZteoA4_u9W",
        "colab_type": "code",
        "outputId": "fc46eb91-81df-4f84-f1c6-b1c15564a816",
        "colab": {
          "base_uri": "https://localhost:8080/",
          "height": 53
        }
      },
      "source": [
        "y_columns = ['Y15','Y16']\n",
        "# t시점 이전 120분의 데이터로 t시점의 온도를 추정할 수 있는 학습데이터 형성\n",
        "sequence = np.empty((0, 12, 40))\n",
        "target = np.empty((0,))\n",
        "for column in y_columns :\n",
        "    \n",
        "    concat = pd.concat([X_train, train[column]], axis = 1)\n",
        "\n",
        "    _sequence, _target = convert_to_timeseries(concat.head(144*30), interval = 12)\n",
        "\n",
        "    sequence = np.vstack((sequence, _sequence))\n",
        "    target = np.hstack((target, _target))"
      ],
      "execution_count": 14,
      "outputs": [
        {
          "output_type": "stream",
          "text": [
            "100%|██████████| 4308/4308 [00:01<00:00, 3578.69it/s]\n",
            "100%|██████████| 4308/4308 [00:01<00:00, 3759.21it/s]\n"
          ],
          "name": "stderr"
        }
      ]
    },
    {
      "cell_type": "code",
      "metadata": {
        "id": "CsfZUKv5C9PF",
        "colab_type": "code",
        "colab": {}
      },
      "source": [
        "# convert_to_timeseries 함수를 쓰기 위한 dummy feature 생성\n",
        "X_train['dummy'] = 0"
      ],
      "execution_count": 0,
      "outputs": []
    },
    {
      "cell_type": "code",
      "metadata": {
        "id": "IcxwJAfPDKfp",
        "colab_type": "code",
        "colab": {}
      },
      "source": [
        "# train set에서 도출된 평균과 표준편차로 standardization 실시 \n",
        "test = (test - MEAN) / (STD + 1e-07)"
      ],
      "execution_count": 0,
      "outputs": []
    },
    {
      "cell_type": "code",
      "metadata": {
        "id": "cQ5E2k3BYFVG",
        "colab_type": "code",
        "colab": {}
      },
      "source": [
        "# convert_to_timeseries 함수를 쓰기 위한 dummy feature 생성\n",
        "test['dummy'] = 0"
      ],
      "execution_count": 0,
      "outputs": []
    },
    {
      "cell_type": "code",
      "metadata": {
        "id": "ulebnfqQYHpS",
        "colab_type": "code",
        "outputId": "e9311325-54ea-43e1-b529-a01b186a8366",
        "colab": {
          "base_uri": "https://localhost:8080/",
          "height": 35
        }
      },
      "source": [
        "# train과 test 기간을 합쳐서 120분 간격으로 학습데이터 재구축\n",
        "X_test, _ = convert_to_timeseries(pd.concat([X_train, test], axis = 0), interval=12)"
      ],
      "execution_count": 18,
      "outputs": [
        {
          "output_type": "stream",
          "text": [
            "100%|██████████| 16260/16260 [00:05<00:00, 2788.75it/s]\n"
          ],
          "name": "stderr"
        }
      ]
    },
    {
      "cell_type": "code",
      "metadata": {
        "id": "-La4pAKuYJmu",
        "colab_type": "code",
        "colab": {}
      },
      "source": [
        "# test set 기간인 후반부 80일에 맞게 자르기 \n",
        "X_test = X_test[-11520:, :, :]"
      ],
      "execution_count": 0,
      "outputs": []
    },
    {
      "cell_type": "code",
      "metadata": {
        "id": "HUau8yq8YKNK",
        "colab_type": "code",
        "colab": {}
      },
      "source": [
        "# 만들어 두었던 dummy feature 제거\n",
        "X_train.drop('dummy', axis = 1, inplace = True)\n",
        "test.drop('dummy', axis = 1, inplace = True)"
      ],
      "execution_count": 0,
      "outputs": []
    },
    {
      "cell_type": "markdown",
      "metadata": {
        "id": "OHXxs3qsCo2v",
        "colab_type": "text"
      },
      "source": [
        "#4. 변수 선택 및 모델 구축 \n",
        "Feature Engineering & Initial Modeling"
      ]
    },
    {
      "cell_type": "code",
      "metadata": {
        "id": "R2pbecinCoS9",
        "colab_type": "code",
        "colab": {}
      },
      "source": [
        "# Metric define\n",
        "def mse_keras(y_true, y_pred):\n",
        "  def mse_AIFrenz(y_true, y_pred):\n",
        "    diff = abs(y_true - y_pred)\n",
        "    less_then_one = np.where(diff < 1, 0, diff)\n",
        "    # multi-column일 경우에도 계산 할 수 있도록 np.average를 한번 더 씌움\n",
        "    try:\n",
        "        score = np.average(np.average(less_then_one ** 2, axis = 0))\n",
        "    except ValueError:\n",
        "        score = mean_squared_error(y_true, y_pred)\n",
        "    return score\n",
        "\n",
        "  score = tf.py_function(func=mse_AIFrenz, inp=[y_true, y_pred], Tout=tf.float32,  name='custom_mse') # tf 2.x\n",
        "  #score = tf.py_func( lambda y_true, y_pred : mse_AIFrenz(y_true, y_pred) , [y_true, y_pred], 'float32', stateful = False, name = 'custom_mse' ) # tf 1.x\n",
        "  return score\n",
        "\n",
        "# Model build\n",
        "def build_model(lr):\n",
        "  simple_lstm_model = tf.keras.models.Sequential([\n",
        "      tf.keras.layers.LSTM(128, input_shape=sequence.shape[-2:]),\n",
        "      tf.keras.layers.Dense(128, activation='linear'),\n",
        "      tf.keras.layers.Dense(64, activation='linear'),\n",
        "      tf.keras.layers.Dense(1)\n",
        "  ])\n",
        "  \n",
        "  # opt = tf.keras.optimizers.RMSprop(lr)\n",
        "  opt = tf.keras.optimizers.Adam(lr)\n",
        "  \n",
        "  simple_lstm_model.compile(optimizer=opt, loss='mse', metrics=[mse_keras])\n",
        "\n",
        "  return simple_lstm_model\n",
        "\n",
        "LEARNINGRATE = 0.001\n",
        "simple_lstm_model = build_model(LEARNINGRATE)\n",
        "simple_lstm_model.summary()"
      ],
      "execution_count": 0,
      "outputs": []
    },
    {
      "cell_type": "markdown",
      "metadata": {
        "id": "yjovOUh2C5qN",
        "colab_type": "text"
      },
      "source": [
        "#5. 모델 학습 및 검증\n",
        "Model Tuning & Evaluation"
      ]
    },
    {
      "cell_type": "code",
      "metadata": {
        "id": "Ukfq3s8vC7PH",
        "colab_type": "code",
        "colab": {}
      },
      "source": [
        "# loss가 4미만으로 떨어지면 학습 종료 시키는 기능\n",
        "class myCallback(tf.keras.callbacks.Callback):\n",
        "    def on_epoch_end(self, epoch, logs = None):\n",
        "        if(logs.get('loss') < 4):\n",
        "            print('\\n Loss is under 4, cancelling training')\n",
        "            self.model.stop_training = True"
      ],
      "execution_count": 0,
      "outputs": []
    },
    {
      "cell_type": "code",
      "metadata": {
        "id": "Y2TR6HoxFLsd",
        "colab_type": "code",
        "colab": {}
      },
      "source": [
        "callbacks = myCallback()"
      ],
      "execution_count": 0,
      "outputs": []
    },
    {
      "cell_type": "code",
      "metadata": {
        "id": "b6KfITg_FOkU",
        "colab_type": "code",
        "colab": {}
      },
      "source": [
        "# 모델 학습\n",
        "simple_lstm_model.fit(    \n",
        "    sequence, target,\n",
        "    epochs=60,\n",
        "    batch_size=128,\n",
        "    verbose=2,\n",
        "    shuffle=False,\n",
        "    callbacks = [callbacks]\n",
        ")"
      ],
      "execution_count": 0,
      "outputs": []
    },
    {
      "cell_type": "code",
      "metadata": {
        "id": "2DhfZZypFQsn",
        "colab_type": "code",
        "colab": {}
      },
      "source": [
        "# LSTM 레이어는 고정\n",
        "simple_lstm_model.layers[0].trainable = False"
      ],
      "execution_count": 0,
      "outputs": []
    },
    {
      "cell_type": "code",
      "metadata": {
        "id": "8Ddj0yZvFSwD",
        "colab_type": "code",
        "colab": {
          "base_uri": "https://localhost:8080/",
          "height": 35
        },
        "outputId": "9978004a-a6e6-47d1-8b82-67c6676909e3"
      },
      "source": [
        "# fine tuning 할 때 사용할 학습데이터 생성 (Y18)\n",
        "finetune_X, finetune_y = convert_to_timeseries(pd.concat([X_train.tail(432), train['Y18'].tail(432)], axis = 1), interval=12)\n"
      ],
      "execution_count": 26,
      "outputs": [
        {
          "output_type": "stream",
          "text": [
            "100%|██████████| 420/420 [00:00<00:00, 2348.73it/s]\n"
          ],
          "name": "stderr"
        }
      ]
    },
    {
      "cell_type": "code",
      "metadata": {
        "id": "51GZR4gaFUvF",
        "colab_type": "code",
        "colab": {}
      },
      "source": [
        "# LSTM 레이어는 고정 시켜두고, DNN 레이어에 대해서 fine tuning 진행 (Transfer Learning)\n",
        "finetune_history = simple_lstm_model.fit(\n",
        "            finetune_X, finetune_y,\n",
        "            epochs=20,\n",
        "            batch_size=64,\n",
        "            shuffle=False,\n",
        "            verbose = 2)"
      ],
      "execution_count": 0,
      "outputs": []
    },
    {
      "cell_type": "code",
      "metadata": {
        "id": "tESMgfZ4FWyo",
        "colab_type": "code",
        "colab": {}
      },
      "source": [
        "# 예측하기 \n",
        "finetune_pred = simple_lstm_model.predict(X_test)"
      ],
      "execution_count": 0,
      "outputs": []
    },
    {
      "cell_type": "code",
      "metadata": {
        "id": "yjjj0RkxFYQe",
        "colab_type": "code",
        "colab": {}
      },
      "source": [
        "# 제출 파일 만들기\n",
        "submit = pd.DataFrame({'id':range(144*33, 144*113),\n",
        "              'Y18':finetune_pred.reshape(1,-1)[0]})"
      ],
      "execution_count": 0,
      "outputs": []
    },
    {
      "cell_type": "code",
      "metadata": {
        "id": "cHJyoQUuFZtF",
        "colab_type": "code",
        "colab": {}
      },
      "source": [
        "submit.to_csv('baseline_result2.csv', index = False)"
      ],
      "execution_count": 0,
      "outputs": []
    },
    {
      "cell_type": "code",
      "metadata": {
        "id": "mpVDTUEMgpVv",
        "colab_type": "code",
        "colab": {}
      },
      "source": [
        "X_test"
      ],
      "execution_count": 0,
      "outputs": []
    },
    {
      "cell_type": "code",
      "metadata": {
        "id": "UUNE35XGfoC-",
        "colab_type": "code",
        "colab": {}
      },
      "source": [
        "a = finetune_pred.flatten()\n",
        "print(len(a))\n",
        "\n",
        "plt.figure(figsize=(16,8))\n",
        "plt.plot(a)\n",
        "plt.plot(test.loc[:,['X00','X07','X28','X31','X32']].values) # 강수량\n",
        "#test.loc[:,['X00','X07','X28','X31','X32']].plot(figsize=(16,8),title='기온')\n",
        "x_ = 144\n",
        "while x_ < 144*80: \n",
        "  plt.axvline(x=x_, color='b', linestyle='--', linewidth=1)\n",
        "  x_ += 144\n",
        "plt.show()"
      ],
      "execution_count": 0,
      "outputs": []
    },
    {
      "cell_type": "code",
      "metadata": {
        "id": "ByJS67gGjBg2",
        "colab_type": "code",
        "colab": {}
      },
      "source": [
        "test.loc[:,['X00','X07','X28','X31','X32']].plot(figsize=(16,8),title='기온')"
      ],
      "execution_count": 0,
      "outputs": []
    },
    {
      "cell_type": "code",
      "metadata": {
        "id": "oZHCyhnFjUCb",
        "colab_type": "code",
        "colab": {}
      },
      "source": [
        "test"
      ],
      "execution_count": 0,
      "outputs": []
    },
    {
      "cell_type": "markdown",
      "metadata": {
        "id": "J_qkSjellcy5",
        "colab_type": "text"
      },
      "source": [
        "#TEST"
      ]
    },
    {
      "cell_type": "code",
      "metadata": {
        "id": "iIty_xvTjDjW",
        "colab_type": "code",
        "colab": {}
      },
      "source": [
        "y18 = train[~train['Y18'].isnull()]['Y18'].reset_index(drop= True)\n",
        "no_y18_target = ['Y00', 'Y01', 'Y02', 'Y03', 'Y04', 'Y05', 'Y06', 'Y07', 'Y08','Y09', 'Y10', 'Y11', 'Y12', 'Y13', 'Y14', 'Y15', 'Y16', 'Y17']\n",
        "no_y18 = train[(train['Y18'].isnull()) & (train['id'] > 3887)][no_y18_target].reset_index(drop = True)\n",
        "check_target = pd.concat([no_y18, y18], axis = 1)"
      ],
      "execution_count": 0,
      "outputs": []
    },
    {
      "cell_type": "code",
      "metadata": {
        "id": "2K6nXk2Ek0SL",
        "colab_type": "code",
        "colab": {}
      },
      "source": [
        "correlations =  check_target.corr()\n",
        "plt.figure(figsize = (14, 12))\n",
        "\n",
        "# Heatmap of correlations\n",
        "sns.heatmap(correlations, cmap = plt.cm.RdYlBu_r,  vmin = 0.2, annot = True, vmax = 0.9)\n",
        "plt.title('Correlation Heatmap');"
      ],
      "execution_count": 0,
      "outputs": []
    },
    {
      "cell_type": "code",
      "metadata": {
        "id": "CEd3Z6ob8y67",
        "colab_type": "code",
        "colab": {}
      },
      "source": [
        "trainY.describe(include='all')"
      ],
      "execution_count": 0,
      "outputs": []
    },
    {
      "cell_type": "code",
      "metadata": {
        "id": "p2S5-RU09En1",
        "colab_type": "code",
        "colab": {}
      },
      "source": [
        "train.info()"
      ],
      "execution_count": 0,
      "outputs": []
    },
    {
      "cell_type": "code",
      "metadata": {
        "id": "dcOc2qIgkU7b",
        "colab_type": "code",
        "colab": {}
      },
      "source": [
        "plt.figure(figsize=(16,8))\n",
        "plt.plot(train.loc[:,['Y18']].values)\n",
        "plt.plot(train.loc[:,['X00','X07','X28','X31','X32']].values) # 기온\n",
        "#test.loc[:,['X00','X07','X28','X31','X32']].plot(figsize=(16,8),title='기온')\n",
        "x_ = 144\n",
        "while x_ < 144*80: \n",
        "  plt.axvline(x=x_, color='b', linestyle='--', linewidth=1)\n",
        "  x_ += 144\n",
        "plt.show()"
      ],
      "execution_count": 0,
      "outputs": []
    }
  ]
}