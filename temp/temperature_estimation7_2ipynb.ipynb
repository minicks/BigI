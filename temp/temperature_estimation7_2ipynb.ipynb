{
  "nbformat": 4,
  "nbformat_minor": 0,
  "metadata": {
    "colab": {
      "name": "temperature_estimation7-2ipynb",
      "provenance": [],
      "collapsed_sections": [
        "WJcXQaWYB-e_",
        "BFeWiagW9fRt",
        "3lafZNWH9buB",
        "MKLpXzjIKkM7",
        "BX8Uy9OcB_Pt",
        "ez5xZG8VW2zo"
      ],
      "include_colab_link": true
    },
    "kernelspec": {
      "name": "python3",
      "display_name": "Python 3"
    },
    "accelerator": "GPU"
  },
  "cells": [
    {
      "cell_type": "markdown",
      "metadata": {
        "id": "view-in-github",
        "colab_type": "text"
      },
      "source": [
        "<a href=\"https://colab.research.google.com/github/minicks/BigI/blob/master/temp/temperature_estimation7_2ipynb.ipynb\" target=\"_parent\"><img src=\"https://colab.research.google.com/assets/colab-badge.svg\" alt=\"Open In Colab\"/></a>"
      ]
    },
    {
      "cell_type": "markdown",
      "metadata": {
        "id": "WJcXQaWYB-e_",
        "colab_type": "text"
      },
      "source": [
        "# Setting"
      ]
    },
    {
      "cell_type": "code",
      "metadata": {
        "id": "xUPdWRijqX2q",
        "colab_type": "code",
        "colab": {}
      },
      "source": [
        "from google.colab import drive\n",
        "drive.mount('/content/drive')"
      ],
      "execution_count": 0,
      "outputs": []
    },
    {
      "cell_type": "code",
      "metadata": {
        "id": "b_pErNSyBrQN",
        "colab_type": "code",
        "colab": {}
      },
      "source": [
        "#!pip install tensorflow==2.1.0"
      ],
      "execution_count": 0,
      "outputs": []
    },
    {
      "cell_type": "code",
      "metadata": {
        "id": "EIAeKVZqB4x8",
        "colab_type": "code",
        "colab": {}
      },
      "source": [
        "#!pip install tensorflow-gpu "
      ],
      "execution_count": 0,
      "outputs": []
    },
    {
      "cell_type": "code",
      "metadata": {
        "id": "ljHPOVVCrgDJ",
        "colab_type": "code",
        "colab": {}
      },
      "source": [
        "import numpy as np\n",
        "import pandas as pd\n",
        "from tqdm import tqdm\n",
        "import random\n",
        "import tensorflow as tf\n",
        "import os\n",
        "import pickle\n",
        "import warnings \n",
        "import matplotlib\n",
        "import matplotlib.pyplot as plt\n",
        "import seaborn as sns\n",
        "from sklearn.model_selection import train_test_split\n",
        "from sklearn.preprocessing import MinMaxScaler\n",
        "from sklearn.feature_selection import SelectPercentile\n",
        "from matplotlib import style\n",
        "from sklearn.feature_selection import mutual_info_regression\n",
        "from pandas import DataFrame as df\n",
        "\n",
        "warnings.filterwarnings('ignore')\n",
        "%matplotlib inline\n"
      ],
      "execution_count": 0,
      "outputs": []
    },
    {
      "cell_type": "code",
      "metadata": {
        "id": "tulIdw1BCYkh",
        "colab_type": "code",
        "colab": {}
      },
      "source": [
        "print(tf.__version__)\n",
        "print(tf.test.is_gpu_available())"
      ],
      "execution_count": 0,
      "outputs": []
    },
    {
      "cell_type": "code",
      "metadata": {
        "id": "UJhTtqITDkL0",
        "colab_type": "code",
        "colab": {}
      },
      "source": [
        "np.random.seed(7)\n",
        "random.seed(7)\n",
        "tf.random.set_seed(7)"
      ],
      "execution_count": 0,
      "outputs": []
    },
    {
      "cell_type": "code",
      "metadata": {
        "id": "3DbdrSRaDsTM",
        "colab_type": "code",
        "colab": {}
      },
      "source": [
        "os.chdir('/content/drive/My Drive/Dacon/온도 추정')"
      ],
      "execution_count": 0,
      "outputs": []
    },
    {
      "cell_type": "markdown",
      "metadata": {
        "id": "hHtwnrQKqtyq",
        "colab_type": "text"
      },
      "source": [
        "# 데이터 로드 및 데이터 확인\n",
        "\n",
        "\n",
        "\n",
        "\n",
        "> 데이터 설명 \n",
        "\n",
        "모든 데이터는 시간순으로 정렬되어있으며, 10분 단위로 측정됨\n",
        "\n",
        "*   train 데이터 \n",
        "\n",
        "\n",
        "1.   X00 ~ X39 : 5개의 지역에 대해 8가지씩 속성 칼럼 (관측소 데이터) ( 30일 + 3일 )\n",
        "2.   Y00 ~ Y17 : 센서로 온도 측정\n",
        "( 30일 o , 3일 x )\n",
        "\n",
        "3. Y18 : 예측 센서 ( 30일 x, 3일 o)\n",
        "\n",
        "*   test 데이터\n",
        "\n",
        "1.  X00 ~ X39 : 80일간 관측한 8가지 속성에대한 5개 지역의 관측소 데이터\n",
        "\n"
      ]
    },
    {
      "cell_type": "markdown",
      "metadata": {
        "id": "BFeWiagW9fRt",
        "colab_type": "text"
      },
      "source": [
        "## 기본적인 데이터 정보 확인\n"
      ]
    },
    {
      "cell_type": "code",
      "metadata": {
        "id": "Dbf0xQwXv69i",
        "colab_type": "code",
        "colab": {}
      },
      "source": [
        "train = pd.read_csv('/content/drive/My Drive/Dacon/온도 추정/train.csv', index_col = 'id')\n",
        "test = pd.read_csv('/content/drive/My Drive/Dacon/온도 추정/test.csv',index_col = 'id')"
      ],
      "execution_count": 0,
      "outputs": []
    },
    {
      "cell_type": "code",
      "metadata": {
        "id": "g4LoLWcmqpQp",
        "colab_type": "code",
        "colab": {}
      },
      "source": [
        "all_data = pd.concat([train.loc[:,'X00':'X39'],test], sort = False)"
      ],
      "execution_count": 0,
      "outputs": []
    },
    {
      "cell_type": "code",
      "metadata": {
        "id": "e9u3mi7RsADp",
        "colab_type": "code",
        "colab": {}
      },
      "source": [
        "train.columns"
      ],
      "execution_count": 0,
      "outputs": []
    },
    {
      "cell_type": "code",
      "metadata": {
        "id": "Gi_BNsAysG_7",
        "colab_type": "code",
        "colab": {}
      },
      "source": [
        "test.columns"
      ],
      "execution_count": 0,
      "outputs": []
    },
    {
      "cell_type": "code",
      "metadata": {
        "id": "GaRXzwissWBh",
        "colab_type": "code",
        "colab": {}
      },
      "source": [
        "train.head()"
      ],
      "execution_count": 0,
      "outputs": []
    },
    {
      "cell_type": "code",
      "metadata": {
        "id": "GPy3CdnLsprf",
        "colab_type": "code",
        "colab": {}
      },
      "source": [
        "train.shape"
      ],
      "execution_count": 0,
      "outputs": []
    },
    {
      "cell_type": "code",
      "metadata": {
        "id": "N5zCwcsWtEQU",
        "colab_type": "code",
        "colab": {}
      },
      "source": [
        "train.info()"
      ],
      "execution_count": 0,
      "outputs": []
    },
    {
      "cell_type": "code",
      "metadata": {
        "id": "YyIwzNVRsa5G",
        "colab_type": "code",
        "colab": {}
      },
      "source": [
        "test.head()"
      ],
      "execution_count": 0,
      "outputs": []
    },
    {
      "cell_type": "code",
      "metadata": {
        "id": "IZkuNmTRsuXJ",
        "colab_type": "code",
        "colab": {}
      },
      "source": [
        "test.shape"
      ],
      "execution_count": 0,
      "outputs": []
    },
    {
      "cell_type": "code",
      "metadata": {
        "id": "hyuyfpFotNAD",
        "colab_type": "code",
        "colab": {}
      },
      "source": [
        "test.info()"
      ],
      "execution_count": 0,
      "outputs": []
    },
    {
      "cell_type": "markdown",
      "metadata": {
        "id": "3lafZNWH9buB",
        "colab_type": "text"
      },
      "source": [
        "## 주요 속성 살펴보기(X00~X39)"
      ]
    },
    {
      "cell_type": "code",
      "metadata": {
        "id": "zAwHCXNN9qZP",
        "colab_type": "code",
        "colab": {}
      },
      "source": [
        "# 데이터 정보\n",
        "temperature_name = [\"X00\",\"X07\",\"X28\",\"X31\",\"X32\"] #기온\n",
        "localpress_name  = [\"X01\",\"X06\",\"X22\",\"X27\",\"X29\"] #현지기압\n",
        "speed_name       = [\"X02\",\"X03\",\"X18\",\"X24\",\"X26\"] #풍속\n",
        "water_name       = [\"X04\",\"X10\",\"X21\",\"X36\",\"X39\"] #일일 누적강수량\n",
        "press_name       = [\"X05\",\"X08\",\"X09\",\"X23\",\"X33\"] #해면기압\n",
        "sun_name         = [\"X11\",\"X14\",\"X16\",\"X19\",\"X34\"] #일일 누적일사량 - sun으로 대체\n",
        "humidity_name    = [\"X12\",\"X20\",\"X30\",\"X37\",\"X38\"] #습도\n",
        "direction_name   = [\"X13\",\"X15\",\"X17\",\"X25\",\"X35\"] #풍향\n",
        "press_sum_name = [\"X01\",\"X06\",\"X22\",\"X27\",\"X29\",\"X05\",\"X08\",\"X09\",\"X23\",\"X33\"]\n",
        "x_columns = [temperature_name, localpress_name, speed_name, water_name, press_name, sun_name, humidity_name, direction_name]"
      ],
      "execution_count": 0,
      "outputs": []
    },
    {
      "cell_type": "code",
      "metadata": {
        "id": "kt8wIPNLAEEf",
        "colab_type": "code",
        "colab": {}
      },
      "source": [
        "def show_plot(col_group):\n",
        "    plt.plot(all_data[col_group])\n",
        "    plt.show()\n",
        "    sns.boxplot(x='variable', y='value', data=pd.melt(all_data[col_group]))\n",
        "    plt.show()"
      ],
      "execution_count": 0,
      "outputs": []
    },
    {
      "cell_type": "code",
      "metadata": {
        "id": "I3XE09T6D2i8",
        "colab_type": "code",
        "colab": {}
      },
      "source": [
        "def kde_plot(col_group):\n",
        "    for col in col_group:\n",
        "        sns.kdeplot(all_data[col], kernel='epa')\n",
        "    plt.show()"
      ],
      "execution_count": 0,
      "outputs": []
    },
    {
      "cell_type": "markdown",
      "metadata": {
        "id": "Gx-BbZb7KZLX",
        "colab_type": "text"
      },
      "source": [
        "###X00~ X39 Plot"
      ]
    },
    {
      "cell_type": "code",
      "metadata": {
        "id": "VQzNe608L4SD",
        "colab_type": "code",
        "colab": {}
      },
      "source": [
        "#컬럼에 대한 기초통계량 확인 (행별 계산)\n",
        "for i in x_columns:\n",
        "  print(i)\n",
        "  print(train[i].describe())\n",
        "\n",
        "#요소를 인덱스별로 합쳐서 하나의 컬럼으로 생성!  (열별 계산)\n",
        "#pd.Series(train[temperature_name].mean(axis = 1))"
      ],
      "execution_count": 0,
      "outputs": []
    },
    {
      "cell_type": "code",
      "metadata": {
        "id": "bDk4sW24F1ho",
        "colab_type": "code",
        "colab": {}
      },
      "source": [
        "# 기온\n",
        "show_plot(temperature_name)\n",
        "kde_plot(temperature_name)"
      ],
      "execution_count": 0,
      "outputs": []
    },
    {
      "cell_type": "code",
      "metadata": {
        "id": "97Fe41NlHQOy",
        "colab_type": "code",
        "colab": {}
      },
      "source": [
        "# 현지 기압\n",
        "show_plot(localpress_name )\n",
        "kde_plot(localpress_name )"
      ],
      "execution_count": 0,
      "outputs": []
    },
    {
      "cell_type": "code",
      "metadata": {
        "id": "HvPxox8vIYML",
        "colab_type": "code",
        "colab": {}
      },
      "source": [
        "# 풍속\n",
        "show_plot(speed_name)\n",
        "kde_plot(speed_name)"
      ],
      "execution_count": 0,
      "outputs": []
    },
    {
      "cell_type": "code",
      "metadata": {
        "id": "aKChwdosImM4",
        "colab_type": "code",
        "colab": {}
      },
      "source": [
        "# 강수량\n",
        "show_plot(water_name)\n",
        "kde_plot(water_name)"
      ],
      "execution_count": 0,
      "outputs": []
    },
    {
      "cell_type": "code",
      "metadata": {
        "id": "3BLcw_PxI1za",
        "colab_type": "code",
        "colab": {}
      },
      "source": [
        "# 해면기압\n",
        "show_plot(press_name)\n",
        "kde_plot(press_name)"
      ],
      "execution_count": 0,
      "outputs": []
    },
    {
      "cell_type": "code",
      "metadata": {
        "id": "V2DOQz3kJFiL",
        "colab_type": "code",
        "colab": {}
      },
      "source": [
        "# 누적일사량\n",
        "show_plot(sun_name)\n",
        "kde_plot(sun_name)"
      ],
      "execution_count": 0,
      "outputs": []
    },
    {
      "cell_type": "code",
      "metadata": {
        "id": "fD2O5J1eJPmr",
        "colab_type": "code",
        "colab": {}
      },
      "source": [
        "# 습도\n",
        "show_plot(humidity_name)\n",
        "kde_plot(humidity_name)"
      ],
      "execution_count": 0,
      "outputs": []
    },
    {
      "cell_type": "code",
      "metadata": {
        "id": "7p2xiviuJh3n",
        "colab_type": "code",
        "colab": {}
      },
      "source": [
        "# 풍향\n",
        "show_plot(direction_name)\n",
        "kde_plot(direction_name)"
      ],
      "execution_count": 0,
      "outputs": []
    },
    {
      "cell_type": "markdown",
      "metadata": {
        "id": "MKLpXzjIKkM7",
        "colab_type": "text"
      },
      "source": [
        "## 주요 속성 살펴보기(Y00~Y18)\n"
      ]
    },
    {
      "cell_type": "code",
      "metadata": {
        "id": "bd9iiPUuJ81V",
        "colab_type": "code",
        "colab": {}
      },
      "source": [
        "# Y00 ~ Y17 plot\n",
        "col_y17 = []\n",
        "for i in range(18):\n",
        "    col_y17.append('Y{:02d}'.format(i))\n",
        "\n",
        "plt.figure(figsize=(9, 6))\n",
        "plt.plot(train[col_y17])\n",
        "plt.show()"
      ],
      "execution_count": 0,
      "outputs": []
    },
    {
      "cell_type": "code",
      "metadata": {
        "id": "oIRs6bAIKH7i",
        "colab_type": "code",
        "colab": {}
      },
      "source": [
        "col_y18 = col_y17 + ['Y18']\n",
        "plt.figure(figsize=(9, 6))\n",
        "train[col_y18].boxplot()\n",
        "plt.show()"
      ],
      "execution_count": 0,
      "outputs": []
    },
    {
      "cell_type": "code",
      "metadata": {
        "id": "9KkKLa7mKTgi",
        "colab_type": "code",
        "colab": {}
      },
      "source": [
        "# Y18\n",
        "plt.figure(figsize=(9, 6))\n",
        "sns.distplot(train['Y18'])\n",
        "plt.show()"
      ],
      "execution_count": 0,
      "outputs": []
    },
    {
      "cell_type": "code",
      "metadata": {
        "id": "ppcee3m_K0-Y",
        "colab_type": "code",
        "colab": {}
      },
      "source": [
        "plt.figure(figsize=(9, 3))\n",
        "sns.boxplot(train['Y18'])\n",
        "plt.show()"
      ],
      "execution_count": 0,
      "outputs": []
    },
    {
      "cell_type": "markdown",
      "metadata": {
        "id": "BX8Uy9OcB_Pt",
        "colab_type": "text"
      },
      "source": [
        "## correlation 파악"
      ]
    },
    {
      "cell_type": "markdown",
      "metadata": {
        "id": "pfn2qj1YwSDh",
        "colab_type": "text"
      },
      "source": [
        "### 전체 히트맵 그려보기\n",
        "\n",
        "\n",
        "1.   X00~39와 Y00~17\n",
        "2.   X00~39와 Y18\n",
        "3.   각특성간 관계\n",
        "\n"
      ]
    },
    {
      "cell_type": "code",
      "metadata": {
        "id": "0jnCaClz4w7o",
        "colab_type": "code",
        "colab": {}
      },
      "source": [
        "train_for_heatmap = train.iloc[:,:-1]\n",
        "train_for_heatmap = train_for_heatmap.dropna()\n",
        "train_for_heatmap"
      ],
      "execution_count": 0,
      "outputs": []
    },
    {
      "cell_type": "code",
      "metadata": {
        "id": "WRxrs0nN5_kb",
        "colab_type": "code",
        "colab": {}
      },
      "source": [
        "plt.rcParams['figure.figsize'] = [60,30]\n",
        "correlations = train_for_heatmap.corr()\n",
        "\n",
        "sns.heatmap(correlations, cmap = plt.cm.RdYlBu_r, vmin = 0.2, annot= True, vmax = 0.9)\n",
        "plt.title('Correlation Heatmap')"
      ],
      "execution_count": 0,
      "outputs": []
    },
    {
      "cell_type": "code",
      "metadata": {
        "id": "0YGU1NDe9DGg",
        "colab_type": "code",
        "colab": {}
      },
      "source": [
        "train_for_heatmap2 = train.iloc[4320:,0:40]\n",
        "train_for_heatmap3 = train.iloc[:,-1]\n",
        "train_for_heatmap3 = train_for_heatmap3.dropna()\n",
        "train_for_heatmap_Y18 = pd.concat([train_for_heatmap2, train_for_heatmap3],axis = 1)"
      ],
      "execution_count": 0,
      "outputs": []
    },
    {
      "cell_type": "code",
      "metadata": {
        "id": "8fmJ9pII-z--",
        "colab_type": "code",
        "colab": {}
      },
      "source": [
        "plt.rcParams['figure.figsize'] = [60,30]\n",
        "correlations2 = train_for_heatmap_Y18.corr()\n",
        "\n",
        "sns.heatmap(correlations2, cmap = plt.cm.RdYlBu_r, vmin = 0.2, annot= True, vmax = 0.9)\n",
        "plt.title('Correlation Heatmap Y18')"
      ],
      "execution_count": 0,
      "outputs": []
    },
    {
      "cell_type": "code",
      "metadata": {
        "id": "rm49vDurAYVb",
        "colab_type": "code",
        "colab": {}
      },
      "source": [
        "# Y18과 관계없는 속성들\n",
        "train.loc[:,['X04','X16','X19','X36']].T"
      ],
      "execution_count": 0,
      "outputs": []
    },
    {
      "cell_type": "code",
      "metadata": {
        "id": "PO6MME5Mj2VK",
        "colab_type": "code",
        "colab": {}
      },
      "source": [
        "train_for_heatmap4 = train.loc[:,humidity_name]\n",
        "train_for_heatmap5 = train.loc[:,humidity_name]\n",
        "train_for_heatmap_water = pd.concat([train_for_heatmap4, train_for_heatmap5],axis = 1)\n",
        "\n",
        "plt.rcParams['figure.figsize'] = [30,15]\n",
        "correlations_water = train_for_heatmap_water.corr()\n",
        "\n",
        "sns.heatmap(correlations_water, cmap = plt.cm.RdYlBu_r, vmin = 0.2, annot= True, vmax = 0.9)\n",
        "plt.title('Correlation Heatmap water')"
      ],
      "execution_count": 0,
      "outputs": []
    },
    {
      "cell_type": "markdown",
      "metadata": {
        "id": "9pnv59hjIUqv",
        "colab_type": "text"
      },
      "source": [
        "### Y00~Y18 사이의 관계 파악하기\n"
      ]
    },
    {
      "cell_type": "code",
      "metadata": {
        "id": "dfjefC8zIacC",
        "colab_type": "code",
        "colab": {}
      },
      "source": [
        "target = ['Y00', 'Y01', 'Y02', 'Y03', 'Y04', 'Y05', 'Y06', 'Y07', 'Y08','Y09', 'Y10', 'Y11', 'Y12', 'Y13', 'Y14', 'Y15', 'Y16', 'Y17', 'Y18']\n",
        "train[target].head()"
      ],
      "execution_count": 0,
      "outputs": []
    },
    {
      "cell_type": "code",
      "metadata": {
        "id": "7VTLIfQ0Ioip",
        "colab_type": "code",
        "colab": {}
      },
      "source": [
        "temp = train[train['Y18'].isnull()]\n",
        "temp"
      ],
      "execution_count": 0,
      "outputs": []
    },
    {
      "cell_type": "code",
      "metadata": {
        "id": "uXCJB2ZQN0qg",
        "colab_type": "code",
        "colab": {}
      },
      "source": [
        "temp = train[~train['Y18'].isnull()]\n",
        "temp"
      ],
      "execution_count": 0,
      "outputs": []
    },
    {
      "cell_type": "code",
      "metadata": {
        "id": "uWf5LxyDODuQ",
        "colab_type": "code",
        "colab": {}
      },
      "source": [
        "y18 = train[~train['Y18'].isnull()]['Y18'].reset_index(drop = True)\n",
        "y18"
      ],
      "execution_count": 0,
      "outputs": []
    },
    {
      "cell_type": "code",
      "metadata": {
        "id": "yfHCbAAlO3L3",
        "colab_type": "code",
        "colab": {}
      },
      "source": [
        "no_y18_target = ['Y00', 'Y01', 'Y02', 'Y03', 'Y04', 'Y05', 'Y06', 'Y07', 'Y08','Y09', 'Y10', 'Y11', 'Y12', 'Y13', 'Y14', 'Y15', 'Y16', 'Y17']\n",
        "no_y18 = train[(train['Y18'].isnull()) & (train.index > 3887)][no_y18_target].reset_index(drop=True)\n",
        "no_y18"
      ],
      "execution_count": 0,
      "outputs": []
    },
    {
      "cell_type": "code",
      "metadata": {
        "id": "1XEnrO_fRM0A",
        "colab_type": "code",
        "colab": {}
      },
      "source": [
        "check_target = pd.concat([no_y18,y18],axis = 1)\n",
        "check_target"
      ],
      "execution_count": 0,
      "outputs": []
    },
    {
      "cell_type": "code",
      "metadata": {
        "id": "t4-IAt6tRZ_P",
        "colab_type": "code",
        "colab": {}
      },
      "source": [
        "correlations3 = check_target.corr()\n",
        "plt.rcParams['figure.figsize'] = [14,12]\n",
        "\n",
        "sns.heatmap(correlations3, cmap = plt.cm.RdYlBu_r, vmin = 0.2, annot = True, vmax = 0.9)\n",
        "plt.title('Correlation Heatmap Y00~17~18')"
      ],
      "execution_count": 0,
      "outputs": []
    },
    {
      "cell_type": "code",
      "metadata": {
        "id": "PS6edn2zS_HG",
        "colab_type": "code",
        "colab": {}
      },
      "source": [
        "check_target.reset_index(inplace = True)\n",
        "check_target"
      ],
      "execution_count": 0,
      "outputs": []
    },
    {
      "cell_type": "code",
      "metadata": {
        "id": "l-MPt9IwPlDU",
        "colab_type": "code",
        "colab": {}
      },
      "source": [
        "#인풋: 기준 컬럼이 속한 데이터프레임, 기준 컬럼, 기준 상관계수 \n",
        "#아웃풋: 기준 컬럼과 상관계수가 기준 상관계수보다 높은 컬럼들의 이름\n",
        "\n",
        "def high_corr(df, col, ratio):\n",
        "    #Y에 대한 상관계수 데이터프레임 생성\n",
        "    Y_corr = df.corr()\n",
        "    Y_high = Y_corr.loc[:,Y_corr[col]> ratio].columns\n",
        "    return Y_high.drop(col)\n",
        "\n",
        "#인풋 생성: Y컬럼들\n",
        "df = train.loc[:,\"Y00\":\"Y17\"]\n",
        "#아웃풋 생성: Y17과 상관계수가 0.8 이상인 Y컬럼들\n",
        "Y_high = high_corr(df, \"Y17\", 0.8)\n",
        "print(\"Y17와 상관계수가 높은 Y컬럼들 \", Y_high.tolist())\n",
        "\n",
        "#응용\n",
        "#Y_high = high_corr(df, \"Y18\", 0.8)"
      ],
      "execution_count": 0,
      "outputs": []
    },
    {
      "cell_type": "code",
      "metadata": {
        "id": "fdNxGP4qSb6K",
        "colab_type": "code",
        "colab": {}
      },
      "source": [
        "fig, ax = plt.subplots(figsize = (10,7))\n",
        "sns.lineplot(data=check_target, x='index', y='Y18', color='green', ax=ax)\n",
        "sns.lineplot(data=check_target, x='index', y='Y03', color='purple', ax=ax)\n",
        "sns.lineplot(data=check_target, x='index', y='Y04', color='red', ax=ax)\n",
        "plt.legend(['Y18', 'Y03', 'Y04'])\n",
        "plt.show()"
      ],
      "execution_count": 0,
      "outputs": []
    },
    {
      "cell_type": "code",
      "metadata": {
        "id": "OgCebvyqmyKF",
        "colab_type": "code",
        "colab": {}
      },
      "source": [
        "fig, ax = plt.subplots(figsize=(10, 7))\n",
        "sns.lineplot(data=check_target, x='index', y='Y18', color='green', ax=ax)\n",
        "sns.lineplot(data=check_target, x='index', y='Y16', color='purple', ax=ax)\n",
        "sns.lineplot(data=check_target, x='index', y='Y15', color='red', ax=ax)\n",
        "plt.legend(['Y18', 'Y16', 'Y15'])\n",
        "plt.show()"
      ],
      "execution_count": 0,
      "outputs": []
    },
    {
      "cell_type": "code",
      "metadata": {
        "id": "5QnOuBHwm8qc",
        "colab_type": "code",
        "colab": {}
      },
      "source": [
        "# 결론\n",
        "#Y00~Y18을 종합하여 하나의 target attribute를 만들어야 한다.\n",
        "#Y18이 우리가 실제로 예측해야 할 장소이다.\n",
        "#Y03과 Y04는 Y18과 다른 양상을 띄고 있다.\n",
        "#해당 장소들은 아예 삭제를 하고 분석을 진행하는 등의 어떠한 조치가 필요할 것으로 생각된다."
      ],
      "execution_count": 0,
      "outputs": []
    },
    {
      "cell_type": "markdown",
      "metadata": {
        "id": "zIklOBzqA-4H",
        "colab_type": "text"
      },
      "source": [
        "# Transfer Learning 기법 베이스 라인\n"
      ]
    },
    {
      "cell_type": "markdown",
      "metadata": {
        "id": "SXljftIQBg-z",
        "colab_type": "text"
      },
      "source": [
        "## 1. 데이터 전처리"
      ]
    },
    {
      "cell_type": "markdown",
      "metadata": {
        "id": "ez5xZG8VW2zo",
        "colab_type": "text"
      },
      "source": [
        "### 1-1 id 시간 변수 만들기\n"
      ]
    },
    {
      "cell_type": "code",
      "metadata": {
        "id": "iHW2zmX9Xz5s",
        "colab_type": "code",
        "colab": {}
      },
      "source": [
        "minute = (train.index%144).astype(int)\n",
        "hour= pd.Series((train.index%144/6).astype(int))"
      ],
      "execution_count": 0,
      "outputs": []
    },
    {
      "cell_type": "code",
      "metadata": {
        "id": "6rEp1QoWYVse",
        "colab_type": "code",
        "colab": {}
      },
      "source": [
        "min_in_day = 24*6\n",
        "hour_in_day = 24\n",
        "\n",
        "minute_sin = np.sin(np.pi*minute/min_in_day) \n",
        "minute_cos = np.cos(np.pi*minute/min_in_day)\n",
        "\n",
        "hour_sin  = np.sin(np.pi*hour/hour_in_day)\n",
        "hour_cos  = np.cos(np.pi*hour/hour_in_day)"
      ],
      "execution_count": 0,
      "outputs": []
    },
    {
      "cell_type": "code",
      "metadata": {
        "id": "TqOvpKkqYoGb",
        "colab_type": "code",
        "colab": {}
      },
      "source": [
        "t1 = range(len(train.index[:144]))\n",
        "plt.plot(t1, train.index[:144], 'r-')\n",
        "plt.title(\"id\")\n",
        "plt.show()"
      ],
      "execution_count": 0,
      "outputs": []
    },
    {
      "cell_type": "code",
      "metadata": {
        "id": "Gvy6RqpXY8_l",
        "colab_type": "code",
        "colab": {}
      },
      "source": [
        "t1 = range(len(minute_sin[:144]))\n",
        "plt.plot(t1, minute_sin[:144], \n",
        "         t1, minute_cos[:144], 'r-')\n",
        "plt.title(\"Sin & Cos\")\n",
        "plt.show()"
      ],
      "execution_count": 0,
      "outputs": []
    },
    {
      "cell_type": "code",
      "metadata": {
        "id": "Rw-OWeImZCxC",
        "colab_type": "code",
        "colab": {}
      },
      "source": [
        "t1 = range(len(minute_sin[:288]))\n",
        "plt.plot(t1, minute_sin[:288], \n",
        "         t1, minute_cos[:288], 'r-')\n",
        "plt.title(\"Sin & Cos\")\n",
        "plt.show()"
      ],
      "execution_count": 0,
      "outputs": []
    },
    {
      "cell_type": "markdown",
      "metadata": {
        "id": "Dc74Ku7sNgoA",
        "colab_type": "text"
      },
      "source": [
        "### 1-2 X특성 처리\n"
      ]
    },
    {
      "cell_type": "code",
      "metadata": {
        "id": "EbL5wLmOdr5X",
        "colab_type": "code",
        "colab": {}
      },
      "source": [
        "#온도 + 습도\n",
        "X_all = [\"X00\",\"X07\",\"X28\",\"X31\",\"X32\",\"X12\",\"X20\",\"X30\",\"X37\",\"X38\"]\n",
        "X_1220 = [\"X00\",\"X31\",\"X32\",\"X30\",\"X37\",\"X38\"]\n",
        "X_3738 = [\"X00\",\"X31\",\"X32\",\"X12\",\"X20\",\"X30\"]\n",
        "X_2037 = [\"X00\",\"X31\",\"X32\",\"X12\",\"X30\",\"X38\"]\n",
        "X_1237 = [\"X00\",\"X31\",\"X32\",\"X20\",\"X30\",\"X38\"]"
      ],
      "execution_count": 0,
      "outputs": []
    },
    {
      "cell_type": "code",
      "metadata": {
        "id": "3tI7gXoo6gWe",
        "colab_type": "code",
        "colab": {}
      },
      "source": [
        "#온도 + 습도 + 일사량 \n",
        "M_all = [\"X00\",\"X07\",\"X28\",\"X31\",\"X32\",\"X12\",\"X20\",\"X30\",\"X37\",\"X38\",\"X34\",\"X11\"]\n",
        "M_1220 = [\"X00\",\"X31\",\"X32\",\"X30\",\"X37\",\"X38\",\"X34\",\"X11\"]\n",
        "M_122011 = [\"X00\",\"X31\",\"X32\",\"X30\",\"X37\",\"X38\",\"X34\"]\n",
        "M_122034 = [\"X00\",\"X31\",\"X32\",\"X30\",\"X37\",\"X38\",\"X11\"]"
      ],
      "execution_count": 0,
      "outputs": []
    },
    {
      "cell_type": "code",
      "metadata": {
        "id": "0c3eqsCpru80",
        "colab_type": "code",
        "colab": {}
      },
      "source": [
        "#온도 + 습도 + 일사량 + 전부\n",
        "A_04 = [\"X00\",\"X31\",\"X32\",\"X30\",\"X37\",\"X38\",\"X11\",\n",
        "            \"X01\",\"X06\",\"X22\",\"X27\",\"X29\",\n",
        "            \"X02\",\"X03\",\"X18\",\"X24\",\"X26\",\n",
        "            \"X04\",\"X10\",\"X21\",\"X36\",\"X39\",\n",
        "            \"X05\",\"X08\",\"X09\",\"X23\",\"X33\",\n",
        "            \"X13\",\"X15\",\"X17\",\"X25\",\"X35\"]"
      ],
      "execution_count": 0,
      "outputs": []
    },
    {
      "cell_type": "code",
      "metadata": {
        "id": "aIlMo7P1a69V",
        "colab_type": "code",
        "colab": {}
      },
      "source": [
        "#온도(07,28) + 습도(12,20) + 일사량(34) + 지면기압(6,22) + 해면기압(33) + 풍속(02) + 풍향(35) + 강수량(04,36)\n",
        "# A_01 = [\"X00\",\"X31\",\"X32\",\"X30\",\"X37\",\"X38\",\"X11\",\"X01\",\"X27\",\"X29\",\"X05\",\"X08\",\n",
        "#         \"X09\",\"X23\",\"X03\",\"X18\",\"X24\",\"X26\",\"X13\",\"X15\",\"X17\",\"X25\",\n",
        "#         \"X10\",\"X21\",\"X39\"]"
      ],
      "execution_count": 0,
      "outputs": []
    },
    {
      "cell_type": "code",
      "metadata": {
        "id": "_FFv3mEpdCS9",
        "colab_type": "code",
        "colab": {}
      },
      "source": [
        "#온도(07,28) + 습도(12,20) + 일사량(34) + 풍향(35)\n",
        "#A_02 = [\"X00\",\"X31\",\"X32\",\"X30\",\"X37\",\"X38\",\"X11\",\"X13\",\"X15\",\"X17\",\"X25\"]"
      ],
      "execution_count": 0,
      "outputs": []
    },
    {
      "cell_type": "code",
      "metadata": {
        "id": "DSqLVwT_j4DE",
        "colab_type": "code",
        "colab": {}
      },
      "source": [
        "#온도(07,28) + 습도(12,20) + 일사량(34) + 해면기압(33)\n",
        "#A_03 = [\"X00\",\"X31\",\"X32\",\"X30\",\"X37\",\"X38\",\"X11\",\"X05\",\"X08\",\"X09\",\"X23\"]\n",
        "#온도(07,28) + 습도(12,20) + 일사량(34) + 해면기압(33,5)\n",
        "#A_03 = [\"X00\",\"X31\",\"X32\",\"X30\",\"X37\",\"X38\",\"X11\",\"X08\",\"X09\",\"X23\"]\n",
        "#온도(07,28) + 습도(12,20) + 일사량(34) + 해면기압(33,23)\n",
        "#A_03 = [\"X00\",\"X31\",\"X32\",\"X30\",\"X37\",\"X38\",\"X11\",\"X05\",\"X08\",\"X09\"]\n",
        "#온도(07,28) + 습도(12,20) + 일사량(34) + 해면기압(33,23,5)\n",
        "#A_03 = [\"X00\",\"X31\",\"X32\",\"X30\",\"X37\",\"X38\",\"X11\",\"X08\",\"X09\"]"
      ],
      "execution_count": 0,
      "outputs": []
    },
    {
      "cell_type": "code",
      "metadata": {
        "id": "9r8vNJl9MZTG",
        "colab_type": "code",
        "colab": {}
      },
      "source": [
        "#온도\n",
        "T_all = [\"X00\",\"X07\",\"X28\",\"X31\",\"X32\"]\n",
        "T_07 = [\"X00\",\"X28\",\"X31\",\"X32\"]\n",
        "T_28 = [\"X00\",\"X07\",\"X31\",\"X32\"]\n",
        "T_0728 = [\"X00\",\"X31\",\"X32\"]"
      ],
      "execution_count": 0,
      "outputs": []
    },
    {
      "cell_type": "code",
      "metadata": {
        "id": "GX8lHQt3Mcyq",
        "colab_type": "code",
        "colab": {}
      },
      "source": [
        "#습도\n",
        "H_all = [\"X12\",\"X20\",\"X30\",\"X37\",\"X38\"]\n",
        "H_1220 = [\"X30\",\"X37\",\"X38\"]\n",
        "H_3738 = [\"X12\",\"X20\",\"X30\"]\n",
        "H_2037 = [\"X12\",\"X30\",\"X38\"]\n",
        "H_1237 = [\"X20\",\"X30\",\"X38\"]"
      ],
      "execution_count": 0,
      "outputs": []
    },
    {
      "cell_type": "code",
      "metadata": {
        "id": "quN52Lq86WhA",
        "colab_type": "code",
        "colab": {}
      },
      "source": [
        "#일사량\n",
        "sun = [\"X34\",\"X11\"]"
      ],
      "execution_count": 0,
      "outputs": []
    },
    {
      "cell_type": "code",
      "metadata": {
        "id": "FDkuZVVm5VYx",
        "colab_type": "code",
        "colab": {}
      },
      "source": [
        "#기압\n",
        "PL_all = [\"X01\",\"X06\",\"X22\",\"X27\",\"X29\",\"X05\",\"X08\",\"X09\",\"X23\",\"X33\"]\n",
        "            # \"X01\",\"X06\",\"X22\",\"X27\",\"X29\",\n",
        "            # \"X02\",\"X03\",\"X18\",\"X24\",\"X26\",\n",
        "            # \"X04\",\"X10\",\"X21\",\"X36\",\"X39\",\n",
        "            # \"X05\",\"X08\",\"X09\",\"X23\",\"X33\","
      ],
      "execution_count": 0,
      "outputs": []
    },
    {
      "cell_type": "code",
      "metadata": {
        "id": "s50_dG1wYTKs",
        "colab_type": "code",
        "colab": {}
      },
      "source": [
        "#온도 + 습도 + 일사량 + 전부\n",
        "A_05 = [\"X00\",\"X31\",\"X32\",\"X30\",\"X37\",\"X38\",\"X11\",\n",
        "            \"X13\",\"X15\",\"X17\",\"X25\",\"X35\"]"
      ],
      "execution_count": 0,
      "outputs": []
    },
    {
      "cell_type": "code",
      "metadata": {
        "id": "4rsG3CjrDxhX",
        "colab_type": "code",
        "colab": {}
      },
      "source": [
        "X_train2 = train.loc[:,'X00':'X39'].copy()\n",
        "X_test2 = test.copy()"
      ],
      "execution_count": 0,
      "outputs": []
    },
    {
      "cell_type": "code",
      "metadata": {
        "id": "MQo4jrwdNlQh",
        "colab_type": "code",
        "colab": {}
      },
      "source": [
        "X_train = train.loc[:,A_05].copy()\n",
        "X_test = test.loc[:,A_05].copy()"
      ],
      "execution_count": 0,
      "outputs": []
    },
    {
      "cell_type": "code",
      "metadata": {
        "id": "jwHWYlj-NtGN",
        "colab_type": "code",
        "colab": {}
      },
      "source": [
        "# 제거된 특성은 일일 누적일사량, 모든 값이 0인 것으로 확인.\n",
        "#removedFeature = ['X14','X16','X19']\n",
        "# X_train.drop(removedFeature, axis = 1, inplace = True)\n",
        "# X_test.drop(removedFeature, axis=1, inplace=True)"
      ],
      "execution_count": 0,
      "outputs": []
    },
    {
      "cell_type": "code",
      "metadata": {
        "id": "RmDj6M0wNvTA",
        "colab_type": "code",
        "colab": {}
      },
      "source": [
        "# 남은 누적일사량 X11, X34는 분포가 같고, 값의 크기 차이가 적다. 평균내서 단일 특성으로 활용하자.\n",
        "'''X_train['sun'] = X_train[['X11','X34']].mean(axis=1)\n",
        "X_test['sun'] = X_test[['X11','X34']].mean(axis=1)\n",
        "X_train.drop(['X11','X34'], axis=1, inplace=True)\n",
        "X_test.drop(['X11','X34'], axis=1, inplace=True)'''"
      ],
      "execution_count": 0,
      "outputs": []
    },
    {
      "cell_type": "code",
      "metadata": {
        "id": "i2tFPpNNNxTM",
        "colab_type": "code",
        "colab": {}
      },
      "source": [
        "# 기온의 분포가 거의 같아서 평균 내어 temp 특성으로 사용\n",
        "X_train2['temp'] = X_train2[temperature_name].mean(axis=1)\n",
        "X_test2['temp'] = X_test2[temperature_name].mean(axis=1)\n",
        "X_train2.drop(temperature_name, axis=1, inplace=True)\n",
        "X_test2.drop(temperature_name, axis=1, inplace=True)"
      ],
      "execution_count": 0,
      "outputs": []
    },
    {
      "cell_type": "code",
      "metadata": {
        "id": "iKQYVEF1ONYY",
        "colab_type": "code",
        "colab": {}
      },
      "source": [
        "# 기압은 합치고 평균\n",
        "X_train['press'] = X_train[press_sum_name].mean(axis=1)\n",
        "X_test['press'] = X_test[press_sum_name].mean(axis=1)\n",
        "X_train.drop(localpress_name, axis=1, inplace=True)\n",
        "X_test.drop(localpress_name, axis=1, inplace=True)\n",
        "X_train.drop(press_name, axis=1, inplace=True)\n",
        "X_test.drop(press_name, axis=1, inplace=True)"
      ],
      "execution_count": 0,
      "outputs": []
    },
    {
      "cell_type": "code",
      "metadata": {
        "id": "8m1ZP9LpdHgo",
        "colab_type": "code",
        "colab": {}
      },
      "source": [
        "# 풍향, 제거\n",
        "X_train.drop(direction_name, axis=1, inplace=True)\n",
        "X_test.drop(direction_name, axis=1, inplace=True)"
      ],
      "execution_count": 0,
      "outputs": []
    },
    {
      "cell_type": "code",
      "metadata": {
        "id": "VuIux6YfslJY",
        "colab_type": "code",
        "colab": {}
      },
      "source": [
        "#풍속, 평균 \n",
        "#X_train['speed'] = X_train[speed_name].mean(axis=1)\n",
        "#X_test['speed'] = X_test[speed_name].mean(axis=1)\n",
        "#X_train.drop(speed_name, axis=1, inplace=True)\n",
        "#X_test.drop(speed_name, axis=1, inplace=True)"
      ],
      "execution_count": 0,
      "outputs": []
    },
    {
      "cell_type": "code",
      "metadata": {
        "id": "rVXf900SPHdC",
        "colab_type": "code",
        "colab": {}
      },
      "source": [
        "#강수량 max\n",
        "X_train['water'] = X_train['X39']\n",
        "X_test['water'] =  X_test['X39']\n",
        "X_train.drop(water_name, axis=1, inplace=True)\n",
        "X_test.drop(water_name, axis=1, inplace=True)"
      ],
      "execution_count": 0,
      "outputs": []
    },
    {
      "cell_type": "code",
      "metadata": {
        "id": "PF4xn1vFwpOA",
        "colab_type": "code",
        "colab": {}
      },
      "source": [
        "X_train2"
      ],
      "execution_count": 0,
      "outputs": []
    },
    {
      "cell_type": "code",
      "metadata": {
        "id": "jNzw7l-vVTTn",
        "colab_type": "code",
        "colab": {}
      },
      "source": [
        "X_train"
      ],
      "execution_count": 0,
      "outputs": []
    },
    {
      "cell_type": "code",
      "metadata": {
        "id": "rg-j8wSYs4FQ",
        "colab_type": "code",
        "colab": {}
      },
      "source": [
        "X_test"
      ],
      "execution_count": 0,
      "outputs": []
    },
    {
      "cell_type": "markdown",
      "metadata": {
        "id": "DIAZujkKVe4H",
        "colab_type": "text"
      },
      "source": [
        "### 1-3 input 데이터 처리\n",
        "\n"
      ]
    },
    {
      "cell_type": "code",
      "metadata": {
        "id": "ceo1cmXyFRta",
        "colab_type": "code",
        "colab": {}
      },
      "source": [
        "# 표준화처리\n",
        "def standardization(df):\n",
        "    mean = np.mean(df)\n",
        "    std = np.std(df)\n",
        "    norm = (df - mean) / (std + 1e-07)\n",
        "    return norm, mean, std"
      ],
      "execution_count": 0,
      "outputs": []
    },
    {
      "cell_type": "code",
      "metadata": {
        "id": "Q5Z5PM0B53wb",
        "colab_type": "code",
        "colab": {}
      },
      "source": [
        "#minmax\n",
        "def Minmax(X):\n",
        "  x_scaler = MinMaxScaler()\n",
        "  for col_ in X.columns:\n",
        "    train_scaled = x_scaler.fit_transform(X[col_][:, np.newaxis])\n",
        "    X[col_] = train_scaled.flatten()\n",
        "  return X\n"
      ],
      "execution_count": 0,
      "outputs": []
    },
    {
      "cell_type": "code",
      "metadata": {
        "id": "tevC8fAZM6YD",
        "colab_type": "code",
        "colab": {}
      },
      "source": [
        "X_train_norm, MEAN, STD = standardization(X_train) \n",
        "#X_train_norm = Minmax(X_train)"
      ],
      "execution_count": 0,
      "outputs": []
    },
    {
      "cell_type": "code",
      "metadata": {
        "id": "ZZeaecERF1M3",
        "colab_type": "code",
        "colab": {}
      },
      "source": [
        "# RNN 모델에 입력 할 수 있는 시계열 형태로 데이터 변환 \n",
        "def convert_to_timeseries(df, interval):\n",
        "  sequence_list = []\n",
        "  target_list = []\n",
        "\n",
        "  for i in tqdm(range(df.shape[0] - interval)):\n",
        "    sequence_list.append(np.array(df.iloc[i:i+interval,:-1]))\n",
        "    target_list.append(df.iloc[i+interval,-1])\n",
        "\n",
        "  sequence = np.array(sequence_list)\n",
        "  target = np.array(target_list)\n",
        "\n",
        "  return sequence, target"
      ],
      "execution_count": 0,
      "outputs": []
    },
    {
      "cell_type": "code",
      "metadata": {
        "id": "8x_zBRd59Xq9",
        "colab_type": "code",
        "colab": {}
      },
      "source": [
        "y_columns = ['Y15','Y16'] #'Y15','Y16'"
      ],
      "execution_count": 0,
      "outputs": []
    },
    {
      "cell_type": "code",
      "metadata": {
        "id": "sorRI5Nn9dHq",
        "colab_type": "code",
        "colab": {}
      },
      "source": [
        "# t시점 이전 120분의 데이터로 t시점의 온도를 추정할 수 있는 학습데이터 형성\n",
        "sequence = np.empty((0,12,len(X_train_norm.columns)))\n",
        "target = np.empty((0,))\n",
        "\n",
        "for column in y_columns:\n",
        "\n",
        "  concat = pd.concat([X_train_norm, train[column]], axis =1) #train[column]\n",
        "\n",
        "  _sequence, _target = convert_to_timeseries(concat.head(144*30), interval = 12)\n",
        "  # 24시간 = 1440분 = 144* 10분 즉, 30일 \n",
        "\n",
        "  sequence = np.vstack((sequence, _sequence))\n",
        "  target = np.hstack((target,_target))\n",
        "\n"
      ],
      "execution_count": 0,
      "outputs": []
    },
    {
      "cell_type": "code",
      "metadata": {
        "id": "PBg_Cnv9_gTO",
        "colab_type": "code",
        "colab": {}
      },
      "source": [
        "# convert_to_timeseries 함수를 쓰기 위한 dummy feature 생성\n",
        "X_train_norm['dummy'] = 0"
      ],
      "execution_count": 0,
      "outputs": []
    },
    {
      "cell_type": "code",
      "metadata": {
        "id": "QtrQJYx5_nM7",
        "colab_type": "code",
        "colab": {}
      },
      "source": [
        "# train set에서 도출된 평균과 표준편차로 standardization 실시 \n",
        "X_test_norm = (X_test - MEAN) / (STD + 1e-07) \n",
        "#X_test_norm = Minmax(X_test)"
      ],
      "execution_count": 0,
      "outputs": []
    },
    {
      "cell_type": "code",
      "metadata": {
        "id": "UEuURrrF_7ZK",
        "colab_type": "code",
        "colab": {}
      },
      "source": [
        "X_test_norm['dummy'] = 0"
      ],
      "execution_count": 0,
      "outputs": []
    },
    {
      "cell_type": "code",
      "metadata": {
        "id": "ZGHjVdQR_-nF",
        "colab_type": "code",
        "colab": {}
      },
      "source": [
        "# train과 test 기간을 합쳐서 120분 간격으로 학습데이터 재구축\n",
        "X_test_ts, _ = convert_to_timeseries(pd.concat([X_train_norm,X_test_norm],axis = 0 ), interval = 12)\n"
      ],
      "execution_count": 0,
      "outputs": []
    },
    {
      "cell_type": "code",
      "metadata": {
        "id": "3RvVsIM0Uf2S",
        "colab_type": "code",
        "colab": {}
      },
      "source": [
        "X_test_norm.shape"
      ],
      "execution_count": 0,
      "outputs": []
    },
    {
      "cell_type": "code",
      "metadata": {
        "id": "IvZGDaowAhoU",
        "colab_type": "code",
        "colab": {}
      },
      "source": [
        "# test set 기간인 후반부 80일에 맞게 자르기 \n",
        "X_test_ts = X_test_ts[-11520:,:,:]"
      ],
      "execution_count": 0,
      "outputs": []
    },
    {
      "cell_type": "code",
      "metadata": {
        "id": "dFbbktd0aibE",
        "colab_type": "code",
        "colab": {}
      },
      "source": [
        "X_test_ts.shape"
      ],
      "execution_count": 0,
      "outputs": []
    },
    {
      "cell_type": "code",
      "metadata": {
        "id": "1L6qb9JEA5yS",
        "colab_type": "code",
        "colab": {}
      },
      "source": [
        "# 만들어 두었던 dummy feature 제거\n",
        "X_train_norm.drop('dummy',axis=1, inplace = True)\n",
        "X_test_norm.drop('dummy', axis = 1 ,inplace=True)"
      ],
      "execution_count": 0,
      "outputs": []
    },
    {
      "cell_type": "markdown",
      "metadata": {
        "id": "TLL6r1JYIsxO",
        "colab_type": "text"
      },
      "source": [
        "### 1-4 특성 자동 탐색"
      ]
    },
    {
      "cell_type": "markdown",
      "metadata": {
        "id": "oLXj_d3x2lAl",
        "colab_type": "text"
      },
      "source": [
        "####1-1 selectPercentile\n"
      ]
    },
    {
      "cell_type": "code",
      "metadata": {
        "id": "R78Ta5Z3I6R3",
        "colab_type": "code",
        "colab": {}
      },
      "source": [
        "select = SelectPercentile(percentile=40)"
      ],
      "execution_count": 0,
      "outputs": []
    },
    {
      "cell_type": "code",
      "metadata": {
        "id": "NYqU6ymqI-i2",
        "colab_type": "code",
        "colab": {}
      },
      "source": [
        "#a = X_train_norm.tail(432)\n",
        "#b= train['Y18'].tail(432)\n",
        "a = X_train_norm[-864:-432]\n",
        "b= train['Y04'][-864:-432]"
      ],
      "execution_count": 0,
      "outputs": []
    },
    {
      "cell_type": "code",
      "metadata": {
        "id": "Cbuv9iEyJCB8",
        "colab_type": "code",
        "colab": {}
      },
      "source": [
        "select.fit(a,b)"
      ],
      "execution_count": 0,
      "outputs": []
    },
    {
      "cell_type": "code",
      "metadata": {
        "id": "vhCy1ubeJEMB",
        "colab_type": "code",
        "colab": {}
      },
      "source": [
        "X_train_selected = select.transform(a)"
      ],
      "execution_count": 0,
      "outputs": []
    },
    {
      "cell_type": "code",
      "metadata": {
        "id": "HNpfQJ4NJHZK",
        "colab_type": "code",
        "colab": {}
      },
      "source": [
        "print(\"X_train.shape: {} \".format(a.shape))\n",
        "print(\"X_train_selected.shape: {} \".format(X_train_selected.shape))"
      ],
      "execution_count": 0,
      "outputs": []
    },
    {
      "cell_type": "code",
      "metadata": {
        "id": "0-l-cmt2JJ98",
        "colab_type": "code",
        "colab": {}
      },
      "source": [
        "mask = select.get_support()\n",
        "print(mask)"
      ],
      "execution_count": 0,
      "outputs": []
    },
    {
      "cell_type": "code",
      "metadata": {
        "id": "-C0HF0ndHuNN",
        "colab_type": "code",
        "colab": {}
      },
      "source": [
        "X_train"
      ],
      "execution_count": 0,
      "outputs": []
    },
    {
      "cell_type": "markdown",
      "metadata": {
        "id": "hz00PWWkGEYC",
        "colab_type": "text"
      },
      "source": [
        "#### 1-2 multi_info_regression\n"
      ]
    },
    {
      "cell_type": "code",
      "metadata": {
        "id": "J6-OS_dgIOrp",
        "colab_type": "code",
        "colab": {}
      },
      "source": [
        "a1 = train.loc[:4319,[\"X00\",\"X07\",\"X28\",\"X31\",\"X32\",\"X12\",\"X20\",\"X30\",\"X37\",\"X38\"]] \n",
        "b1 = train['Y03'][:4320] \n",
        "b2 = train['Y04'][:4320] \n",
        "b3 = train['Y16'][:4320] "
      ],
      "execution_count": 0,
      "outputs": []
    },
    {
      "cell_type": "code",
      "metadata": {
        "id": "qh_iwc3Xq7N_",
        "colab_type": "code",
        "colab": {}
      },
      "source": [
        "#a1.drop(['X14','X16','X19'],axis=1,inplace=True)"
      ],
      "execution_count": 0,
      "outputs": []
    },
    {
      "cell_type": "code",
      "metadata": {
        "id": "8cdFRQu0GJTv",
        "colab_type": "code",
        "colab": {}
      },
      "source": [
        "mi = mutual_info_regression(a1, b1)\n",
        "mi2 = mutual_info_regression(a1, b2)\n",
        "mi3 = mutual_info_regression(a1, b3)\n",
        "\n",
        "mi /= np.max(mi)\n",
        "mi2 /= np.max(mi2)\n",
        "mi3 /= np.max(mi3)"
      ],
      "execution_count": 0,
      "outputs": []
    },
    {
      "cell_type": "code",
      "metadata": {
        "id": "0xNvbPU4iXnL",
        "colab_type": "code",
        "colab": {}
      },
      "source": [
        "column_name = ['X00','X01','X02','X03','X04','X05','X06'\n",
        "                                  ,'X07','X08','X09','X10','X11','X12','X13'\n",
        "                                   ,'X15','X17','X18', 'X20','X21','X22'\n",
        "                                   ,'X23','X24','X25','X26','X27','X28','X29','X30'\n",
        "                                   ,'X31','X32','X33','X34','X35','X36','X37','X38','X39']"
      ],
      "execution_count": 0,
      "outputs": []
    },
    {
      "cell_type": "code",
      "metadata": {
        "id": "hPZ671Pw22dH",
        "colab_type": "code",
        "colab": {}
      },
      "source": [
        "temp_hum_col = [\"X00\",\"X07\",\"X28\",\"X31\",\"X32\",\"X12\",\"X20\",\"X30\",\"X37\",\"X38\"]"
      ],
      "execution_count": 0,
      "outputs": []
    },
    {
      "cell_type": "code",
      "metadata": {
        "id": "zfAke0Ktin4h",
        "colab_type": "code",
        "colab": {}
      },
      "source": [
        "temp_hum_col = np.array(temp_hum_col)  #column_name = np.array(column_name)"
      ],
      "execution_count": 0,
      "outputs": []
    },
    {
      "cell_type": "code",
      "metadata": {
        "id": "nbP7SAu1jyqc",
        "colab_type": "code",
        "colab": {}
      },
      "source": [
        "arr1 = np.vstack([temp_hum_col,mi])\n",
        "arr2 = np.vstack([temp_hum_col,mi2])\n",
        "arr3 = np.vstack([temp_hum_col,mi3])"
      ],
      "execution_count": 0,
      "outputs": []
    },
    {
      "cell_type": "code",
      "metadata": {
        "id": "C8upAVjHkCb5",
        "colab_type": "code",
        "colab": {}
      },
      "source": [
        "feature_df = pd.DataFrame(data=arr1.reshape(2,10),index=['temp_hum_y03','Y03'])\n",
        "feature_df2 = pd.DataFrame(data=arr2.reshape(2,10),index=['temp_hum_y04','Y04'])\n",
        "feature_df3 = pd.DataFrame(data=arr3.reshape(2,10),index=['temp_hum_y16','Y16'])"
      ],
      "execution_count": 0,
      "outputs": []
    },
    {
      "cell_type": "code",
      "metadata": {
        "id": "i2-yJzIyhNij",
        "colab_type": "code",
        "colab": {}
      },
      "source": [
        "feature_df.sort_values(by=['Y03'], axis=1,inplace=True, ascending=False)\n",
        "feature_df2.sort_values(by=['Y04'], axis=1,inplace=True, ascending=False)\n",
        "feature_df3.sort_values(by=['Y16'], axis=1,inplace=True, ascending=False)"
      ],
      "execution_count": 0,
      "outputs": []
    },
    {
      "cell_type": "code",
      "metadata": {
        "id": "ieOUM5GOlMo6",
        "colab_type": "code",
        "colab": {}
      },
      "source": [
        "feature_df = feature_df.T\n",
        "feature_df2 = feature_df2.T\n",
        "feature_df3 = feature_df3.T"
      ],
      "execution_count": 0,
      "outputs": []
    },
    {
      "cell_type": "code",
      "metadata": {
        "id": "YPuCi67Tl5If",
        "colab_type": "code",
        "colab": {}
      },
      "source": [
        "feature_df.reset_index(drop=True,inplace=True) \n",
        "feature_df2.reset_index(drop=True,inplace=True) \n",
        "feature_df3.reset_index(drop=True,inplace=True) "
      ],
      "execution_count": 0,
      "outputs": []
    },
    {
      "cell_type": "code",
      "metadata": {
        "id": "V-B-J0Eak-5j",
        "colab_type": "code",
        "colab": {}
      },
      "source": [
        "result = pd.concat([feature_df,feature_df2,feature_df3],axis=1)"
      ],
      "execution_count": 0,
      "outputs": []
    },
    {
      "cell_type": "code",
      "metadata": {
        "id": "OM-DRBH5hmHb",
        "colab_type": "code",
        "colab": {}
      },
      "source": [
        "result = result.loc[:,['temp_hum_y03','Y03','temp_hum_y04','Y04','temp_hum_y16','Y16']]"
      ],
      "execution_count": 0,
      "outputs": []
    },
    {
      "cell_type": "code",
      "metadata": {
        "id": "sqTXjoQdpEyC",
        "colab_type": "code",
        "colab": {}
      },
      "source": [
        "result"
      ],
      "execution_count": 0,
      "outputs": []
    },
    {
      "cell_type": "code",
      "metadata": {
        "id": "uNijSSxqf6yj",
        "colab_type": "code",
        "colab": {}
      },
      "source": [
        "result.to_csv('temp_hum_f_score.csv', index =False)"
      ],
      "execution_count": 0,
      "outputs": []
    },
    {
      "cell_type": "markdown",
      "metadata": {
        "id": "zF-vVDUNDAZp",
        "colab_type": "text"
      },
      "source": [
        "## 2. 탐색적 자료분석"
      ]
    },
    {
      "cell_type": "markdown",
      "metadata": {
        "id": "kO1Iy8-YBoK1",
        "colab_type": "text"
      },
      "source": [
        "## 3. 변수 선택 및 모델 구축 "
      ]
    },
    {
      "cell_type": "code",
      "metadata": {
        "id": "xdL53LGt-zXP",
        "colab_type": "code",
        "colab": {}
      },
      "source": [
        "def mse_keras(y_true, y_pred):\n",
        "  def mse_AIFrenz(y_true, y_pred):\n",
        "    diff = abs(y_true - y_pred)\n",
        "    less_then_one = np.where(diff < 1, 0, diff)\n",
        "    # multi-column일 경우에도 계산 할 수 있도록 np.average를 한번 더 씌움\n",
        "    try:\n",
        "        score = np.average(np.average(less_then_one ** 2, axis = 0))\n",
        "    except ValueError:\n",
        "        score = mean_squared_error(y_true, y_pred)\n",
        "    return score\n",
        "\n",
        "  score = tf.py_function(func=mse_AIFrenz, inp=[y_true, y_pred], Tout=tf.float32,  name='custom_mse') # tf 2.x\n",
        "  return score"
      ],
      "execution_count": 0,
      "outputs": []
    },
    {
      "cell_type": "code",
      "metadata": {
        "id": "q6gKqCswBs3k",
        "colab_type": "code",
        "colab": {}
      },
      "source": [
        "# 간단한 lstm 모델 구축하기\n",
        "def build_model(lr):\n",
        "  lstm_model = tf.keras.models.Sequential([\n",
        "      tf.keras.layers.LSTM(128, input_shape=sequence.shape[-2:]),\n",
        "      tf.keras.layers.Dense(256, activation='linear'),\n",
        "      tf.keras.layers.Dense(128, activation='linear'),\n",
        "      tf.keras.layers.Dense(1)\n",
        "  ])\n",
        "  \n",
        "  # opt = tf.keras.optimizers.RMSprop(lr)\n",
        "  opt = tf.keras.optimizers.Adam(lr)\n",
        "  \n",
        "  lstm_model.compile(optimizer=opt, loss='mse', metrics=[mse_keras])\n",
        "\n",
        "  return lstm_model\n",
        "\n",
        "LEARNINGRATE = 0.001\n",
        "lstm_model = build_model(LEARNINGRATE)\n",
        "lstm_model.summary()"
      ],
      "execution_count": 0,
      "outputs": []
    },
    {
      "cell_type": "markdown",
      "metadata": {
        "id": "UAvm9rDlChlD",
        "colab_type": "text"
      },
      "source": [
        "## 4.모델 학습 및 검증\n"
      ]
    },
    {
      "cell_type": "code",
      "metadata": {
        "id": "6ETWcfN_ClNb",
        "colab_type": "code",
        "colab": {}
      },
      "source": [
        "# loss가 4미만으로 떨어지면 학습 종료 시키는 기능\n",
        "# 전이 학습을 위해 느슨한 학습을 적용\n",
        "class myCallback(tf.keras.callbacks.Callback):\n",
        "    def on_epoch_end(self, epoch, logs = None):\n",
        "        if(logs.get('loss') < 3):\n",
        "            print('\\n Loss is under 3, cancelling training')\n",
        "            self.model.stop_training = True"
      ],
      "execution_count": 0,
      "outputs": []
    },
    {
      "cell_type": "code",
      "metadata": {
        "id": "TOV1VPVJC9Y2",
        "colab_type": "code",
        "colab": {}
      },
      "source": [
        "callbacks = myCallback()"
      ],
      "execution_count": 0,
      "outputs": []
    },
    {
      "cell_type": "code",
      "metadata": {
        "id": "GjkoAGRFC3ny",
        "colab_type": "code",
        "colab": {}
      },
      "source": [
        "#X_train_T, X_valid, y_train_T, y_valid = train_test_split(sequence,target,test_size = 0.3, random_state = 0)\n",
        "                                                            "
      ],
      "execution_count": 0,
      "outputs": []
    },
    {
      "cell_type": "code",
      "metadata": {
        "id": "61uO6310HYNR",
        "colab_type": "code",
        "colab": {}
      },
      "source": [
        "#print(X_train_T.shape, X_train_T.dtype)\n",
        "#print(X_valid.shape, X_valid.dtype)\n",
        "#print(y_train_T.shape, y_train_T.dtype)\n",
        "#print(y_valid.shape, y_valid.dtype)"
      ],
      "execution_count": 0,
      "outputs": []
    },
    {
      "cell_type": "code",
      "metadata": {
        "id": "2zCJcsqeTxGF",
        "colab_type": "code",
        "colab": {}
      },
      "source": [
        "import multiprocessing\n",
        "multiprocessing.cpu_count()"
      ],
      "execution_count": 0,
      "outputs": []
    },
    {
      "cell_type": "code",
      "metadata": {
        "id": "gdKbTkbNDAJg",
        "colab_type": "code",
        "colab": {}
      },
      "source": [
        "# 모델 학습\n",
        "score_list = []\n",
        "\n",
        "lstm_model.fit(    \n",
        "     sequence,target, # X_train_T, y_train_T, #\n",
        "    epochs=100,\n",
        "    batch_size=128,\n",
        "    verbose=2,\n",
        "    use_multiprocessing = True, \n",
        "    workers = multiprocessing.cpu_count(),\n",
        "    shuffle=False,\n",
        "    callbacks = [callbacks]\n",
        ")\n",
        "#score = lstm_model.evaluate(X_valid, y_valid, batch_size=128)\n",
        "#score_list.append(score)\n",
        "\n",
        "## Part4. 평균내서 정확도 확인\n",
        "#print('-'*50); print('score:',score_list)\n",
        "#np.array(score_list)[:,1].mean()"
      ],
      "execution_count": 0,
      "outputs": []
    },
    {
      "cell_type": "code",
      "metadata": {
        "id": "Ff0vQtkcEFHG",
        "colab_type": "code",
        "colab": {}
      },
      "source": [
        "# LSTM 레이어는 고정\n",
        "lstm_model.layers[0].trainalbe = False"
      ],
      "execution_count": 0,
      "outputs": []
    },
    {
      "cell_type": "code",
      "metadata": {
        "id": "6GXEGsloEM3e",
        "colab_type": "code",
        "colab": {}
      },
      "source": [
        "# fine tuning 할 때 사용할 학습데이터 생성 (Y18)\n",
        "finetune_X, finetune_y = convert_to_timeseries(pd.concat([X_train_norm.tail(432), train['Y18'].tail(432)],axis = 1),interval = 12)"
      ],
      "execution_count": 0,
      "outputs": []
    },
    {
      "cell_type": "code",
      "metadata": {
        "id": "HjeV3BDLO8tt",
        "colab_type": "code",
        "colab": {}
      },
      "source": [
        "ftrain_XT, fvalid_XT, ftrain_yT, fvalid_yT = train_test_split(finetune_X,finetune_y,test_size = 0.3, random_state = 0)\n",
        "                                                            "
      ],
      "execution_count": 0,
      "outputs": []
    },
    {
      "cell_type": "code",
      "metadata": {
        "id": "NEGu3y7gE1U6",
        "colab_type": "code",
        "colab": {}
      },
      "source": [
        "# LSTM 레이어는 고정 시켜두고, DNN 레이어에 대해서 fine tuning 진행 (Transfer Learning\n",
        "score_list = []\n",
        "\n",
        "finetune_history = lstm_model.fit(\n",
        "            ftrain_XT, ftrain_yT,#finetune_X, finetune_y, #\n",
        "            epochs=100,\n",
        "            batch_size=256,\n",
        "            shuffle=False,\n",
        "            use_multiprocessing = True, \n",
        "            workers = multiprocessing.cpu_count(),\n",
        "            verbose = 2)#,\n",
        "            #callbacks = callbacks2)\n",
        "score = lstm_model.evaluate(fvalid_XT, fvalid_yT, batch_size=128)\n",
        "score_list.append(score)\n",
        "## Part4. 평균내서 정확도 확인\n",
        "print('-'*50); print('score:',score_list)\n",
        "np.array(score_list)[:,1].mean()"
      ],
      "execution_count": 0,
      "outputs": []
    },
    {
      "cell_type": "code",
      "metadata": {
        "id": "NPDlSTYSFA0W",
        "colab_type": "code",
        "colab": {}
      },
      "source": [
        "# 예측하기\n",
        "finetune_pred = lstm_model.predict(X_test_ts)"
      ],
      "execution_count": 0,
      "outputs": []
    },
    {
      "cell_type": "markdown",
      "metadata": {
        "id": "nke3hteYLTsG",
        "colab_type": "text"
      },
      "source": [
        "# 그래프 그리기\n"
      ]
    },
    {
      "cell_type": "code",
      "metadata": {
        "id": "s7cSHvySLV5f",
        "colab_type": "code",
        "colab": {}
      },
      "source": [
        "# Y18(3일) - Y18(3일예측)\n",
        "plt.figure(figsize=(15,5))\n",
        "ff=finetune_pred.flatten()\n",
        "ff= ff[:432]\n",
        "t1 = np.arange(4752,5184,1)\n",
        "plt.plot(train.loc[-432:,'Y18'])\n",
        "plt.plot(t1,ff)"
      ],
      "execution_count": 0,
      "outputs": []
    },
    {
      "cell_type": "code",
      "metadata": {
        "id": "BayHvPh3LleC",
        "colab_type": "code",
        "colab": {}
      },
      "source": [
        "# Y18(3일) - Y18(30일예측)\n",
        "plt.figure(figsize=(15,5))\n",
        "ff=finetune_pred.flatten()\n",
        "ff = ff[:4320]\n",
        "t2 = np.arange(4752,9072,1)\n",
        "plt.plot(train.loc[-432:,'Y18'])\n",
        "plt.plot(t2,ff)"
      ],
      "execution_count": 0,
      "outputs": []
    },
    {
      "cell_type": "code",
      "metadata": {
        "id": "O2c26N4BLngJ",
        "colab_type": "code",
        "colab": {}
      },
      "source": [
        "# Y16(3일)- Y18(3일)- Y18예측(3일)\n",
        "plt.figure(figsize=(15,5))\n",
        "ff= ff[:432]\n",
        "plt.plot(train.loc[3888:4320,'Y16'])\n",
        "plt.plot(train.loc[4320:4752,'Y18'])\n",
        "plt.plot(t1,ff)"
      ],
      "execution_count": 0,
      "outputs": []
    },
    {
      "cell_type": "code",
      "metadata": {
        "id": "XEGC8q06LpZ2",
        "colab_type": "code",
        "colab": {}
      },
      "source": [
        "#Y16(30일) - Y18(3일) -  예측(30일)\n",
        "plt.figure(figsize=(15,5))\n",
        "ff=finetune_pred.flatten()\n",
        "ff= ff[:4320]\n",
        "plt.plot(train.loc[:4320,'Y16'])\n",
        "plt.plot(train.loc[4320:4752,'Y18'])\n",
        "plt.plot(t2,ff)"
      ],
      "execution_count": 0,
      "outputs": []
    },
    {
      "cell_type": "code",
      "metadata": {
        "id": "3gobSX-TrDRb",
        "colab_type": "code",
        "colab": {}
      },
      "source": [
        "ff=finetune_pred.flatten()\n",
        "style.use('ggplot')\n",
        "t3 = np.arange(4752,16272,1)\n",
        "temp_all = pd.concat([X_train2.loc[:,'temp'] ,X_test2.loc[:,'temp']], axis =0)\n",
        "now = pd.concat([train.loc[:4320,'Y16'],train.loc[4320:4752,'Y18']],axis =0)\n",
        "\n",
        "# red - y16(30) + y18(3), yellow - 예측, blue - X temp 데이터\n",
        "plt.figure(figsize = (40,10))\n",
        "plt.plot(now,'r')\n",
        "plt.plot(t3,ff, 'y')\n",
        "plt.plot(temp_all,'b')"
      ],
      "execution_count": 0,
      "outputs": []
    },
    {
      "cell_type": "code",
      "metadata": {
        "id": "vcdrl6KmyUJk",
        "colab_type": "code",
        "colab": {}
      },
      "source": [
        "plt.figure(figsize = (40,10))\n",
        "plt.plot(train.loc[:, ['X34']],'b')\n",
        "plt.plot(train.loc[:, ['X11']],'r')\n",
        "plt.figure(figsize = (40,10))"
      ],
      "execution_count": 0,
      "outputs": []
    },
    {
      "cell_type": "markdown",
      "metadata": {
        "id": "kMRZ9_bVFqch",
        "colab_type": "text"
      },
      "source": [
        "## 6. 결과 및 결언"
      ]
    },
    {
      "cell_type": "code",
      "metadata": {
        "id": "t8H-s-NxFVad",
        "colab_type": "code",
        "colab": {}
      },
      "source": [
        "# 제출 파일 만들기\n",
        "submit = pd.DataFrame({'id':range(144*33, 144*113),\n",
        "              'Y18':finetune_pred.reshape(1,-1)[0]})"
      ],
      "execution_count": 0,
      "outputs": []
    },
    {
      "cell_type": "code",
      "metadata": {
        "id": "vmMPVJSvFhAP",
        "colab_type": "code",
        "colab": {}
      },
      "source": [
        "submit.to_csv('test_temp3_hum3_sun_ori(X1220X34o).csv', index = False)"
      ],
      "execution_count": 0,
      "outputs": []
    }
  ]
}