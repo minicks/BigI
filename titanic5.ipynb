{
  "nbformat": 4,
  "nbformat_minor": 0,
  "metadata": {
    "colab": {
      "name": "titanic",
      "provenance": [],
      "toc_visible": true,
      "include_colab_link": true
    },
    "kernelspec": {
      "name": "python3",
      "display_name": "Python 3"
    },
    "accelerator": "GPU"
  },
  "cells": [
    {
      "cell_type": "markdown",
      "metadata": {
        "id": "view-in-github",
        "colab_type": "text"
      },
      "source": [
        "<a href=\"https://colab.research.google.com/github/minicks/BigI/blob/master/titanic5.ipynb\" target=\"_parent\"><img src=\"https://colab.research.google.com/assets/colab-badge.svg\" alt=\"Open In Colab\"/></a>"
      ]
    },
    {
      "cell_type": "code",
      "metadata": {
        "id": "iCMMQMT8EyoU",
        "colab_type": "code",
        "outputId": "c4098ed8-1a95-4e25-dde5-ebefde7a2b46",
        "colab": {
          "base_uri": "https://localhost:8080/",
          "height": 127
        }
      },
      "source": [
        "from google.colab import drive\n",
        "drive.mount('/content/drive')"
      ],
      "execution_count": 3,
      "outputs": [
        {
          "output_type": "stream",
          "text": [
            "Go to this URL in a browser: https://accounts.google.com/o/oauth2/auth?client_id=947318989803-6bn6qk8qdgf4n4g3pfee6491hc0brc4i.apps.googleusercontent.com&redirect_uri=urn%3aietf%3awg%3aoauth%3a2.0%3aoob&response_type=code&scope=email%20https%3a%2f%2fwww.googleapis.com%2fauth%2fdocs.test%20https%3a%2f%2fwww.googleapis.com%2fauth%2fdrive%20https%3a%2f%2fwww.googleapis.com%2fauth%2fdrive.photos.readonly%20https%3a%2f%2fwww.googleapis.com%2fauth%2fpeopleapi.readonly\n",
            "\n",
            "Enter your authorization code:\n",
            "··········\n",
            "Mounted at /content/drive\n"
          ],
          "name": "stdout"
        }
      ]
    },
    {
      "cell_type": "markdown",
      "metadata": {
        "id": "ox4qfNhH0x5y",
        "colab_type": "text"
      },
      "source": [
        "# Import"
      ]
    },
    {
      "cell_type": "code",
      "metadata": {
        "id": "flxySFAeE80g",
        "colab_type": "code",
        "colab": {}
      },
      "source": [
        "# data analysis and wrangling\n",
        "import pandas as pd\n",
        "import numpy as np\n",
        "import random as rnd\n",
        "\n",
        "# visualization\n",
        "import seaborn as sns\n",
        "import matplotlib.pyplot as plt\n",
        "%matplotlib inline\n",
        "\n",
        "# machine learning\n",
        "from sklearn.linear_model import LogisticRegression\n",
        "from sklearn.svm import SVC, LinearSVC\n",
        "from sklearn.ensemble import RandomForestClassifier\n",
        "from sklearn.neighbors import KNeighborsClassifier\n",
        "from sklearn.naive_bayes import GaussianNB\n",
        "from sklearn.linear_model import Perceptron\n",
        "from sklearn.linear_model import SGDClassifier\n",
        "from sklearn.tree import DecisionTreeClassifier\n",
        "from sklearn.model_selection import train_test_split\n",
        "from sklearn.ensemble import GradientBoostingClassifier\n",
        "import xgboost\n",
        "import lightgbm"
      ],
      "execution_count": 0,
      "outputs": []
    },
    {
      "cell_type": "markdown",
      "metadata": {
        "id": "moZK_fd0chkQ",
        "colab_type": "text"
      },
      "source": [
        "데이터 불러오기"
      ]
    },
    {
      "cell_type": "code",
      "metadata": {
        "id": "RstUBbvADgMe",
        "colab_type": "code",
        "colab": {}
      },
      "source": [
        "train_df = pd.read_csv('/content/drive/My Drive/train.csv')\n",
        "test_df = pd.read_csv('/content/drive/My Drive/test.csv')\n",
        "combine = [train_df, test_df]"
      ],
      "execution_count": 0,
      "outputs": []
    },
    {
      "cell_type": "markdown",
      "metadata": {
        "id": "5do2VWk2ub4Q",
        "colab_type": "text"
      },
      "source": [
        "# 전처리"
      ]
    },
    {
      "cell_type": "markdown",
      "metadata": {
        "id": "b4pLZd3qMGuh",
        "colab_type": "text"
      },
      "source": [
        "## 전처리('Embarked') 문자를 숫자값으로"
      ]
    },
    {
      "cell_type": "code",
      "metadata": {
        "id": "JLpNFVD6IF8u",
        "colab_type": "code",
        "colab": {}
      },
      "source": [
        "for dataset in combine:\n",
        "    dataset['Embarked'] = dataset['Embarked'].map( {'S': 0, 'C': 1, 'Q': 2} )\n",
        "    for index in dataset[dataset['Embarked'].isnull()].index:\n",
        "        dataset.loc[index,'Embarked'] = 0\n",
        "\n",
        "\n",
        "\n",
        "# 내가 한 거\n",
        "# for index in train_df[train_df['Embarked'] == 'C'].index:\n",
        "#   train_df.loc[index,'Embarked'] = 0\n",
        "\n",
        "# for index in train_df[train_df['Embarked'] == 'Q'].index:\n",
        "#   train_df.loc[index,'Embarked'] = 1\n",
        "\n",
        "# for index in train_df[train_df['Embarked'] == 'S'].index:\n",
        "#   train_df.loc[index,'Embarked'] = 2\n",
        "\n",
        "# for index in train_df[train_df['Embarked'].isnull()].index:\n",
        "#   train_df.loc[index,'Embarked'] = 0"
      ],
      "execution_count": 0,
      "outputs": []
    },
    {
      "cell_type": "markdown",
      "metadata": {
        "id": "MYCw_Hk1OF_q",
        "colab_type": "text"
      },
      "source": [
        "## 전처리('Sex') 문자를 숫자값으로"
      ]
    },
    {
      "cell_type": "code",
      "metadata": {
        "id": "Ft2WcWWXONhI",
        "colab_type": "code",
        "colab": {}
      },
      "source": [
        "for dataset in combine:\n",
        "  dataset['Sex'] = dataset['Sex'].map( {'female': 1, 'male': 0} )\n",
        "\n",
        "# 내가 한 거\n",
        "# for index in train_df[train_df['Sex'] == 'male'].index:\n",
        "#   train_df.loc[index,'Sex'] = 0\n",
        "\n",
        "# for index in train_df[train_df['Sex'] == 'female'].index:\n",
        "#   train_df.loc[index,'Sex'] = 1"
      ],
      "execution_count": 0,
      "outputs": []
    },
    {
      "cell_type": "markdown",
      "metadata": {
        "colab_type": "text",
        "id": "gyKbxnYhdFaq"
      },
      "source": [
        "## 나이 변환 후 카테고리나누기"
      ]
    },
    {
      "cell_type": "code",
      "metadata": {
        "colab_type": "code",
        "id": "PO8qyziEdFaw",
        "colab": {}
      },
      "source": [
        "for dataset in combine:\n",
        "  for index in dataset[dataset['Age'].isnull()].index:\n",
        "    if (dataset.loc[index,'SibSp']==0) & (dataset.loc[index,'Parch']==0):\n",
        "      dataset.loc[index,'Age'] = 32.0\n",
        "    elif (dataset.loc[index,'SibSp']==0) & ((2>=dataset.loc[index,'Parch']) & (dataset.loc[index,'Parch'] > 0)):\n",
        "      dataset.loc[index,'Age'] = 26.0\n",
        "    elif (dataset.loc[index,'SibSp'] == 0) & (dataset.loc[index,'Parch'] > 2):\n",
        "      dataset.loc[index,'Age'] = 32.0\n",
        "    elif ((2 >= dataset.loc[index,'SibSp']) & (dataset.loc[index,'SibSp'] > 0)) & (dataset.loc[index,'Parch']==0):\n",
        "      dataset.loc[index,'Age'] = 32.0\n",
        "    elif ((2 >= dataset.loc[index,'SibSp']) & (dataset.loc[index,'SibSp'] > 0)) & ((2>=dataset.loc[index,'Parch']) &(dataset.loc[index,'Parch'] > 0)):\n",
        "      dataset.loc[index,'Age'] = 23.0\n",
        "    elif ((2>=dataset.loc[index,'SibSp']) & (dataset.loc[index,'SibSp'] > 0)) & (dataset.loc[index,'Parch'] > 2):\n",
        "      dataset.loc[index,'Age'] = 40.0\n",
        "    elif (dataset.loc[index,'SibSp']>2) & (dataset.loc[index,'Parch']==0):\n",
        "      dataset.loc[index,'Age'] = 31.0\n",
        "    elif (dataset.loc[index,'SibSp']>2) & ((2>=dataset.loc[index,'Parch']) &(dataset.loc[index,'Parch'] > 0)):\n",
        "      dataset.loc[index,'Age'] = 8.0\n",
        "    elif (dataset.loc[index,'SibSp']>2) & (dataset.loc[index,'Parch'] > 2):\n",
        "      dataset.loc[index,'Age'] = 32.0\n"
      ],
      "execution_count": 0,
      "outputs": []
    },
    {
      "cell_type": "code",
      "metadata": {
        "id": "-L-kbd_Ei9pd",
        "colab_type": "code",
        "colab": {}
      },
      "source": [
        "# 분포 확인\n",
        "train_df['AgeBand'] = pd.cut(train_df['Age'], 5)\n",
        "train_df[['AgeBand', 'Survived']].groupby(['AgeBand'], as_index=False).mean().sort_values(by='AgeBand', ascending=True)"
      ],
      "execution_count": 0,
      "outputs": []
    },
    {
      "cell_type": "code",
      "metadata": {
        "colab_type": "code",
        "id": "6fCBWrIUtzOo",
        "colab": {}
      },
      "source": [
        "train_df = train_df.drop(['AgeBand'], axis=1)"
      ],
      "execution_count": 0,
      "outputs": []
    },
    {
      "cell_type": "code",
      "metadata": {
        "colab_type": "code",
        "id": "Iqm_TQoh6WtO",
        "colab": {}
      },
      "source": [
        "for dataset in combine:    \n",
        "    dataset.loc[ dataset['Age'] <= 16.336, 'Age'] = 0\n",
        "    dataset.loc[(dataset['Age'] > 16.336) & (dataset['Age'] <= 32.252), 'Age'] = 1\n",
        "    dataset.loc[(dataset['Age'] > 32.252) & (dataset['Age'] <= 48.168), 'Age'] = 2\n",
        "    dataset.loc[(dataset['Age'] > 48.168) & (dataset['Age'] <= 64.084), 'Age'] = 3\n",
        "    dataset.loc[ dataset['Age'] > 64.084, 'Age'] = 4\n"
      ],
      "execution_count": 0,
      "outputs": []
    },
    {
      "cell_type": "markdown",
      "metadata": {
        "id": "3e2VkK2-6tCf",
        "colab_type": "text"
      },
      "source": [
        "## Name을 Title로 변환"
      ]
    },
    {
      "cell_type": "code",
      "metadata": {
        "colab_type": "code",
        "id": "gq2w8HmO6qsf",
        "colab": {}
      },
      "source": [
        "for dataset in combine:\n",
        "    dataset['Title'] = dataset.Name.str.extract(' ([A-Za-z]+)\\.', expand=False)\n",
        "\n",
        "for dataset in combine:\n",
        "    dataset['Title'] = dataset['Title'].replace(['Lady', 'Countess','Capt', 'Col',\\\n",
        " \t'Don', 'Dr', 'Major', 'Rev', 'Sir', 'Jonkheer', 'Dona'], 'Rare')\n",
        "\n",
        "    dataset['Title'] = dataset['Title'].replace('Mlle', 'Miss')\n",
        "    dataset['Title'] = dataset['Title'].replace('Ms', 'Miss')\n",
        "    dataset['Title'] = dataset['Title'].replace('Mme', 'Mrs')\n",
        "\n",
        "title_mapping = {\"Mr\": 1, \"Miss\": 2, \"Mrs\": 3, \"Master\": 4, \"Rare\": 5}\n",
        "for dataset in combine:\n",
        "    dataset['Title'] = dataset['Title'].map(title_mapping)\n",
        "    dataset['Title'] = dataset['Title'].fillna(0)\n"
      ],
      "execution_count": 0,
      "outputs": []
    },
    {
      "cell_type": "markdown",
      "metadata": {
        "id": "OKa-158H6z5J",
        "colab_type": "text"
      },
      "source": [
        "## Fare을 카테고리"
      ]
    },
    {
      "cell_type": "code",
      "metadata": {
        "id": "eS5CqG7C6jdS",
        "colab_type": "code",
        "colab": {}
      },
      "source": [
        "train_df['FareBand'] = pd.qcut(train_df['Fare'], 5)\n",
        "train_df[['FareBand', 'Survived']].groupby(['FareBand'], as_index=False).mean().sort_values(by='FareBand', ascending=True)"
      ],
      "execution_count": 0,
      "outputs": []
    },
    {
      "cell_type": "code",
      "metadata": {
        "id": "zqp0csGS6jZV",
        "colab_type": "code",
        "colab": {}
      },
      "source": [
        "train_df = train_df.drop(['FareBand'], axis=1)"
      ],
      "execution_count": 0,
      "outputs": []
    },
    {
      "cell_type": "code",
      "metadata": {
        "colab_type": "code",
        "id": "97R-i2sy67Fz",
        "colab": {}
      },
      "source": [
        "for dataset in combine:\n",
        "    dataset.loc[ dataset['Fare'] <= 7.854, 'Fare'] = 0\n",
        "    dataset.loc[(dataset['Fare'] > 7.854) & (dataset['Fare'] <= 10.5), 'Fare'] = 1\n",
        "    dataset.loc[(dataset['Fare'] > 10.5) & (dataset['Fare'] <= 21.679), 'Fare']   = 2\n",
        "    dataset.loc[(dataset['Fare'] > 21.679) & (dataset['Fare'] <= 39.688), 'Fare']   = 3\n",
        "    dataset.loc[ dataset['Fare'] > 39.688, 'Fare'] = 4"
      ],
      "execution_count": 0,
      "outputs": []
    },
    {
      "cell_type": "markdown",
      "metadata": {
        "colab_type": "text",
        "id": "Z0eTJXO5fgR6"
      },
      "source": [
        "## 원핫인코딩"
      ]
    },
    {
      "cell_type": "code",
      "metadata": {
        "colab_type": "code",
        "id": "zLx91ISSfgR8",
        "outputId": "660bcf79-20b0-4f34-a299-bceec7a08ced",
        "colab": {
          "base_uri": "https://localhost:8080/",
          "height": 73
        }
      },
      "source": [
        "for dataset in combine:\n",
        "  dataset[\"Embarked_C\"] = dataset[\"Embarked\"] == \"C\"\n",
        "  dataset[\"Embarked_S\"] = dataset[\"Embarked\"] == \"S\"\n",
        "  dataset[\"Embarked_Q\"] = dataset[\"Embarked\"] == \"Q\"\n",
        "\n",
        "def dummy_data(data, columns):\n",
        "    for column in columns:\n",
        "        data = pd.concat([data, pd.get_dummies(data[column], prefix = column)], axis=1)\n",
        "        data = data.drop(column, axis=1)\n",
        "    return data\n",
        "\n",
        "\n",
        "dummy_columns = [\"Sex\", \"Pclass\", \"Embarked\"]\n",
        "train_df = dummy_data(train_df, dummy_columns)\n",
        "test_df = dummy_data(test_df, dummy_columns)"
      ],
      "execution_count": 0,
      "outputs": [
        {
          "output_type": "stream",
          "text": [
            "/usr/local/lib/python3.6/dist-packages/pandas/core/ops/__init__.py:1115: FutureWarning: elementwise comparison failed; returning scalar instead, but in the future will perform elementwise comparison\n",
            "  result = method(y)\n"
          ],
          "name": "stderr"
        }
      ]
    },
    {
      "cell_type": "markdown",
      "metadata": {
        "id": "W0XAYPyTq4K5",
        "colab_type": "text"
      },
      "source": [
        "## col 삭제"
      ]
    },
    {
      "cell_type": "code",
      "metadata": {
        "colab_type": "code",
        "id": "Heyzx0GQe3YK",
        "colab": {}
      },
      "source": [
        "# Name,Ticket,Cabin col 삭제\n",
        "df_1 = train_df.drop(columns=['Name','Ticket','Cabin'])\n",
        "df_2 = test_df.drop(columns=['Name','Ticket','Cabin'])"
      ],
      "execution_count": 0,
      "outputs": []
    },
    {
      "cell_type": "code",
      "metadata": {
        "id": "bAsBGzW5fstp",
        "colab_type": "code",
        "colab": {}
      },
      "source": [
        "#train,valid 나누기 \n",
        "train0,test0 = train_test_split(df_1,test_size=0.3, random_state=1)"
      ],
      "execution_count": 0,
      "outputs": []
    },
    {
      "cell_type": "markdown",
      "metadata": {
        "id": "JN7pxQWk4oMi",
        "colab_type": "text"
      },
      "source": [
        "## None 값 채우기"
      ]
    },
    {
      "cell_type": "code",
      "metadata": {
        "id": "eh6wqUh1gAqv",
        "colab_type": "code",
        "colab": {}
      },
      "source": [
        "train0=train0.fillna(0.0)\n",
        "test0=test0.fillna(10.0)"
      ],
      "execution_count": 0,
      "outputs": []
    },
    {
      "cell_type": "code",
      "metadata": {
        "id": "ffsOCwCNdBOd",
        "colab_type": "code",
        "colab": {}
      },
      "source": [
        "df_2=df_2.fillna(20.0)"
      ],
      "execution_count": 0,
      "outputs": []
    },
    {
      "cell_type": "markdown",
      "metadata": {
        "id": "tXu9Wypn4bQB",
        "colab_type": "text"
      },
      "source": [
        "## 회귀 넣기 전 데이터 *처리*"
      ]
    },
    {
      "cell_type": "code",
      "metadata": {
        "colab_type": "code",
        "id": "D3W85UHL4dDb",
        "colab": {}
      },
      "source": [
        "Ytrain = train0[\"Survived\"]\n",
        "Xtrain = train0.drop(\"Survived\",axis = 1)\n",
        "Ytest = test0[\"Survived\"]\n",
        "Xtest = test0.drop(\"Survived\",axis = 1)\n",
        "Ydf_1 = df_1[\"Survived\"]\n",
        "Xdf_1 = df_1.drop(\"Survived\",axis = 1)"
      ],
      "execution_count": 0,
      "outputs": []
    },
    {
      "cell_type": "code",
      "metadata": {
        "colab_type": "code",
        "id": "iVvSLHUb4dDs",
        "colab": {}
      },
      "source": [
        "Xtrain=Xtrain.astype('float32')\n",
        "Ytrain=Ytrain.astype('float32')\n",
        "Xtest=Xtest.astype('float32')\n",
        "Ytest=Ytest.astype('float32')\n",
        "Xdf_1=Xdf_1.astype('float32')\n",
        "Ydf_1=Ydf_1.astype('float32')\n",
        "df_2=df_2.astype('float32')\n"
      ],
      "execution_count": 0,
      "outputs": []
    },
    {
      "cell_type": "markdown",
      "metadata": {
        "id": "dm5dSzUMvSCu",
        "colab_type": "text"
      },
      "source": [
        "## 전처리 test"
      ]
    },
    {
      "cell_type": "code",
      "metadata": {
        "id": "MOw9YlHW40FU",
        "colab_type": "code",
        "colab": {}
      },
      "source": [
        "for index in train_df[train_df['Age'].isnull()].index:\n",
        "  train_df=train_df.drop(index=index)"
      ],
      "execution_count": 0,
      "outputs": []
    },
    {
      "cell_type": "code",
      "metadata": {
        "id": "ofW6NosgQl3K",
        "colab_type": "code",
        "colab": {}
      },
      "source": [
        "for index in test_df[test_df['Age'].isnull()].index:\n",
        "  test_df=test_df.drop(index=index)"
      ],
      "execution_count": 0,
      "outputs": []
    },
    {
      "cell_type": "markdown",
      "metadata": {
        "id": "q16YEcloN2Iw",
        "colab_type": "text"
      },
      "source": [
        "test"
      ]
    },
    {
      "cell_type": "code",
      "metadata": {
        "id": "uxggUEGwUjLp",
        "colab_type": "code",
        "colab": {}
      },
      "source": [
        "train_df[((2>=train_df['SibSp']) &(train_df['SibSp'] > 0)) & (train_df['Parch'] > 2)].describe()"
      ],
      "execution_count": 0,
      "outputs": []
    },
    {
      "cell_type": "code",
      "metadata": {
        "id": "xmrgc31sYduY",
        "colab_type": "code",
        "colab": {}
      },
      "source": [
        "train_df[((2>=train_df['SibSp']) &(train_df['SibSp'] > 0)) & ((2>=train_df['Parch']) &(train_df['Parch'] > 0))].describe()"
      ],
      "execution_count": 0,
      "outputs": []
    },
    {
      "cell_type": "code",
      "metadata": {
        "id": "utVFX6_QYuRF",
        "colab_type": "code",
        "colab": {}
      },
      "source": [
        "train_df[((2>=train_df['SibSp']) &(train_df['SibSp'] > 0)) & (train_df['Parch'] == 0)].describe()"
      ],
      "execution_count": 0,
      "outputs": []
    },
    {
      "cell_type": "code",
      "metadata": {
        "id": "IbzTEnJl0yHG",
        "colab_type": "code",
        "colab": {}
      },
      "source": [
        "df_1.info()"
      ],
      "execution_count": 0,
      "outputs": []
    },
    {
      "cell_type": "code",
      "metadata": {
        "id": "Quha6_s2RQXH",
        "colab_type": "code",
        "colab": {}
      },
      "source": [
        "df_2.info()"
      ],
      "execution_count": 0,
      "outputs": []
    },
    {
      "cell_type": "code",
      "metadata": {
        "id": "QaR5nuRawE2O",
        "colab_type": "code",
        "colab": {}
      },
      "source": [
        "Xdf_1"
      ],
      "execution_count": 0,
      "outputs": []
    },
    {
      "cell_type": "code",
      "metadata": {
        "id": "1hky8_Jwv97i",
        "colab_type": "code",
        "colab": {}
      },
      "source": [
        "Xtrain"
      ],
      "execution_count": 0,
      "outputs": []
    },
    {
      "cell_type": "code",
      "metadata": {
        "id": "V3w5L7wEtE8W",
        "colab_type": "code",
        "colab": {}
      },
      "source": [
        "for a in XXtrain.isnull():\n",
        "  print(a)"
      ],
      "execution_count": 0,
      "outputs": []
    },
    {
      "cell_type": "markdown",
      "metadata": {
        "id": "l_HQT7lQvyIN",
        "colab_type": "text"
      },
      "source": [
        "# 회귀 분석"
      ]
    },
    {
      "cell_type": "markdown",
      "metadata": {
        "id": "S2lRTs13HO57",
        "colab_type": "text"
      },
      "source": [
        "Randomforest"
      ]
    },
    {
      "cell_type": "code",
      "metadata": {
        "id": "WAOCp4o9x7e2",
        "colab_type": "code",
        "outputId": "ebd8404b-3fc7-4b26-c326-7c1ab270d574",
        "colab": {
          "base_uri": "https://localhost:8080/",
          "height": 71
        }
      },
      "source": [
        "random_forest = RandomForestClassifier(n_estimators=600)\n",
        "random_forest.fit(Xtrain, Ytrain)\n",
        "Ftrain = random_forest.predict(Xtrain)\n",
        "Ydf_2 = random_forest.predict(df_2)\n",
        "random_forest.score(Xtest,Ytest )\n",
        "random_forest.score(Xtrain, Ytrain )\n",
        "random_forest.score(df_2, Ydf_2 )\n",
        "acc_random_forest1 = round(random_forest.score(Xtrain, Ftrain ) * 100, 2)\n",
        "acc_random_forest2 = round(random_forest.score(Xtest,Ytest ) * 100, 2)\n",
        "acc_random_forest3 = round(random_forest.score(df_2,Ydf_2 ) * 100, 2)\n",
        "print('train : ' , acc_random_forest1)\n",
        "print('valid : ' , acc_random_forest2)\n",
        "print('test : ' ,acc_random_forest3)"
      ],
      "execution_count": 43,
      "outputs": [
        {
          "output_type": "stream",
          "text": [
            "train :  100.0\n",
            "valid :  76.12\n",
            "test :  100.0\n"
          ],
          "name": "stdout"
        }
      ]
    },
    {
      "cell_type": "markdown",
      "metadata": {
        "id": "S8tCGdEiHSTP",
        "colab_type": "text"
      },
      "source": [
        "Logistic Regression"
      ]
    },
    {
      "cell_type": "code",
      "metadata": {
        "id": "mfxvC_3UHOM-",
        "colab_type": "code",
        "colab": {
          "base_uri": "https://localhost:8080/",
          "height": 217
        },
        "outputId": "8899c655-1718-454c-db70-a160c86c32d4"
      },
      "source": [
        "logreg = LogisticRegression()\n",
        "logreg.fit(Xtrain, Ytrain)\n",
        "Ydf_2 = logreg.predict(df_2)\n",
        "acc_log = round(logreg.score(Xtrain, Ytrain) * 100, 2)\n",
        "acc_log2 = round(logreg.score(Xtest,Ytest) * 100, 2)\n",
        "print(acc_log)\n",
        "print(acc_log2)"
      ],
      "execution_count": 76,
      "outputs": [
        {
          "output_type": "stream",
          "text": [
            "82.99\n",
            "77.99\n"
          ],
          "name": "stdout"
        },
        {
          "output_type": "stream",
          "text": [
            "/usr/local/lib/python3.6/dist-packages/sklearn/linear_model/_logistic.py:940: ConvergenceWarning: lbfgs failed to converge (status=1):\n",
            "STOP: TOTAL NO. of ITERATIONS REACHED LIMIT.\n",
            "\n",
            "Increase the number of iterations (max_iter) or scale the data as shown in:\n",
            "    https://scikit-learn.org/stable/modules/preprocessing.html\n",
            "Please also refer to the documentation for alternative solver options:\n",
            "    https://scikit-learn.org/stable/modules/linear_model.html#logistic-regression\n",
            "  extra_warning_msg=_LOGISTIC_SOLVER_CONVERGENCE_MSG)\n"
          ],
          "name": "stderr"
        }
      ]
    },
    {
      "cell_type": "markdown",
      "metadata": {
        "id": "XDiTflfSHtLw",
        "colab_type": "text"
      },
      "source": [
        "Support Vector Machines"
      ]
    },
    {
      "cell_type": "code",
      "metadata": {
        "id": "gUASkyhsHuPQ",
        "colab_type": "code",
        "colab": {
          "base_uri": "https://localhost:8080/",
          "height": 35
        },
        "outputId": "2858eeaf-6a58-49d1-9528-1ef432901a5f"
      },
      "source": [
        "svc = SVC()\n",
        "svc.fit(Xtrain, Ytrain)\n",
        "Ydf_2 = svc.predict(df_2)\n",
        "acc_svc = round(svc.score(Xtrain, Ytrain) * 100, 2)\n",
        "acc_svc"
      ],
      "execution_count": 21,
      "outputs": [
        {
          "output_type": "execute_result",
          "data": {
            "text/plain": [
              "63.56"
            ]
          },
          "metadata": {
            "tags": []
          },
          "execution_count": 21
        }
      ]
    },
    {
      "cell_type": "markdown",
      "metadata": {
        "id": "YZVLRn9fHxCn",
        "colab_type": "text"
      },
      "source": [
        "KNN"
      ]
    },
    {
      "cell_type": "code",
      "metadata": {
        "id": "8PdDtVPoHxm6",
        "colab_type": "code",
        "colab": {
          "base_uri": "https://localhost:8080/",
          "height": 35
        },
        "outputId": "dce387c4-b03f-49f1-e01b-f8e3949231c8"
      },
      "source": [
        "knn = KNeighborsClassifier(n_neighbors = 3)\n",
        "knn.fit(Xtrain, Ytrain)\n",
        "Ydf_2 = knn.predict(df_2)\n",
        "acc_knn = round(knn.score(Xtrain, Ytrain) * 100, 2)\n",
        "acc_knn"
      ],
      "execution_count": 22,
      "outputs": [
        {
          "output_type": "execute_result",
          "data": {
            "text/plain": [
              "80.58"
            ]
          },
          "metadata": {
            "tags": []
          },
          "execution_count": 22
        }
      ]
    },
    {
      "cell_type": "markdown",
      "metadata": {
        "id": "55MjDKCUHzvp",
        "colab_type": "text"
      },
      "source": [
        "Gaussian Naive Bayes"
      ]
    },
    {
      "cell_type": "code",
      "metadata": {
        "id": "wCwlio9AH0YB",
        "colab_type": "code",
        "colab": {
          "base_uri": "https://localhost:8080/",
          "height": 35
        },
        "outputId": "6accca96-fd15-42a8-fbad-ed2a53d9f5f8"
      },
      "source": [
        "gaussian = GaussianNB()\n",
        "gaussian.fit(Xtrain, Ytrain)\n",
        "Ydf_2 = gaussian.predict(df_2)\n",
        "acc_gaussian = round(gaussian.score(Xtrain, Ytrain) * 100, 2)\n",
        "acc_gaussian"
      ],
      "execution_count": 23,
      "outputs": [
        {
          "output_type": "execute_result",
          "data": {
            "text/plain": [
              "81.54"
            ]
          },
          "metadata": {
            "tags": []
          },
          "execution_count": 23
        }
      ]
    },
    {
      "cell_type": "markdown",
      "metadata": {
        "id": "-MBBF0N0H4Jc",
        "colab_type": "text"
      },
      "source": [
        "Perceptron"
      ]
    },
    {
      "cell_type": "code",
      "metadata": {
        "id": "ZItNEM3IH4gQ",
        "colab_type": "code",
        "colab": {
          "base_uri": "https://localhost:8080/",
          "height": 35
        },
        "outputId": "735a4093-226b-4089-ab62-22181c8db5ed"
      },
      "source": [
        "perceptron = Perceptron()\n",
        "perceptron.fit(Xtrain, Ytrain)\n",
        "Ydf_2 = perceptron.predict(df_2)\n",
        "acc_perceptron = round(perceptron.score(Xtrain, Ytrain) * 100, 2)\n",
        "acc_perceptron"
      ],
      "execution_count": 24,
      "outputs": [
        {
          "output_type": "execute_result",
          "data": {
            "text/plain": [
              "63.72"
            ]
          },
          "metadata": {
            "tags": []
          },
          "execution_count": 24
        }
      ]
    },
    {
      "cell_type": "markdown",
      "metadata": {
        "id": "xkqG1p9CH5_6",
        "colab_type": "text"
      },
      "source": [
        "Linear SVC"
      ]
    },
    {
      "cell_type": "code",
      "metadata": {
        "id": "5IqN8w8xH6YJ",
        "colab_type": "code",
        "colab": {
          "base_uri": "https://localhost:8080/",
          "height": 91
        },
        "outputId": "f334dea6-f108-4584-dc8b-4851bfbf5a54"
      },
      "source": [
        "linear_svc = LinearSVC()\n",
        "linear_svc.fit(Xtrain, Ytrain)\n",
        "Ydf_2 = linear_svc.predict(df_2)\n",
        "acc_linear_svc = round(linear_svc.score(Xtrain, Ytrain) * 100, 2)\n",
        "acc_linear_svc"
      ],
      "execution_count": 25,
      "outputs": [
        {
          "output_type": "stream",
          "text": [
            "/usr/local/lib/python3.6/dist-packages/sklearn/svm/_base.py:947: ConvergenceWarning: Liblinear failed to converge, increase the number of iterations.\n",
            "  \"the number of iterations.\", ConvergenceWarning)\n"
          ],
          "name": "stderr"
        },
        {
          "output_type": "execute_result",
          "data": {
            "text/plain": [
              "77.69"
            ]
          },
          "metadata": {
            "tags": []
          },
          "execution_count": 25
        }
      ]
    },
    {
      "cell_type": "markdown",
      "metadata": {
        "id": "r2q0S7cuH72K",
        "colab_type": "text"
      },
      "source": [
        "Stochastic Gradient Descent"
      ]
    },
    {
      "cell_type": "code",
      "metadata": {
        "id": "F5ILO9fsH8Ko",
        "colab_type": "code",
        "colab": {
          "base_uri": "https://localhost:8080/",
          "height": 35
        },
        "outputId": "0863c85d-d9ad-4759-94c7-197f0a6b16af"
      },
      "source": [
        "sgd = SGDClassifier()\n",
        "sgd.fit(Xtrain, Ytrain)\n",
        "Ydf_2 = sgd.predict(df_2)\n",
        "acc_sgd = round(sgd.score(Xtrain, Ytrain) * 100, 2)\n",
        "acc_sgd"
      ],
      "execution_count": 26,
      "outputs": [
        {
          "output_type": "execute_result",
          "data": {
            "text/plain": [
              "64.53"
            ]
          },
          "metadata": {
            "tags": []
          },
          "execution_count": 26
        }
      ]
    },
    {
      "cell_type": "markdown",
      "metadata": {
        "id": "3lFdVWWjH94-",
        "colab_type": "text"
      },
      "source": [
        "Decision Tree"
      ]
    },
    {
      "cell_type": "code",
      "metadata": {
        "id": "w8zBwlkbH-Z2",
        "colab_type": "code",
        "colab": {
          "base_uri": "https://localhost:8080/",
          "height": 35
        },
        "outputId": "7b1585d0-157d-45bc-89a7-98416f821585"
      },
      "source": [
        "decision_tree = DecisionTreeClassifier()\n",
        "decision_tree.fit(Xtrain, Ytrain)\n",
        "Ydf_2 = decision_tree.predict(df_2)\n",
        "acc_decision_tree = round(decision_tree.score(Xtrain, Ytrain) * 100, 2)\n",
        "acc_decision_tree"
      ],
      "execution_count": 49,
      "outputs": [
        {
          "output_type": "execute_result",
          "data": {
            "text/plain": [
              "100.0"
            ]
          },
          "metadata": {
            "tags": []
          },
          "execution_count": 49
        }
      ]
    },
    {
      "cell_type": "markdown",
      "metadata": {
        "id": "j_u0_FRiNr0P",
        "colab_type": "text"
      },
      "source": [
        "그레디언트 부스트"
      ]
    },
    {
      "cell_type": "code",
      "metadata": {
        "id": "d3PLUsAXNsL3",
        "colab_type": "code",
        "colab": {
          "base_uri": "https://localhost:8080/",
          "height": 35
        },
        "outputId": "9566338b-2a27-41ef-d0f8-a27cd8ddfbf2"
      },
      "source": [
        "model_grad = GradientBoostingClassifier(n_estimators=100, max_depth=2, random_state=0)\n",
        "model_grad.fit(Xtrain, Ytrain)\n",
        "Ydf_2 = model_grad.predict(df_2)\n",
        "acc_model_grad = round(model_grad.score(Xtrain, Ytrain) * 100, 2)\n",
        "acc_model_grad"
      ],
      "execution_count": 74,
      "outputs": [
        {
          "output_type": "execute_result",
          "data": {
            "text/plain": [
              "89.41"
            ]
          },
          "metadata": {
            "tags": []
          },
          "execution_count": 74
        }
      ]
    },
    {
      "cell_type": "markdown",
      "metadata": {
        "colab_type": "text",
        "id": "3AII29BYOc7F"
      },
      "source": [
        "XGBoost"
      ]
    },
    {
      "cell_type": "code",
      "metadata": {
        "colab_type": "code",
        "id": "eYfTRsGaOc7G",
        "colab": {
          "base_uri": "https://localhost:8080/",
          "height": 35
        },
        "outputId": "fc4f1762-f02a-4b7e-ac37-dc8e6a0bbe71"
      },
      "source": [
        "model_xgb = xgboost.XGBClassifier(n_estimators=100, max_depth=1, random_state=0)\n",
        "model_xgb.fit(Xtrain, Ytrain)\n",
        "Ydf_2 = model_xgb.predict(df_2)\n",
        "acc_model_xgb = round(model_xgb.score(Xtrain, Ytrain) * 100, 2)\n",
        "acc_model_xgb"
      ],
      "execution_count": 60,
      "outputs": [
        {
          "output_type": "execute_result",
          "data": {
            "text/plain": [
              "82.99"
            ]
          },
          "metadata": {
            "tags": []
          },
          "execution_count": 60
        }
      ]
    },
    {
      "cell_type": "markdown",
      "metadata": {
        "colab_type": "text",
        "id": "CrH5t3AiOcfW"
      },
      "source": [
        "LightGBM"
      ]
    },
    {
      "cell_type": "code",
      "metadata": {
        "colab_type": "code",
        "id": "BdAJ7Dn2Ocfe",
        "colab": {
          "base_uri": "https://localhost:8080/",
          "height": 35
        },
        "outputId": "4844c5bf-1e24-4525-8fab-6bdf722fef34"
      },
      "source": [
        "model_lgbm = lightgbm.LGBMClassifier(n_estimators=100, max_depth=1, random_state=0)\n",
        "model_lgbm.fit(Xtrain, Ytrain)\n",
        "Ydf_2 = model_lgbm.predict(df_2)\n",
        "acc_model_lgbm = round(model_lgbm.score(Xtrain, Ytrain) * 100, 2)\n",
        "acc_model_lgbm"
      ],
      "execution_count": 61,
      "outputs": [
        {
          "output_type": "execute_result",
          "data": {
            "text/plain": [
              "82.34"
            ]
          },
          "metadata": {
            "tags": []
          },
          "execution_count": 61
        }
      ]
    },
    {
      "cell_type": "markdown",
      "metadata": {
        "id": "41-xC6_0IKWt",
        "colab_type": "text"
      },
      "source": [
        "분석"
      ]
    },
    {
      "cell_type": "code",
      "metadata": {
        "id": "s_0gPsr_H-Ya",
        "colab_type": "code",
        "colab": {
          "base_uri": "https://localhost:8080/",
          "height": 421
        },
        "outputId": "50ba2f07-4b60-4f5f-c12a-47d5aaca81de"
      },
      "source": [
        "models = pd.DataFrame({\n",
        "    'Model': ['Support Vector Machines', 'KNN', 'Logistic Regression', \n",
        "              'Random Forest', 'Naive Bayes', 'Perceptron', \n",
        "              'Stochastic Gradient Decent', 'Linear SVC', \n",
        "              'Decision Tree','GradientBoosting','XGBoost','LightGBM'],\n",
        "    'Score': [acc_svc, acc_knn, acc_log, \n",
        "              acc_random_forest1, acc_gaussian, acc_perceptron, \n",
        "              acc_sgd, acc_linear_svc, acc_decision_tree, acc_model_grad , acc_model_xgb , acc_model_lgbm]})\n",
        "models.sort_values(by='Score', ascending=False)"
      ],
      "execution_count": 63,
      "outputs": [
        {
          "output_type": "execute_result",
          "data": {
            "text/html": [
              "<div>\n",
              "<style scoped>\n",
              "    .dataframe tbody tr th:only-of-type {\n",
              "        vertical-align: middle;\n",
              "    }\n",
              "\n",
              "    .dataframe tbody tr th {\n",
              "        vertical-align: top;\n",
              "    }\n",
              "\n",
              "    .dataframe thead th {\n",
              "        text-align: right;\n",
              "    }\n",
              "</style>\n",
              "<table border=\"1\" class=\"dataframe\">\n",
              "  <thead>\n",
              "    <tr style=\"text-align: right;\">\n",
              "      <th></th>\n",
              "      <th>Model</th>\n",
              "      <th>Score</th>\n",
              "    </tr>\n",
              "  </thead>\n",
              "  <tbody>\n",
              "    <tr>\n",
              "      <th>3</th>\n",
              "      <td>Random Forest</td>\n",
              "      <td>100.00</td>\n",
              "    </tr>\n",
              "    <tr>\n",
              "      <th>8</th>\n",
              "      <td>Decision Tree</td>\n",
              "      <td>100.00</td>\n",
              "    </tr>\n",
              "    <tr>\n",
              "      <th>9</th>\n",
              "      <td>GradientBoosting</td>\n",
              "      <td>89.41</td>\n",
              "    </tr>\n",
              "    <tr>\n",
              "      <th>2</th>\n",
              "      <td>Logistic Regression</td>\n",
              "      <td>82.99</td>\n",
              "    </tr>\n",
              "    <tr>\n",
              "      <th>10</th>\n",
              "      <td>XGBoost</td>\n",
              "      <td>82.99</td>\n",
              "    </tr>\n",
              "    <tr>\n",
              "      <th>11</th>\n",
              "      <td>LightGBM</td>\n",
              "      <td>82.34</td>\n",
              "    </tr>\n",
              "    <tr>\n",
              "      <th>4</th>\n",
              "      <td>Naive Bayes</td>\n",
              "      <td>81.54</td>\n",
              "    </tr>\n",
              "    <tr>\n",
              "      <th>1</th>\n",
              "      <td>KNN</td>\n",
              "      <td>80.58</td>\n",
              "    </tr>\n",
              "    <tr>\n",
              "      <th>7</th>\n",
              "      <td>Linear SVC</td>\n",
              "      <td>77.69</td>\n",
              "    </tr>\n",
              "    <tr>\n",
              "      <th>6</th>\n",
              "      <td>Stochastic Gradient Decent</td>\n",
              "      <td>64.53</td>\n",
              "    </tr>\n",
              "    <tr>\n",
              "      <th>5</th>\n",
              "      <td>Perceptron</td>\n",
              "      <td>63.72</td>\n",
              "    </tr>\n",
              "    <tr>\n",
              "      <th>0</th>\n",
              "      <td>Support Vector Machines</td>\n",
              "      <td>63.56</td>\n",
              "    </tr>\n",
              "  </tbody>\n",
              "</table>\n",
              "</div>"
            ],
            "text/plain": [
              "                         Model   Score\n",
              "3                Random Forest  100.00\n",
              "8                Decision Tree  100.00\n",
              "9             GradientBoosting   89.41\n",
              "2          Logistic Regression   82.99\n",
              "10                     XGBoost   82.99\n",
              "11                    LightGBM   82.34\n",
              "4                  Naive Bayes   81.54\n",
              "1                          KNN   80.58\n",
              "7                   Linear SVC   77.69\n",
              "6   Stochastic Gradient Decent   64.53\n",
              "5                   Perceptron   63.72\n",
              "0      Support Vector Machines   63.56"
            ]
          },
          "metadata": {
            "tags": []
          },
          "execution_count": 63
        }
      ]
    },
    {
      "cell_type": "code",
      "metadata": {
        "id": "8E5PIL5ay8tz",
        "colab_type": "code",
        "outputId": "4fcc7eb4-a62d-4e36-b31e-d57fb36494a9",
        "colab": {
          "base_uri": "https://localhost:8080/",
          "height": 71
        }
      },
      "source": [
        "random_forest = RandomForestClassifier(n_estimators=600)\n",
        "random_forest.fit(Xdf_1, Ydf_1)\n",
        "Ftrain = random_forest.predict(Xtrain)\n",
        "Ydf_2 = random_forest.predict(df_2)\n",
        "random_forest.score(Xtest,Ytest )\n",
        "random_forest.score(Xtrain, Ytrain )\n",
        "random_forest.score(df_2, Ydf_2 )\n",
        "acc_random_forest1 = round(random_forest.score(Xtrain, Ftrain ) * 100, 2)\n",
        "acc_random_forest2 = round(random_forest.score(Xtest,Ytest ) * 100, 2)\n",
        "acc_random_forest3 = round(random_forest.score(df_2,Ydf_2 ) * 100, 2)\n",
        "print('train : ' , acc_random_forest1)\n",
        "print('valid : ' , acc_random_forest2)\n",
        "print('test : ' ,acc_random_forest3)"
      ],
      "execution_count": 47,
      "outputs": [
        {
          "output_type": "stream",
          "text": [
            "train :  100.0\n",
            "valid :  100.0\n",
            "test :  100.0\n"
          ],
          "name": "stdout"
        }
      ]
    },
    {
      "cell_type": "code",
      "metadata": {
        "id": "REWf5yuGPyXz",
        "colab_type": "code",
        "colab": {
          "base_uri": "https://localhost:8080/",
          "height": 53
        },
        "outputId": "19c5fac2-df01-4047-e8c7-2d6c1454a11b"
      },
      "source": [
        "model_grad = GradientBoostingClassifier(n_estimators=100, max_depth=2, random_state=0)\n",
        "model_grad.fit(Xdf_1, Ydf_1)\n",
        "Ydf_2 = model_grad.predict(df_2)\n",
        "acc_model_grad = round(model_grad.score(Xdf_1, Ydf_1) * 100, 2)\n",
        "acc_model_grad2 = round(model_grad.score(df_2, Ydf_2) * 100, 2)\n",
        "print(acc_model_grad)\n",
        "print(acc_model_grad2)"
      ],
      "execution_count": 71,
      "outputs": [
        {
          "output_type": "stream",
          "text": [
            "85.3\n",
            "100.0\n"
          ],
          "name": "stdout"
        }
      ]
    },
    {
      "cell_type": "code",
      "metadata": {
        "id": "aJ1-Qts4Qk0Y",
        "colab_type": "code",
        "colab": {
          "base_uri": "https://localhost:8080/",
          "height": 217
        },
        "outputId": "038a3a0e-9222-4487-ddd8-bac7524b9493"
      },
      "source": [
        "logreg = LogisticRegression()\n",
        "logreg.fit(Xdf_1, Ydf_1)\n",
        "Ydf_2 = logreg.predict(df_2)\n",
        "acc_log = round(logreg.score(Xdf_1, Ydf_1) * 100, 2)\n",
        "acc_log2 = round(logreg.score(df_2, Ydf_2) * 100, 2)\n",
        "print(acc_log)\n",
        "print(acc_log2)"
      ],
      "execution_count": 72,
      "outputs": [
        {
          "output_type": "stream",
          "text": [
            "80.36\n",
            "100.0\n"
          ],
          "name": "stdout"
        },
        {
          "output_type": "stream",
          "text": [
            "/usr/local/lib/python3.6/dist-packages/sklearn/linear_model/_logistic.py:940: ConvergenceWarning: lbfgs failed to converge (status=1):\n",
            "STOP: TOTAL NO. of ITERATIONS REACHED LIMIT.\n",
            "\n",
            "Increase the number of iterations (max_iter) or scale the data as shown in:\n",
            "    https://scikit-learn.org/stable/modules/preprocessing.html\n",
            "Please also refer to the documentation for alternative solver options:\n",
            "    https://scikit-learn.org/stable/modules/linear_model.html#logistic-regression\n",
            "  extra_warning_msg=_LOGISTIC_SOLVER_CONVERGENCE_MSG)\n"
          ],
          "name": "stderr"
        }
      ]
    },
    {
      "cell_type": "markdown",
      "metadata": {
        "id": "_YXJ0O13vrMB",
        "colab_type": "text"
      },
      "source": [
        "# 파일 저장"
      ]
    },
    {
      "cell_type": "code",
      "metadata": {
        "id": "ttbleKb263JR",
        "colab_type": "code",
        "colab": {}
      },
      "source": [
        "submission = pd.DataFrame({\n",
        "        \"PassengerId\": df_2[\"PassengerId\"],\n",
        "        \"Survived\": Ydf_2\n",
        "    })\n",
        "submission.to_csv('boost3'+'titanic_SUBMISSION.csv', index=False)"
      ],
      "execution_count": 0,
      "outputs": []
    },
    {
      "cell_type": "markdown",
      "metadata": {
        "id": "OBTtSYr9c9QH",
        "colab_type": "text"
      },
      "source": [
        "# 정보 모으기"
      ]
    },
    {
      "cell_type": "code",
      "metadata": {
        "id": "QXdca_vtFdnY",
        "colab_type": "code",
        "colab": {}
      },
      "source": [
        "print(train_df.sort_values(by='Survived'))\n",
        "print(train_df.columns.values)\n",
        "print('======================================================')\n",
        "print(test_df)\n",
        "print(test_df.columns.values)\n",
        "print('======================================================')\n",
        "print(combine)\n",
        "print('======================================================')"
      ],
      "execution_count": 0,
      "outputs": []
    },
    {
      "cell_type": "code",
      "metadata": {
        "id": "Yuol56XBFsGm",
        "colab_type": "code",
        "colab": {}
      },
      "source": [
        "print(train_df.min())\n",
        "print(train_df.max())\n",
        "train_df.describe(include='all')"
      ],
      "execution_count": 0,
      "outputs": []
    },
    {
      "cell_type": "code",
      "metadata": {
        "id": "Du6ofliP6-h7",
        "colab_type": "code",
        "colab": {}
      },
      "source": [
        "train_df.info()"
      ],
      "execution_count": 0,
      "outputs": []
    },
    {
      "cell_type": "code",
      "metadata": {
        "id": "Uw5dv9gC7KPn",
        "colab_type": "code",
        "colab": {}
      },
      "source": [
        "for a in train_df.index[train_df['Age'].isnull()]:\n",
        "  print(a)"
      ],
      "execution_count": 0,
      "outputs": []
    },
    {
      "cell_type": "code",
      "metadata": {
        "id": "GK7Brkp2Qwvs",
        "colab_type": "code",
        "colab": {}
      },
      "source": [
        "g = sns.FacetGrid(train_df, col='Survived')\n",
        "g.map(plt.hist, 'Age', bins=20)"
      ],
      "execution_count": 0,
      "outputs": []
    },
    {
      "cell_type": "code",
      "metadata": {
        "id": "hGIQb-MXa2mH",
        "colab_type": "code",
        "colab": {}
      },
      "source": [
        "grid = sns.FacetGrid(train_df, col='Survived', row='Pclass', size=2.2, aspect=1.6)\n",
        "grid.map(plt.hist, 'Cabin', alpha=.5, bins=20)\n",
        "grid.add_legend();"
      ],
      "execution_count": 0,
      "outputs": []
    },
    {
      "cell_type": "code",
      "metadata": {
        "id": "iLYfqfmIHU7N",
        "colab_type": "code",
        "colab": {}
      },
      "source": [
        "for index in train_df[train_df['Age'].isnull()].index:\n",
        "  print(train_df.loc[index,['Pclass','SibSp','Parch']])"
      ],
      "execution_count": 0,
      "outputs": []
    },
    {
      "cell_type": "code",
      "metadata": {
        "id": "FUhKnkHiU7Il",
        "colab_type": "code",
        "colab": {}
      },
      "source": [
        "\n",
        "for index in train_df[(train_df['Age'].isnull()) & (train_df['SibSp'] == 0) & (train_df['Parch'] == 0)].index:\n",
        "  print(train_df.loc[index,['Pclass','SibSp','Parch','Fare','Embarked','Cabin']])"
      ],
      "execution_count": 0,
      "outputs": []
    },
    {
      "cell_type": "code",
      "metadata": {
        "id": "SBqM0KeyVaR8",
        "colab_type": "code",
        "colab": {}
      },
      "source": [
        "train_df.corr(method='pearson')"
      ],
      "execution_count": 0,
      "outputs": []
    },
    {
      "cell_type": "code",
      "metadata": {
        "id": "Cj-AZzd3IMFy",
        "colab_type": "code",
        "colab": {}
      },
      "source": [
        "train_df.info()"
      ],
      "execution_count": 0,
      "outputs": []
    },
    {
      "cell_type": "code",
      "metadata": {
        "id": "IdTQNvd1MEqR",
        "colab_type": "code",
        "colab": {}
      },
      "source": [
        "train_df.corr(method='pearson')"
      ],
      "execution_count": 0,
      "outputs": []
    },
    {
      "cell_type": "code",
      "metadata": {
        "id": "nfyTkVx-fHp8",
        "colab_type": "code",
        "colab": {}
      },
      "source": [
        "train_df.describe()"
      ],
      "execution_count": 0,
      "outputs": []
    },
    {
      "cell_type": "code",
      "metadata": {
        "id": "2wMa4WbgMy3y",
        "colab_type": "code",
        "colab": {}
      },
      "source": [
        "for index in train_df[train_df['Pclass'] == 1].index:\n",
        "  train_df.loc[index,'Pclass'] = 'a'"
      ],
      "execution_count": 0,
      "outputs": []
    },
    {
      "cell_type": "code",
      "metadata": {
        "id": "QiWieJtkNJ1T",
        "colab_type": "code",
        "colab": {}
      },
      "source": [
        "for index in train_df[train_df['Pclass'] == 3].index:\n",
        "  print(train_df.loc[index,'Cabin'])"
      ],
      "execution_count": 0,
      "outputs": []
    },
    {
      "cell_type": "code",
      "metadata": {
        "id": "KeY1vXLodJ6w",
        "colab_type": "code",
        "colab": {}
      },
      "source": [
        ""
      ],
      "execution_count": 0,
      "outputs": []
    },
    {
      "cell_type": "markdown",
      "metadata": {
        "id": "lBY4ixOL4Tui",
        "colab_type": "text"
      },
      "source": [
        "# 새 섹션"
      ]
    },
    {
      "cell_type": "code",
      "metadata": {
        "id": "T0Kc3fc2yLLj",
        "colab_type": "code",
        "colab": {}
      },
      "source": [
        "Ytrain = train0[\"Survived\"]\n",
        "Xtrain = train0.drop(\"Survived\",axis = 1)\n",
        "Xtest = test0.drop(\"Survived\",axis = 1)"
      ],
      "execution_count": 0,
      "outputs": []
    },
    {
      "cell_type": "code",
      "metadata": {
        "id": "D80kV6ESzzXq",
        "colab_type": "code",
        "colab": {}
      },
      "source": [
        "Xtrain=Xtrain.astype('float32')\n",
        "Ytrain=Ytrain.astype('float32')\n",
        "Xtest=Xtest.astype('float32')"
      ],
      "execution_count": 0,
      "outputs": []
    },
    {
      "cell_type": "code",
      "metadata": {
        "id": "mLxAhV7q2JRz",
        "colab_type": "code",
        "colab": {}
      },
      "source": [
        "for index in Xtrain[Xtrain.isnull()].index:\n",
        "  print(Xtrain.loc[index])"
      ],
      "execution_count": 0,
      "outputs": []
    },
    {
      "cell_type": "code",
      "metadata": {
        "id": "SpNCOZtX1p6z",
        "colab_type": "code",
        "colab": {}
      },
      "source": [
        "Xtrain[Xtrain.isnull()]"
      ],
      "execution_count": 0,
      "outputs": []
    },
    {
      "cell_type": "code",
      "metadata": {
        "id": "CAk9N2H_2xpo",
        "colab_type": "code",
        "colab": {}
      },
      "source": [
        "Xtest.info()"
      ],
      "execution_count": 0,
      "outputs": []
    },
    {
      "cell_type": "code",
      "metadata": {
        "id": "JO_8tp6h2rJJ",
        "colab_type": "code",
        "colab": {}
      },
      "source": [
        "Xtrain[Xtrain.isnull()].index"
      ],
      "execution_count": 0,
      "outputs": []
    },
    {
      "cell_type": "code",
      "metadata": {
        "id": "x-gjAot07UsG",
        "colab_type": "code",
        "colab": {}
      },
      "source": [
        "Ypred"
      ],
      "execution_count": 0,
      "outputs": []
    },
    {
      "cell_type": "code",
      "metadata": {
        "id": "r47MzGb25vpO",
        "colab_type": "code",
        "colab": {}
      },
      "source": [
        "df_2"
      ],
      "execution_count": 0,
      "outputs": []
    }
  ]
}