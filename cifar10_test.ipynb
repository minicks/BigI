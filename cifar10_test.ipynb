{
  "nbformat": 4,
  "nbformat_minor": 0,
  "metadata": {
    "colab": {
      "name": "cifar10_test.ipynb",
      "provenance": [],
      "include_colab_link": true
    },
    "kernelspec": {
      "name": "python3",
      "display_name": "Python 3"
    }
  },
  "cells": [
    {
      "cell_type": "markdown",
      "metadata": {
        "id": "view-in-github",
        "colab_type": "text"
      },
      "source": [
        "<a href=\"https://colab.research.google.com/github/minicks/BigI/blob/master/cifar10_test.ipynb\" target=\"_parent\"><img src=\"https://colab.research.google.com/assets/colab-badge.svg\" alt=\"Open In Colab\"/></a>"
      ]
    },
    {
      "cell_type": "code",
      "metadata": {
        "id": "tuzDgXLDCuD5",
        "colab_type": "code",
        "colab": {
          "base_uri": "https://localhost:8080/",
          "height": 64
        },
        "outputId": "db4913ca-5800-4ccf-bc0d-ae6f35eefbac"
      },
      "source": [
        "# 코랩에서는 다음 코드로 베타버전을 설치한다.\n",
        "# !pip install tensorflow-gpu==2.0.0-beta1\n",
        "import tensorflow as tf\n",
        "# tf.__version__"
      ],
      "execution_count": 1,
      "outputs": [
        {
          "output_type": "display_data",
          "data": {
            "text/html": [
              "<p style=\"color: red;\">\n",
              "The default version of TensorFlow in Colab will soon switch to TensorFlow 2.x.<br>\n",
              "We recommend you <a href=\"https://www.tensorflow.org/guide/migrate\" target=\"_blank\">upgrade</a> now \n",
              "or ensure your notebook will continue to use TensorFlow 1.x via the <code>%tensorflow_version 1.x</code> magic:\n",
              "<a href=\"https://colab.research.google.com/notebooks/tensorflow_version.ipynb\" target=\"_blank\">more info</a>.</p>\n"
            ],
            "text/plain": [
              "<IPython.core.display.HTML object>"
            ]
          },
          "metadata": {
            "tags": []
          }
        }
      ]
    },
    {
      "cell_type": "code",
      "metadata": {
        "id": "EWvImReyCv0r",
        "colab_type": "code",
        "colab": {}
      },
      "source": [
        "from tensorflow import keras\n",
        "#keras.__version__"
      ],
      "execution_count": 0,
      "outputs": []
    },
    {
      "cell_type": "code",
      "metadata": {
        "id": "zoFarLtuDs45",
        "colab_type": "code",
        "colab": {}
      },
      "source": [
        "import pandas as pd\n",
        "import matplotlib.pyplot as plt\n",
        "import matplotlib.pyplot as mpl"
      ],
      "execution_count": 0,
      "outputs": []
    },
    {
      "cell_type": "code",
      "metadata": {
        "id": "GIcRFDfqDySB",
        "colab_type": "code",
        "colab": {}
      },
      "source": [
        "cifar = tf.keras.datasets.cifar10"
      ],
      "execution_count": 0,
      "outputs": []
    },
    {
      "cell_type": "code",
      "metadata": {
        "id": "sp7ZCLbaD18_",
        "colab_type": "code",
        "colab": {
          "base_uri": "https://localhost:8080/",
          "height": 1000
        },
        "outputId": "2640115f-454b-4746-96a9-2f2dc19ad40a"
      },
      "source": [
        "help(plt.imshow)"
      ],
      "execution_count": 13,
      "outputs": [
        {
          "output_type": "stream",
          "text": [
            "Help on function imshow in module matplotlib.pyplot:\n",
            "\n",
            "imshow(X, cmap=None, norm=None, aspect=None, interpolation=None, alpha=None, vmin=None, vmax=None, origin=None, extent=None, shape=<deprecated parameter>, filternorm=1, filterrad=4.0, imlim=<deprecated parameter>, resample=None, url=None, *, data=None, **kwargs)\n",
            "    Display an image, i.e. data on a 2D regular raster.\n",
            "    \n",
            "    Parameters\n",
            "    ----------\n",
            "    X : array-like or PIL image\n",
            "        The image data. Supported array shapes are:\n",
            "    \n",
            "        - (M, N): an image with scalar data. The data is visualized\n",
            "          using a colormap.\n",
            "        - (M, N, 3): an image with RGB values (0-1 float or 0-255 int).\n",
            "        - (M, N, 4): an image with RGBA values (0-1 float or 0-255 int),\n",
            "          i.e. including transparency.\n",
            "    \n",
            "        The first two dimensions (M, N) define the rows and columns of\n",
            "        the image.\n",
            "    \n",
            "        Out-of-range RGB(A) values are clipped.\n",
            "    \n",
            "    cmap : str or `~matplotlib.colors.Colormap`, optional\n",
            "        The Colormap instance or registered colormap name used to map\n",
            "        scalar data to colors. This parameter is ignored for RGB(A) data.\n",
            "        Defaults to :rc:`image.cmap`.\n",
            "    \n",
            "    norm : `~matplotlib.colors.Normalize`, optional\n",
            "        The `Normalize` instance used to scale scalar data to the [0, 1]\n",
            "        range before mapping to colors using *cmap*. By default, a linear\n",
            "        scaling mapping the lowest value to 0 and the highest to 1 is used.\n",
            "        This parameter is ignored for RGB(A) data.\n",
            "    \n",
            "    aspect : {'equal', 'auto'} or float, optional\n",
            "        Controls the aspect ratio of the axes. The aspect is of particular\n",
            "        relevance for images since it may distort the image, i.e. pixel\n",
            "        will not be square.\n",
            "    \n",
            "        This parameter is a shortcut for explicitly calling\n",
            "        `.Axes.set_aspect`. See there for further details.\n",
            "    \n",
            "        - 'equal': Ensures an aspect ratio of 1. Pixels will be square\n",
            "          (unless pixel sizes are explicitly made non-square in data\n",
            "          coordinates using *extent*).\n",
            "        - 'auto': The axes is kept fixed and the aspect is adjusted so\n",
            "          that the data fit in the axes. In general, this will result in\n",
            "          non-square pixels.\n",
            "    \n",
            "        If not given, use :rc:`image.aspect` (default: 'equal').\n",
            "    \n",
            "    interpolation : str, optional\n",
            "        The interpolation method used. If *None*\n",
            "        :rc:`image.interpolation` is used, which defaults to 'nearest'.\n",
            "    \n",
            "        Supported values are 'none', 'nearest', 'bilinear', 'bicubic',\n",
            "        'spline16', 'spline36', 'hanning', 'hamming', 'hermite', 'kaiser',\n",
            "        'quadric', 'catrom', 'gaussian', 'bessel', 'mitchell', 'sinc',\n",
            "        'lanczos'.\n",
            "    \n",
            "        If *interpolation* is 'none', then no interpolation is performed\n",
            "        on the Agg, ps, pdf and svg backends. Other backends will fall back\n",
            "        to 'nearest'. Note that most SVG renders perform interpolation at\n",
            "        rendering and that the default interpolation method they implement\n",
            "        may differ.\n",
            "    \n",
            "        See\n",
            "        :doc:`/gallery/images_contours_and_fields/interpolation_methods`\n",
            "        for an overview of the supported interpolation methods.\n",
            "    \n",
            "        Some interpolation methods require an additional radius parameter,\n",
            "        which can be set by *filterrad*. Additionally, the antigrain image\n",
            "        resize filter is controlled by the parameter *filternorm*.\n",
            "    \n",
            "    alpha : scalar, optional\n",
            "        The alpha blending value, between 0 (transparent) and 1 (opaque).\n",
            "        This parameter is ignored for RGBA input data.\n",
            "    \n",
            "    vmin, vmax : scalar, optional\n",
            "        When using scalar data and no explicit *norm*, *vmin* and *vmax*\n",
            "        define the data range that the colormap covers. By default,\n",
            "        the colormap covers the complete value range of the supplied\n",
            "        data. *vmin*, *vmax* are ignored if the *norm* parameter is used.\n",
            "    \n",
            "    origin : {'upper', 'lower'}, optional\n",
            "        Place the [0,0] index of the array in the upper left or lower left\n",
            "        corner of the axes. The convention 'upper' is typically used for\n",
            "        matrices and images.\n",
            "        If not given, :rc:`image.origin` is used, defaulting to 'upper'.\n",
            "    \n",
            "        Note that the vertical axes points upward for 'lower'\n",
            "        but downward for 'upper'.\n",
            "    \n",
            "        See the :doc:`/tutorials/intermediate/imshow_extent` tutorial for\n",
            "        examples and a more detailed description.\n",
            "    \n",
            "    extent : scalars (left, right, bottom, top), optional\n",
            "        The bounding box in data coordinates that the image will fill.\n",
            "        The image is stretched individually along x and y to fill the box.\n",
            "    \n",
            "        The default extent is determined by the following conditions.\n",
            "        Pixels have unit size in data coordinates. Their centers are on\n",
            "        integer coordinates, and their center coordinates range from 0 to\n",
            "        columns-1 horizontally and from 0 to rows-1 vertically.\n",
            "    \n",
            "        Note that the direction of the vertical axis and thus the default\n",
            "        values for top and bottom depend on *origin*:\n",
            "    \n",
            "        - For ``origin == 'upper'`` the default is\n",
            "          ``(-0.5, numcols-0.5, numrows-0.5, -0.5)``.\n",
            "        - For ``origin == 'lower'`` the default is\n",
            "          ``(-0.5, numcols-0.5, -0.5, numrows-0.5)``.\n",
            "    \n",
            "        See the :doc:`/tutorials/intermediate/imshow_extent` tutorial for\n",
            "        examples and a more detailed description.\n",
            "    \n",
            "    filternorm : bool, optional, default: True\n",
            "        A parameter for the antigrain image resize filter (see the\n",
            "        antigrain documentation).  If *filternorm* is set, the filter\n",
            "        normalizes integer values and corrects the rounding errors. It\n",
            "        doesn't do anything with the source floating point values, it\n",
            "        corrects only integers according to the rule of 1.0 which means\n",
            "        that any sum of pixel weights must be equal to 1.0.  So, the\n",
            "        filter function must produce a graph of the proper shape.\n",
            "    \n",
            "    filterrad : float > 0, optional, default: 4.0\n",
            "        The filter radius for filters that have a radius parameter, i.e.\n",
            "        when interpolation is one of: 'sinc', 'lanczos' or 'blackman'.\n",
            "    \n",
            "    resample : bool, optional\n",
            "        When *True*, use a full resampling method.  When *False*, only\n",
            "        resample when the output image is larger than the input image.\n",
            "    \n",
            "    url : str, optional\n",
            "        Set the url of the created `.AxesImage`. See `.Artist.set_url`.\n",
            "    \n",
            "    Returns\n",
            "    -------\n",
            "    image : `~matplotlib.image.AxesImage`\n",
            "    \n",
            "    Other Parameters\n",
            "    ----------------\n",
            "    **kwargs : `~matplotlib.artist.Artist` properties\n",
            "        These parameters are passed on to the constructor of the\n",
            "        `.AxesImage` artist.\n",
            "    \n",
            "    See also\n",
            "    --------\n",
            "    matshow : Plot a matrix or an array as an image.\n",
            "    \n",
            "    Notes\n",
            "    -----\n",
            "    Unless *extent* is used, pixel centers will be located at integer\n",
            "    coordinates. In other words: the origin will coincide with the center\n",
            "    of pixel (0, 0).\n",
            "    \n",
            "    There are two common representations for RGB images with an alpha\n",
            "    channel:\n",
            "    \n",
            "    -   Straight (unassociated) alpha: R, G, and B channels represent the\n",
            "        color of the pixel, disregarding its opacity.\n",
            "    -   Premultiplied (associated) alpha: R, G, and B channels represent\n",
            "        the color of the pixel, adjusted for its opacity by multiplication.\n",
            "    \n",
            "    `~matplotlib.pyplot.imshow` expects RGB images adopting the straight\n",
            "    (unassociated) alpha representation.\n",
            "    \n",
            "    .. note::\n",
            "        In addition to the above described arguments, this function can take a\n",
            "        **data** keyword argument. If such a **data** argument is given, the\n",
            "        following arguments are replaced by **data[<arg>]**:\n",
            "    \n",
            "        * All positional and all keyword arguments.\n",
            "    \n",
            "        Objects passed as **data** must support item access (``data[<arg>]``) and\n",
            "        membership test (``<arg> in data``).\n",
            "\n"
          ],
          "name": "stdout"
        }
      ]
    },
    {
      "cell_type": "code",
      "metadata": {
        "id": "h0fjeqO8CyvZ",
        "colab_type": "code",
        "colab": {}
      },
      "source": [
        "import matplotlib.pyplot as plt\n",
        "import matplotlib.pyplot as mpl\n",
        "\n",
        "cifar = tf.keras.datasets.cifar10\n",
        "(X_train0, y_train0), (X_test0, y_test0) = cifar.load_data()"
      ],
      "execution_count": 0,
      "outputs": []
    },
    {
      "cell_type": "code",
      "metadata": {
        "id": "Q9lX66bAEb_A",
        "colab_type": "code",
        "colab": {}
      },
      "source": [
        "plt.figure(figsize=(20, 10))\n",
        "for i in range(36):\n",
        "    plt.subplot(3, 12, i+1)\n",
        "    plt.imshow(X_train0[i], cmap=\"gray\")\n",
        "    plt.axis(\"off\")\n",
        "plt.show()"
      ],
      "execution_count": 0,
      "outputs": []
    },
    {
      "cell_type": "code",
      "metadata": {
        "id": "wzsmqkFnC5yi",
        "colab_type": "code",
        "colab": {
          "base_uri": "https://localhost:8080/",
          "height": 89
        },
        "outputId": "bd9edc83-a61a-4cd6-eaa5-ffc034eaca78"
      },
      "source": [
        "print(X_train0.shape, X_train0.dtype)\n",
        "print(y_train0.shape, y_train0.dtype)\n",
        "print(X_test0.shape, X_test0.dtype)\n",
        "print(y_test0.shape, y_test0.dtype)\n"
      ],
      "execution_count": 14,
      "outputs": [
        {
          "output_type": "stream",
          "text": [
            "(50000, 32, 32, 3) uint8\n",
            "(50000, 1) uint8\n",
            "(10000, 32, 32, 3) uint8\n",
            "(10000, 1) uint8\n"
          ],
          "name": "stdout"
        }
      ]
    },
    {
      "cell_type": "code",
      "metadata": {
        "id": "ycb2Hsy-F3F4",
        "colab_type": "code",
        "colab": {}
      },
      "source": [
        "X_train = X_train0.reshape(50000, 3072).astype('float32') / 255.0\n",
        "X_test = X_test0.reshape(10000, 3072).astype('float32') / 255.0\n",
        "print(X_train.shape, X_train.dtype)"
      ],
      "execution_count": 0,
      "outputs": []
    },
    {
      "cell_type": "code",
      "metadata": {
        "id": "HRK28FFRFKOD",
        "colab_type": "code",
        "colab": {}
      },
      "source": [
        "y_train0[:5]"
      ],
      "execution_count": 0,
      "outputs": []
    },
    {
      "cell_type": "code",
      "metadata": {
        "id": "-PpJZtQrFO1B",
        "colab_type": "code",
        "colab": {}
      },
      "source": [
        "from tensorflow.keras.utils import to_categorical\n",
        "\n",
        "Y_train = to_categorical(y_train0, 10)\n",
        "Y_test = to_categorical(y_test0, 10)\n",
        "Y_train[:5]"
      ],
      "execution_count": 0,
      "outputs": []
    },
    {
      "cell_type": "code",
      "metadata": {
        "id": "B-17ipEZFUJH",
        "colab_type": "code",
        "colab": {}
      },
      "source": [
        "from tensorflow.keras.models import Sequential\n",
        "from tensorflow.keras.layers import Dense\n",
        "from tensorflow.keras.optimizers import Adam\n",
        "\n",
        "import numpy as np\n",
        "\n",
        "np.random.seed(0)\n",
        "\n",
        "model = Sequential()\n",
        "model.add(Dense(15, input_dim=3072, activation=\"relu\"))\n",
        "model.add(Dense(10, activation=\"softmax\"))\n",
        "# model.compile(optimizer=Adam(lr=0.01), loss='mean_squared_error', metrics=[\"accuracy\"])\n",
        "model.compile(optimizer=Adam(lr=0.01), loss='categorical_crossentropy', metrics=[\"accuracy\"])"
      ],
      "execution_count": 0,
      "outputs": []
    },
    {
      "cell_type": "code",
      "metadata": {
        "id": "eKMETHtaFc8w",
        "colab_type": "code",
        "colab": {}
      },
      "source": [
        "model.summary()"
      ],
      "execution_count": 0,
      "outputs": []
    },
    {
      "cell_type": "code",
      "metadata": {
        "id": "Xvc0S4xlFgAR",
        "colab_type": "code",
        "colab": {}
      },
      "source": [
        "l1 = model.layers[0]\n",
        "l2 = model.layers[1]\n",
        "\n",
        "print(l1.name, type(l1), l1.output_shape, l1.activation.__name__, l1.count_params())\n",
        "print(l2.name, type(l1), l2.output_shape, l2.activation.__name__, l2.count_params())"
      ],
      "execution_count": 0,
      "outputs": []
    },
    {
      "cell_type": "code",
      "metadata": {
        "id": "MEGlKWPqFkCv",
        "colab_type": "code",
        "colab": {}
      },
      "source": [
        "%%time\n",
        "hist = model.fit(X_train, Y_train,\n",
        "                 epochs=10, batch_size=50,\n",
        "                 validation_data=(X_test, Y_test),\n",
        "                 verbose=2) # 0, 1, 2"
      ],
      "execution_count": 0,
      "outputs": []
    },
    {
      "cell_type": "code",
      "metadata": {
        "id": "gkd-GGJ7HMQv",
        "colab_type": "code",
        "colab": {}
      },
      "source": [
        "plt.figure(figsize=(8, 4))\n",
        "plt.subplot(1, 2, 1)\n",
        "plt.plot(hist.history['loss'])\n",
        "plt.title(\"훈련 중 cost-function 그래프\")\n",
        "plt.ylabel(\"cost-function value\")\n",
        "plt.subplot(1, 2, 2)\n",
        "plt.title(\"훈련 중 성능지표 그래프\")\n",
        "plt.ylabel(\"성능지표 값\")\n",
        "plt.plot(hist.history['acc'], 'b-', label=\"학습 성능\")\n",
        "plt.plot(hist.history['val_acc'], 'r:', label=\"검증 성능\")\n",
        "plt.legend()\n",
        "plt.tight_layout()\n",
        "plt.show()"
      ],
      "execution_count": 0,
      "outputs": []
    },
    {
      "cell_type": "code",
      "metadata": {
        "id": "fjzgUTOWI3sG",
        "colab_type": "code",
        "colab": {}
      },
      "source": [
        ""
      ],
      "execution_count": 0,
      "outputs": []
    }
  ]
}