{
  "nbformat": 4,
  "nbformat_minor": 0,
  "metadata": {
    "colab": {
      "name": "cifar10_test.ipynb",
      "provenance": [],
      "include_colab_link": true
    },
    "kernelspec": {
      "name": "python3",
      "display_name": "Python 3"
    }
  },
  "cells": [
    {
      "cell_type": "markdown",
      "metadata": {
        "id": "view-in-github",
        "colab_type": "text"
      },
      "source": [
        "<a href=\"https://colab.research.google.com/github/minicks/BigI/blob/master/cifar10_test.ipynb\" target=\"_parent\"><img src=\"https://colab.research.google.com/assets/colab-badge.svg\" alt=\"Open In Colab\"/></a>"
      ]
    },
    {
      "cell_type": "code",
      "metadata": {
        "id": "tuzDgXLDCuD5",
        "colab_type": "code",
        "colab": {}
      },
      "source": [
        "# 코랩에서는 다음 코드로 베타버전을 설치한다.\n",
        "# !pip install tensorflow-gpu==2.0.0-beta1\n",
        "import tensorflow as tf\n",
        "# tf.__version__"
      ],
      "execution_count": 0,
      "outputs": []
    },
    {
      "cell_type": "code",
      "metadata": {
        "id": "EWvImReyCv0r",
        "colab_type": "code",
        "colab": {}
      },
      "source": [
        "from tensorflow import keras\n",
        "#keras.__version__"
      ],
      "execution_count": 0,
      "outputs": []
    },
    {
      "cell_type": "code",
      "metadata": {
        "id": "zoFarLtuDs45",
        "colab_type": "code",
        "colab": {}
      },
      "source": [
        "import pandas as pd\n",
        "import matplotlib.pyplot as plt\n",
        "import matplotlib.pyplot as mpl"
      ],
      "execution_count": 0,
      "outputs": []
    },
    {
      "cell_type": "code",
      "metadata": {
        "id": "GIcRFDfqDySB",
        "colab_type": "code",
        "colab": {}
      },
      "source": [
        "cifar = tf.keras.datasets.cifar10"
      ],
      "execution_count": 0,
      "outputs": []
    },
    {
      "cell_type": "code",
      "metadata": {
        "id": "sp7ZCLbaD18_",
        "colab_type": "code",
        "colab": {}
      },
      "source": [
        "help(plt.imshow)"
      ],
      "execution_count": 0,
      "outputs": []
    },
    {
      "cell_type": "code",
      "metadata": {
        "id": "h0fjeqO8CyvZ",
        "colab_type": "code",
        "colab": {}
      },
      "source": [
        "import matplotlib.pyplot as plt\n",
        "import matplotlib.pyplot as mpl\n",
        "\n",
        "cifar = tf.keras.datasets.cifar10\n",
        "(X_train0, y_train0), (X_test0, y_test0) = cifar.load_data()"
      ],
      "execution_count": 0,
      "outputs": []
    },
    {
      "cell_type": "code",
      "metadata": {
        "id": "Q9lX66bAEb_A",
        "colab_type": "code",
        "colab": {}
      },
      "source": [
        "plt.figure(figsize=(20, 10))\n",
        "for i in range(36):\n",
        "    plt.subplot(3, 12, i+1)\n",
        "    plt.imshow(X_train0[i], cmap=\"gray\")\n",
        "    plt.axis(\"off\")\n",
        "plt.show()"
      ],
      "execution_count": 0,
      "outputs": []
    },
    {
      "cell_type": "code",
      "metadata": {
        "id": "wzsmqkFnC5yi",
        "colab_type": "code",
        "colab": {
          "base_uri": "https://localhost:8080/",
          "height": 89
        },
        "outputId": "bd9edc83-a61a-4cd6-eaa5-ffc034eaca78"
      },
      "source": [
        "print(X_train0.shape, X_train0.dtype)\n",
        "print(y_train0.shape, y_train0.dtype)\n",
        "print(X_test0.shape, X_test0.dtype)\n",
        "print(y_test0.shape, y_test0.dtype)\n"
      ],
      "execution_count": 14,
      "outputs": [
        {
          "output_type": "stream",
          "text": [
            "(50000, 32, 32, 3) uint8\n",
            "(50000, 1) uint8\n",
            "(10000, 32, 32, 3) uint8\n",
            "(10000, 1) uint8\n"
          ],
          "name": "stdout"
        }
      ]
    },
    {
      "cell_type": "code",
      "metadata": {
        "id": "ycb2Hsy-F3F4",
        "colab_type": "code",
        "colab": {}
      },
      "source": [
        "X_train = X_train0.reshape(50000, 3072).astype('float32') / 255.0\n",
        "X_test = X_test0.reshape(10000, 3072).astype('float32') / 255.0\n",
        "print(X_train.shape, X_train.dtype)"
      ],
      "execution_count": 0,
      "outputs": []
    },
    {
      "cell_type": "code",
      "metadata": {
        "id": "HRK28FFRFKOD",
        "colab_type": "code",
        "colab": {}
      },
      "source": [
        "y_train0[:5]"
      ],
      "execution_count": 0,
      "outputs": []
    },
    {
      "cell_type": "code",
      "metadata": {
        "id": "-PpJZtQrFO1B",
        "colab_type": "code",
        "colab": {}
      },
      "source": [
        "from tensorflow.keras.utils import to_categorical\n",
        "\n",
        "Y_train = to_categorical(y_train0, 10)\n",
        "Y_test = to_categorical(y_test0, 10)\n",
        "Y_train[:5]"
      ],
      "execution_count": 0,
      "outputs": []
    },
    {
      "cell_type": "code",
      "metadata": {
        "id": "B-17ipEZFUJH",
        "colab_type": "code",
        "colab": {}
      },
      "source": [
        "from tensorflow.keras.models import Sequential\n",
        "from tensorflow.keras.layers import Dense\n",
        "from tensorflow.keras.optimizers import Adam\n",
        "\n",
        "import numpy as np\n",
        "\n",
        "np.random.seed(0)\n",
        "\n",
        "model = Sequential()\n",
        "model.add(Dense(15, input_dim=3072, activation=\"relu\"))\n",
        "model.add(Dense(10, activation=\"softmax\"))\n",
        "# model.compile(optimizer=Adam(lr=0.01), loss='mean_squared_error', metrics=[\"accuracy\"])\n",
        "model.compile(optimizer=Adam(lr=0.001), loss='categorical_crossentropy', metrics=[\"accuracy\"])"
      ],
      "execution_count": 0,
      "outputs": []
    },
    {
      "cell_type": "code",
      "metadata": {
        "id": "eKMETHtaFc8w",
        "colab_type": "code",
        "colab": {}
      },
      "source": [
        "model.summary()"
      ],
      "execution_count": 0,
      "outputs": []
    },
    {
      "cell_type": "code",
      "metadata": {
        "id": "Xvc0S4xlFgAR",
        "colab_type": "code",
        "colab": {}
      },
      "source": [
        "l1 = model.layers[0]\n",
        "l2 = model.layers[1]\n",
        "\n",
        "print(l1.name, type(l1), l1.output_shape, l1.activation.__name__, l1.count_params())\n",
        "print(l2.name, type(l1), l2.output_shape, l2.activation.__name__, l2.count_params())"
      ],
      "execution_count": 0,
      "outputs": []
    },
    {
      "cell_type": "code",
      "metadata": {
        "id": "MEGlKWPqFkCv",
        "colab_type": "code",
        "colab": {
          "base_uri": "https://localhost:8080/",
          "height": 431
        },
        "outputId": "8f68305c-3cd4-426d-88f3-d9ed4106691f"
      },
      "source": [
        "%%time\n",
        "hist = model.fit(X_train, Y_train,\n",
        "                 epochs=10, batch_size=50,\n",
        "                 validation_data=(X_test, Y_test),\n",
        "                 verbose=2) # 0, 1, 2"
      ],
      "execution_count": 39,
      "outputs": [
        {
          "output_type": "stream",
          "text": [
            "Train on 50000 samples, validate on 10000 samples\n",
            "Epoch 1/10\n",
            "50000/50000 - 3s - loss: 2.3042 - acc: 0.0987 - val_loss: 2.3026 - val_acc: 0.1000\n",
            "Epoch 2/10\n",
            "50000/50000 - 3s - loss: 2.3027 - acc: 0.0986 - val_loss: 2.3026 - val_acc: 0.1000\n",
            "Epoch 3/10\n",
            "50000/50000 - 3s - loss: 2.3028 - acc: 0.0979 - val_loss: 2.3026 - val_acc: 0.1000\n",
            "Epoch 4/10\n",
            "50000/50000 - 3s - loss: 2.3027 - acc: 0.0992 - val_loss: 2.3026 - val_acc: 0.1000\n",
            "Epoch 5/10\n",
            "50000/50000 - 3s - loss: 2.3027 - acc: 0.0992 - val_loss: 2.3026 - val_acc: 0.1000\n",
            "Epoch 6/10\n",
            "50000/50000 - 3s - loss: 2.3028 - acc: 0.0975 - val_loss: 2.3026 - val_acc: 0.1000\n",
            "Epoch 7/10\n",
            "50000/50000 - 3s - loss: 2.3027 - acc: 0.0975 - val_loss: 2.3026 - val_acc: 0.1000\n",
            "Epoch 8/10\n",
            "50000/50000 - 3s - loss: 2.3027 - acc: 0.0984 - val_loss: 2.3026 - val_acc: 0.1000\n",
            "Epoch 9/10\n",
            "50000/50000 - 3s - loss: 2.3028 - acc: 0.0950 - val_loss: 2.3026 - val_acc: 0.1000\n",
            "Epoch 10/10\n",
            "50000/50000 - 3s - loss: 2.3027 - acc: 0.0999 - val_loss: 2.3026 - val_acc: 0.1000\n",
            "CPU times: user 37.1 s, sys: 1.96 s, total: 39.1 s\n",
            "Wall time: 27.4 s\n"
          ],
          "name": "stdout"
        }
      ]
    },
    {
      "cell_type": "code",
      "metadata": {
        "id": "gkd-GGJ7HMQv",
        "colab_type": "code",
        "colab": {}
      },
      "source": [
        "plt.figure(figsize=(8, 4))\n",
        "plt.subplot(1, 2, 1)\n",
        "plt.plot(hist.history['loss'])\n",
        "plt.title(\"훈련 중 cost-function 그래프\")\n",
        "plt.ylabel(\"cost-function value\")\n",
        "plt.subplot(1, 2, 2)\n",
        "plt.title(\"훈련 중 성능지표 그래프\")\n",
        "plt.ylabel(\"성능지표 값\")\n",
        "plt.plot(hist.history['acc'], 'b-', label=\"학습 성능\")\n",
        "plt.plot(hist.history['val_acc'], 'r:', label=\"검증 성능\")\n",
        "plt.legend()\n",
        "plt.tight_layout()\n",
        "plt.show()"
      ],
      "execution_count": 0,
      "outputs": []
    },
    {
      "cell_type": "code",
      "metadata": {
        "id": "fjzgUTOWI3sG",
        "colab_type": "code",
        "colab": {}
      },
      "source": [
        ""
      ],
      "execution_count": 0,
      "outputs": []
    }
  ]
}