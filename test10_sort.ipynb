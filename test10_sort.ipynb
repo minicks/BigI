{
  "nbformat": 4,
  "nbformat_minor": 0,
  "metadata": {
    "colab": {
      "name": "test10_sort.ipynb",
      "provenance": [],
      "authorship_tag": "ABX9TyOIvXlX68BMYmJfVqXaG44r",
      "include_colab_link": true
    },
    "kernelspec": {
      "name": "python3",
      "display_name": "Python 3"
    }
  },
  "cells": [
    {
      "cell_type": "markdown",
      "metadata": {
        "id": "view-in-github",
        "colab_type": "text"
      },
      "source": [
        "<a href=\"https://colab.research.google.com/github/minicks/BigI/blob/master/test10_sort.ipynb\" target=\"_parent\"><img src=\"https://colab.research.google.com/assets/colab-badge.svg\" alt=\"Open In Colab\"/></a>"
      ]
    },
    {
      "cell_type": "code",
      "metadata": {
        "id": "pAsBMraYaaxj",
        "colab_type": "code",
        "colab": {}
      },
      "source": [
        "def mergeSort(x):\n",
        "    if len(x) > 1:\n",
        "        mid = len(x)//2\n",
        "        lx, rx = x[:mid], x[mid:]\n",
        "        mergeSort(lx)\n",
        "        mergeSort(rx)\n",
        "\n",
        "        li, ri, i = 0, 0, 0\n",
        "        while li < len(lx) and ri < len(rx):\n",
        "            if lx[li] < rx[ri]:\n",
        "                x[i] = lx[li]\n",
        "                li += 1\n",
        "            else:\n",
        "                x[i] = rx[ri]\n",
        "                ri += 1\n",
        "            i += 1\n",
        "        x[i:] = lx[li:] if li != len(lx) else rx[ri:]\n",
        "    return x"
      ],
      "execution_count": 2,
      "outputs": []
    },
    {
      "cell_type": "code",
      "metadata": {
        "id": "w61JJYKzawtI",
        "colab_type": "code",
        "colab": {
          "base_uri": "https://localhost:8080/",
          "height": 35
        },
        "outputId": "3ad7da58-2157-4936-95f4-fa8c22d6f5df"
      },
      "source": [
        "mergeSort([3,7,5,6,1,2])"
      ],
      "execution_count": 3,
      "outputs": [
        {
          "output_type": "execute_result",
          "data": {
            "text/plain": [
              "[1, 2, 3, 5, 6, 7]"
            ]
          },
          "metadata": {
            "tags": []
          },
          "execution_count": 3
        }
      ]
    }
  ]
}