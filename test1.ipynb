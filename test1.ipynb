{
  "nbformat": 4,
  "nbformat_minor": 0,
  "metadata": {
    "colab": {
      "name": "test1.ipynb",
      "provenance": [],
      "collapsed_sections": [],
      "include_colab_link": true
    },
    "kernelspec": {
      "name": "python3",
      "display_name": "Python 3"
    }
  },
  "cells": [
    {
      "cell_type": "markdown",
      "metadata": {
        "id": "view-in-github",
        "colab_type": "text"
      },
      "source": [
        "<a href=\"https://colab.research.google.com/github/minicks/BigI/blob/master/test1.ipynb\" target=\"_parent\"><img src=\"https://colab.research.google.com/assets/colab-badge.svg\" alt=\"Open In Colab\"/></a>"
      ]
    },
    {
      "cell_type": "code",
      "metadata": {
        "id": "6pHrjYie63A9",
        "colab_type": "code",
        "colab": {}
      },
      "source": [
        "import numpy as np\n",
        "import pandas as pd\n",
        "from numpy import nan"
      ],
      "execution_count": 0,
      "outputs": []
    },
    {
      "cell_type": "code",
      "metadata": {
        "id": "F52IqkUZ-HSX",
        "colab_type": "code",
        "colab": {
          "base_uri": "https://localhost:8080/",
          "height": 125
        },
        "outputId": "c76c91be-0edd-4c6b-e8f1-86b69c2d5772"
      },
      "source": [
        "data = np.vstack([np.array([2241., 2118.,   nan, 1706., 1518., 1543., 1508., 1325., 1257., 1279.]),np.array([1354.,   nan, 1126.,  827.,  876.,  834.,   nan,  785.,  801., 776.]),np.array([497, 440, 458, 446, 470, 489, 478, 443, 433, 439])])\n",
        "data"
      ],
      "execution_count": 135,
      "outputs": [
        {
          "output_type": "execute_result",
          "data": {
            "text/plain": [
              "array([[2241., 2118.,   nan, 1706., 1518., 1543., 1508., 1325., 1257.,\n",
              "        1279.],\n",
              "       [1354.,   nan, 1126.,  827.,  876.,  834.,   nan,  785.,  801.,\n",
              "         776.],\n",
              "       [ 497.,  440.,  458.,  446.,  470.,  489.,  478.,  443.,  433.,\n",
              "         439.]])"
            ]
          },
          "metadata": {
            "tags": []
          },
          "execution_count": 135
        }
      ]
    },
    {
      "cell_type": "code",
      "metadata": {
        "id": "m7Um9E2i_OAz",
        "colab_type": "code",
        "colab": {
          "base_uri": "https://localhost:8080/",
          "height": 359
        },
        "outputId": "80be3406-576e-4a73-d467-19e58ba80a95"
      },
      "source": [
        "#1\n",
        "columns = ['미용실','양식집','일식집']\n",
        "index = []\n",
        "for a in range(2005,2015):\n",
        "  index.append(a)\n",
        "index\n",
        "df = pd.DataFrame(data, columns = index, index=columns).T\n",
        "df"
      ],
      "execution_count": 136,
      "outputs": [
        {
          "output_type": "execute_result",
          "data": {
            "text/html": [
              "<div>\n",
              "<style scoped>\n",
              "    .dataframe tbody tr th:only-of-type {\n",
              "        vertical-align: middle;\n",
              "    }\n",
              "\n",
              "    .dataframe tbody tr th {\n",
              "        vertical-align: top;\n",
              "    }\n",
              "\n",
              "    .dataframe thead th {\n",
              "        text-align: right;\n",
              "    }\n",
              "</style>\n",
              "<table border=\"1\" class=\"dataframe\">\n",
              "  <thead>\n",
              "    <tr style=\"text-align: right;\">\n",
              "      <th></th>\n",
              "      <th>미용실</th>\n",
              "      <th>양식집</th>\n",
              "      <th>일식집</th>\n",
              "    </tr>\n",
              "  </thead>\n",
              "  <tbody>\n",
              "    <tr>\n",
              "      <th>2005</th>\n",
              "      <td>2241.0</td>\n",
              "      <td>1354.0</td>\n",
              "      <td>497.0</td>\n",
              "    </tr>\n",
              "    <tr>\n",
              "      <th>2006</th>\n",
              "      <td>2118.0</td>\n",
              "      <td>NaN</td>\n",
              "      <td>440.0</td>\n",
              "    </tr>\n",
              "    <tr>\n",
              "      <th>2007</th>\n",
              "      <td>NaN</td>\n",
              "      <td>1126.0</td>\n",
              "      <td>458.0</td>\n",
              "    </tr>\n",
              "    <tr>\n",
              "      <th>2008</th>\n",
              "      <td>1706.0</td>\n",
              "      <td>827.0</td>\n",
              "      <td>446.0</td>\n",
              "    </tr>\n",
              "    <tr>\n",
              "      <th>2009</th>\n",
              "      <td>1518.0</td>\n",
              "      <td>876.0</td>\n",
              "      <td>470.0</td>\n",
              "    </tr>\n",
              "    <tr>\n",
              "      <th>2010</th>\n",
              "      <td>1543.0</td>\n",
              "      <td>834.0</td>\n",
              "      <td>489.0</td>\n",
              "    </tr>\n",
              "    <tr>\n",
              "      <th>2011</th>\n",
              "      <td>1508.0</td>\n",
              "      <td>NaN</td>\n",
              "      <td>478.0</td>\n",
              "    </tr>\n",
              "    <tr>\n",
              "      <th>2012</th>\n",
              "      <td>1325.0</td>\n",
              "      <td>785.0</td>\n",
              "      <td>443.0</td>\n",
              "    </tr>\n",
              "    <tr>\n",
              "      <th>2013</th>\n",
              "      <td>1257.0</td>\n",
              "      <td>801.0</td>\n",
              "      <td>433.0</td>\n",
              "    </tr>\n",
              "    <tr>\n",
              "      <th>2014</th>\n",
              "      <td>1279.0</td>\n",
              "      <td>776.0</td>\n",
              "      <td>439.0</td>\n",
              "    </tr>\n",
              "  </tbody>\n",
              "</table>\n",
              "</div>"
            ],
            "text/plain": [
              "         미용실     양식집    일식집\n",
              "2005  2241.0  1354.0  497.0\n",
              "2006  2118.0     NaN  440.0\n",
              "2007     NaN  1126.0  458.0\n",
              "2008  1706.0   827.0  446.0\n",
              "2009  1518.0   876.0  470.0\n",
              "2010  1543.0   834.0  489.0\n",
              "2011  1508.0     NaN  478.0\n",
              "2012  1325.0   785.0  443.0\n",
              "2013  1257.0   801.0  433.0\n",
              "2014  1279.0   776.0  439.0"
            ]
          },
          "metadata": {
            "tags": []
          },
          "execution_count": 136
        }
      ]
    },
    {
      "cell_type": "code",
      "metadata": {
        "id": "mYS7ub3MBQNT",
        "colab_type": "code",
        "colab": {
          "base_uri": "https://localhost:8080/",
          "height": 35
        },
        "outputId": "61e539c3-29c7-4d1f-e061-a86635b4e388"
      },
      "source": [
        "#2\n",
        "sum(df.isnull().sum())"
      ],
      "execution_count": 42,
      "outputs": [
        {
          "output_type": "execute_result",
          "data": {
            "text/plain": [
              "3"
            ]
          },
          "metadata": {
            "tags": []
          },
          "execution_count": 42
        }
      ]
    },
    {
      "cell_type": "code",
      "metadata": {
        "id": "pm3LSGWHDhTF",
        "colab_type": "code",
        "colab": {
          "base_uri": "https://localhost:8080/",
          "height": 359
        },
        "outputId": "c1bc4c6c-bc60-4e4c-c39e-1a334c36a9e7"
      },
      "source": [
        "#3\n",
        "\n",
        "df.iloc[2,0] = 2000\n",
        "df.loc[2006,'양식집'] = 1000\n",
        "df = df.fillna(df.mean())\n",
        "df"
      ],
      "execution_count": 137,
      "outputs": [
        {
          "output_type": "execute_result",
          "data": {
            "text/html": [
              "<div>\n",
              "<style scoped>\n",
              "    .dataframe tbody tr th:only-of-type {\n",
              "        vertical-align: middle;\n",
              "    }\n",
              "\n",
              "    .dataframe tbody tr th {\n",
              "        vertical-align: top;\n",
              "    }\n",
              "\n",
              "    .dataframe thead th {\n",
              "        text-align: right;\n",
              "    }\n",
              "</style>\n",
              "<table border=\"1\" class=\"dataframe\">\n",
              "  <thead>\n",
              "    <tr style=\"text-align: right;\">\n",
              "      <th></th>\n",
              "      <th>미용실</th>\n",
              "      <th>양식집</th>\n",
              "      <th>일식집</th>\n",
              "    </tr>\n",
              "  </thead>\n",
              "  <tbody>\n",
              "    <tr>\n",
              "      <th>2005</th>\n",
              "      <td>2241.0</td>\n",
              "      <td>1354.0</td>\n",
              "      <td>497.0</td>\n",
              "    </tr>\n",
              "    <tr>\n",
              "      <th>2006</th>\n",
              "      <td>2118.0</td>\n",
              "      <td>1000.0</td>\n",
              "      <td>440.0</td>\n",
              "    </tr>\n",
              "    <tr>\n",
              "      <th>2007</th>\n",
              "      <td>2000.0</td>\n",
              "      <td>1126.0</td>\n",
              "      <td>458.0</td>\n",
              "    </tr>\n",
              "    <tr>\n",
              "      <th>2008</th>\n",
              "      <td>1706.0</td>\n",
              "      <td>827.0</td>\n",
              "      <td>446.0</td>\n",
              "    </tr>\n",
              "    <tr>\n",
              "      <th>2009</th>\n",
              "      <td>1518.0</td>\n",
              "      <td>876.0</td>\n",
              "      <td>470.0</td>\n",
              "    </tr>\n",
              "    <tr>\n",
              "      <th>2010</th>\n",
              "      <td>1543.0</td>\n",
              "      <td>834.0</td>\n",
              "      <td>489.0</td>\n",
              "    </tr>\n",
              "    <tr>\n",
              "      <th>2011</th>\n",
              "      <td>1508.0</td>\n",
              "      <td>931.0</td>\n",
              "      <td>478.0</td>\n",
              "    </tr>\n",
              "    <tr>\n",
              "      <th>2012</th>\n",
              "      <td>1325.0</td>\n",
              "      <td>785.0</td>\n",
              "      <td>443.0</td>\n",
              "    </tr>\n",
              "    <tr>\n",
              "      <th>2013</th>\n",
              "      <td>1257.0</td>\n",
              "      <td>801.0</td>\n",
              "      <td>433.0</td>\n",
              "    </tr>\n",
              "    <tr>\n",
              "      <th>2014</th>\n",
              "      <td>1279.0</td>\n",
              "      <td>776.0</td>\n",
              "      <td>439.0</td>\n",
              "    </tr>\n",
              "  </tbody>\n",
              "</table>\n",
              "</div>"
            ],
            "text/plain": [
              "         미용실     양식집    일식집\n",
              "2005  2241.0  1354.0  497.0\n",
              "2006  2118.0  1000.0  440.0\n",
              "2007  2000.0  1126.0  458.0\n",
              "2008  1706.0   827.0  446.0\n",
              "2009  1518.0   876.0  470.0\n",
              "2010  1543.0   834.0  489.0\n",
              "2011  1508.0   931.0  478.0\n",
              "2012  1325.0   785.0  443.0\n",
              "2013  1257.0   801.0  433.0\n",
              "2014  1279.0   776.0  439.0"
            ]
          },
          "metadata": {
            "tags": []
          },
          "execution_count": 137
        }
      ]
    },
    {
      "cell_type": "code",
      "metadata": {
        "id": "9HVWuCZgGxDA",
        "colab_type": "code",
        "colab": {
          "base_uri": "https://localhost:8080/",
          "height": 359
        },
        "outputId": "c3089849-fc3e-4b63-b938-a054097209da"
      },
      "source": [
        "#4\n",
        "del df['일식집']\n",
        "df\n"
      ],
      "execution_count": 138,
      "outputs": [
        {
          "output_type": "execute_result",
          "data": {
            "text/html": [
              "<div>\n",
              "<style scoped>\n",
              "    .dataframe tbody tr th:only-of-type {\n",
              "        vertical-align: middle;\n",
              "    }\n",
              "\n",
              "    .dataframe tbody tr th {\n",
              "        vertical-align: top;\n",
              "    }\n",
              "\n",
              "    .dataframe thead th {\n",
              "        text-align: right;\n",
              "    }\n",
              "</style>\n",
              "<table border=\"1\" class=\"dataframe\">\n",
              "  <thead>\n",
              "    <tr style=\"text-align: right;\">\n",
              "      <th></th>\n",
              "      <th>미용실</th>\n",
              "      <th>양식집</th>\n",
              "    </tr>\n",
              "  </thead>\n",
              "  <tbody>\n",
              "    <tr>\n",
              "      <th>2005</th>\n",
              "      <td>2241.0</td>\n",
              "      <td>1354.0</td>\n",
              "    </tr>\n",
              "    <tr>\n",
              "      <th>2006</th>\n",
              "      <td>2118.0</td>\n",
              "      <td>1000.0</td>\n",
              "    </tr>\n",
              "    <tr>\n",
              "      <th>2007</th>\n",
              "      <td>2000.0</td>\n",
              "      <td>1126.0</td>\n",
              "    </tr>\n",
              "    <tr>\n",
              "      <th>2008</th>\n",
              "      <td>1706.0</td>\n",
              "      <td>827.0</td>\n",
              "    </tr>\n",
              "    <tr>\n",
              "      <th>2009</th>\n",
              "      <td>1518.0</td>\n",
              "      <td>876.0</td>\n",
              "    </tr>\n",
              "    <tr>\n",
              "      <th>2010</th>\n",
              "      <td>1543.0</td>\n",
              "      <td>834.0</td>\n",
              "    </tr>\n",
              "    <tr>\n",
              "      <th>2011</th>\n",
              "      <td>1508.0</td>\n",
              "      <td>931.0</td>\n",
              "    </tr>\n",
              "    <tr>\n",
              "      <th>2012</th>\n",
              "      <td>1325.0</td>\n",
              "      <td>785.0</td>\n",
              "    </tr>\n",
              "    <tr>\n",
              "      <th>2013</th>\n",
              "      <td>1257.0</td>\n",
              "      <td>801.0</td>\n",
              "    </tr>\n",
              "    <tr>\n",
              "      <th>2014</th>\n",
              "      <td>1279.0</td>\n",
              "      <td>776.0</td>\n",
              "    </tr>\n",
              "  </tbody>\n",
              "</table>\n",
              "</div>"
            ],
            "text/plain": [
              "         미용실     양식집\n",
              "2005  2241.0  1354.0\n",
              "2006  2118.0  1000.0\n",
              "2007  2000.0  1126.0\n",
              "2008  1706.0   827.0\n",
              "2009  1518.0   876.0\n",
              "2010  1543.0   834.0\n",
              "2011  1508.0   931.0\n",
              "2012  1325.0   785.0\n",
              "2013  1257.0   801.0\n",
              "2014  1279.0   776.0"
            ]
          },
          "metadata": {
            "tags": []
          },
          "execution_count": 138
        }
      ]
    },
    {
      "cell_type": "code",
      "metadata": {
        "id": "-KQ_FLwRI_0x",
        "colab_type": "code",
        "colab": {
          "base_uri": "https://localhost:8080/",
          "height": 233
        },
        "outputId": "0d774308-407d-4e42-e092-16be51493775"
      },
      "source": [
        "#5\n",
        "col.name = '중식집'\n",
        "col"
      ],
      "execution_count": 98,
      "outputs": [
        {
          "output_type": "execute_result",
          "data": {
            "text/plain": [
              "2005    497.0\n",
              "2006    440.0\n",
              "2007    458.0\n",
              "2008    446.0\n",
              "2009    470.0\n",
              "2010    489.0\n",
              "2011    478.0\n",
              "2012    443.0\n",
              "2013    433.0\n",
              "2014    439.0\n",
              "2006    459.3\n",
              "Name: 중식집, dtype: float64"
            ]
          },
          "metadata": {
            "tags": []
          },
          "execution_count": 98
        }
      ]
    },
    {
      "cell_type": "code",
      "metadata": {
        "id": "CRDWDr4oJh04",
        "colab_type": "code",
        "colab": {
          "base_uri": "https://localhost:8080/",
          "height": 359
        },
        "outputId": "baf63283-79d1-4efe-b00a-cf9e9c25e9fd"
      },
      "source": [
        "#6\n",
        "df['중식집'] = col\n",
        "df\n",
        "#시리즈 넣는 방법 알려주세용 merge concat 쓰기"
      ],
      "execution_count": 139,
      "outputs": [
        {
          "output_type": "execute_result",
          "data": {
            "text/html": [
              "<div>\n",
              "<style scoped>\n",
              "    .dataframe tbody tr th:only-of-type {\n",
              "        vertical-align: middle;\n",
              "    }\n",
              "\n",
              "    .dataframe tbody tr th {\n",
              "        vertical-align: top;\n",
              "    }\n",
              "\n",
              "    .dataframe thead th {\n",
              "        text-align: right;\n",
              "    }\n",
              "</style>\n",
              "<table border=\"1\" class=\"dataframe\">\n",
              "  <thead>\n",
              "    <tr style=\"text-align: right;\">\n",
              "      <th></th>\n",
              "      <th>미용실</th>\n",
              "      <th>양식집</th>\n",
              "      <th>중식집</th>\n",
              "    </tr>\n",
              "  </thead>\n",
              "  <tbody>\n",
              "    <tr>\n",
              "      <th>2005</th>\n",
              "      <td>2241.0</td>\n",
              "      <td>1354.0</td>\n",
              "      <td>497.0</td>\n",
              "    </tr>\n",
              "    <tr>\n",
              "      <th>2006</th>\n",
              "      <td>2118.0</td>\n",
              "      <td>1000.0</td>\n",
              "      <td>440.0</td>\n",
              "    </tr>\n",
              "    <tr>\n",
              "      <th>2007</th>\n",
              "      <td>2000.0</td>\n",
              "      <td>1126.0</td>\n",
              "      <td>458.0</td>\n",
              "    </tr>\n",
              "    <tr>\n",
              "      <th>2008</th>\n",
              "      <td>1706.0</td>\n",
              "      <td>827.0</td>\n",
              "      <td>446.0</td>\n",
              "    </tr>\n",
              "    <tr>\n",
              "      <th>2009</th>\n",
              "      <td>1518.0</td>\n",
              "      <td>876.0</td>\n",
              "      <td>470.0</td>\n",
              "    </tr>\n",
              "    <tr>\n",
              "      <th>2010</th>\n",
              "      <td>1543.0</td>\n",
              "      <td>834.0</td>\n",
              "      <td>489.0</td>\n",
              "    </tr>\n",
              "    <tr>\n",
              "      <th>2011</th>\n",
              "      <td>1508.0</td>\n",
              "      <td>931.0</td>\n",
              "      <td>478.0</td>\n",
              "    </tr>\n",
              "    <tr>\n",
              "      <th>2012</th>\n",
              "      <td>1325.0</td>\n",
              "      <td>785.0</td>\n",
              "      <td>443.0</td>\n",
              "    </tr>\n",
              "    <tr>\n",
              "      <th>2013</th>\n",
              "      <td>1257.0</td>\n",
              "      <td>801.0</td>\n",
              "      <td>433.0</td>\n",
              "    </tr>\n",
              "    <tr>\n",
              "      <th>2014</th>\n",
              "      <td>1279.0</td>\n",
              "      <td>776.0</td>\n",
              "      <td>439.0</td>\n",
              "    </tr>\n",
              "  </tbody>\n",
              "</table>\n",
              "</div>"
            ],
            "text/plain": [
              "         미용실     양식집    중식집\n",
              "2005  2241.0  1354.0  497.0\n",
              "2006  2118.0  1000.0  440.0\n",
              "2007  2000.0  1126.0  458.0\n",
              "2008  1706.0   827.0  446.0\n",
              "2009  1518.0   876.0  470.0\n",
              "2010  1543.0   834.0  489.0\n",
              "2011  1508.0   931.0  478.0\n",
              "2012  1325.0   785.0  443.0\n",
              "2013  1257.0   801.0  433.0\n",
              "2014  1279.0   776.0  439.0"
            ]
          },
          "metadata": {
            "tags": []
          },
          "execution_count": 139
        }
      ]
    },
    {
      "cell_type": "code",
      "metadata": {
        "id": "Qcgr1uPlKZ-d",
        "colab_type": "code",
        "colab": {
          "base_uri": "https://localhost:8080/",
          "height": 89
        },
        "outputId": "39475432-c810-48b8-84c5-462a68630810"
      },
      "source": [
        "#7\n",
        "np.sum(df >= 2000)"
      ],
      "execution_count": 140,
      "outputs": [
        {
          "output_type": "execute_result",
          "data": {
            "text/plain": [
              "미용실    3\n",
              "양식집    0\n",
              "중식집    0\n",
              "dtype: int64"
            ]
          },
          "metadata": {
            "tags": []
          },
          "execution_count": 140
        }
      ]
    },
    {
      "cell_type": "code",
      "metadata": {
        "id": "6f1lPevFMi0Z",
        "colab_type": "code",
        "colab": {
          "base_uri": "https://localhost:8080/",
          "height": 35
        },
        "outputId": "1f033655-bd92-45b6-c7d0-5ec28301537f"
      },
      "source": [
        "#8\n",
        "df[df >= 2000]\n",
        "df.index[df['미용실'] >= 2000]"
      ],
      "execution_count": 163,
      "outputs": [
        {
          "output_type": "execute_result",
          "data": {
            "text/plain": [
              "Int64Index([2005, 2006, 2007], dtype='int64')"
            ]
          },
          "metadata": {
            "tags": []
          },
          "execution_count": 163
        }
      ]
    },
    {
      "cell_type": "code",
      "metadata": {
        "id": "6vAAJZH0OkiZ",
        "colab_type": "code",
        "colab": {
          "base_uri": "https://localhost:8080/",
          "height": 265
        },
        "outputId": "61dfe66a-4c8d-42f2-fb62-159fff4c5104"
      },
      "source": [
        "import matplotlib as mpl\n",
        "import matplotlib.pylab as plt\n",
        "\n",
        "plt.plot(df)\n",
        "plt.legend(['mi','yang','china'])\n",
        "plt.show()"
      ],
      "execution_count": 156,
      "outputs": [
        {
          "output_type": "display_data",
          "data": {
            "image/png": "[encoded data removed]",
            "text/plain": [
              "<Figure size 432x288 with 1 Axes>"
            ]
          },
          "metadata": {
            "tags": []
          }
        }
      ]
    }
  ]
}