{
  "nbformat": 4,
  "nbformat_minor": 0,
  "metadata": {
    "colab": {
      "name": "titanic",
      "provenance": [],
      "toc_visible": true,
      "include_colab_link": true
    },
    "kernelspec": {
      "name": "python3",
      "display_name": "Python 3"
    },
    "accelerator": "GPU"
  },
  "cells": [
    {
      "cell_type": "markdown",
      "metadata": {
        "id": "view-in-github",
        "colab_type": "text"
      },
      "source": [
        "<a href=\"https://colab.research.google.com/github/minicks/BigI/blob/master/titanic4.ipynb\" target=\"_parent\"><img src=\"https://colab.research.google.com/assets/colab-badge.svg\" alt=\"Open In Colab\"/></a>"
      ]
    },
    {
      "cell_type": "code",
      "metadata": {
        "id": "iCMMQMT8EyoU",
        "colab_type": "code",
        "outputId": "1103341b-3f43-4b85-8ee6-47875e90e249",
        "colab": {
          "base_uri": "https://localhost:8080/",
          "height": 127
        }
      },
      "source": [
        "from google.colab import drive\n",
        "drive.mount('/content/drive')"
      ],
      "execution_count": 1,
      "outputs": [
        {
          "output_type": "stream",
          "text": [
            "Go to this URL in a browser: https://accounts.google.com/o/oauth2/auth?client_id=947318989803-6bn6qk8qdgf4n4g3pfee6491hc0brc4i.apps.googleusercontent.com&redirect_uri=urn%3aietf%3awg%3aoauth%3a2.0%3aoob&response_type=code&scope=email%20https%3a%2f%2fwww.googleapis.com%2fauth%2fdocs.test%20https%3a%2f%2fwww.googleapis.com%2fauth%2fdrive%20https%3a%2f%2fwww.googleapis.com%2fauth%2fdrive.photos.readonly%20https%3a%2f%2fwww.googleapis.com%2fauth%2fpeopleapi.readonly\n",
            "\n",
            "Enter your authorization code:\n",
            "··········\n",
            "Mounted at /content/drive\n"
          ],
          "name": "stdout"
        }
      ]
    },
    {
      "cell_type": "code",
      "metadata": {
        "id": "flxySFAeE80g",
        "colab_type": "code",
        "colab": {}
      },
      "source": [
        "# data analysis and wrangling\n",
        "import pandas as pd\n",
        "import numpy as np\n",
        "import random as rnd\n",
        "\n",
        "# visualization\n",
        "import seaborn as sns\n",
        "import matplotlib.pyplot as plt\n",
        "%matplotlib inline\n",
        "\n",
        "# machine learning\n",
        "from sklearn.linear_model import LogisticRegression\n",
        "from sklearn.svm import SVC, LinearSVC\n",
        "from sklearn.ensemble import RandomForestClassifier\n",
        "from sklearn.neighbors import KNeighborsClassifier\n",
        "from sklearn.naive_bayes import GaussianNB\n",
        "from sklearn.linear_model import Perceptron\n",
        "from sklearn.linear_model import SGDClassifier\n",
        "from sklearn.tree import DecisionTreeClassifier\n",
        "from sklearn.model_selection import train_test_split\n",
        "\n"
      ],
      "execution_count": 0,
      "outputs": []
    },
    {
      "cell_type": "markdown",
      "metadata": {
        "id": "moZK_fd0chkQ",
        "colab_type": "text"
      },
      "source": [
        "데이터 불러오기"
      ]
    },
    {
      "cell_type": "code",
      "metadata": {
        "id": "RstUBbvADgMe",
        "colab_type": "code",
        "colab": {}
      },
      "source": [
        "train_df = pd.read_csv('/content/drive/My Drive/train.csv')\n",
        "test_df = pd.read_csv('/content/drive/My Drive/test.csv')\n",
        "combine = [train_df, test_df]"
      ],
      "execution_count": 0,
      "outputs": []
    },
    {
      "cell_type": "markdown",
      "metadata": {
        "id": "5do2VWk2ub4Q",
        "colab_type": "text"
      },
      "source": [
        "# 전처리"
      ]
    },
    {
      "cell_type": "markdown",
      "metadata": {
        "id": "NQ5Hy_Irdo0l",
        "colab_type": "text"
      },
      "source": [
        "## train 전 처리"
      ]
    },
    {
      "cell_type": "markdown",
      "metadata": {
        "id": "b4pLZd3qMGuh",
        "colab_type": "text"
      },
      "source": [
        "전처리('Embarked') 문자를 숫자값으로"
      ]
    },
    {
      "cell_type": "code",
      "metadata": {
        "id": "JLpNFVD6IF8u",
        "colab_type": "code",
        "colab": {}
      },
      "source": [
        "for index in train_df[train_df['Embarked'] == 'C'].index:\n",
        "  train_df.loc[index,'Embarked'] = 0\n",
        "\n",
        "for index in train_df[train_df['Embarked'] == 'Q'].index:\n",
        "  train_df.loc[index,'Embarked'] = 1\n",
        "\n",
        "for index in train_df[train_df['Embarked'] == 'S'].index:\n",
        "  train_df.loc[index,'Embarked'] = 2\n",
        "\n",
        "for index in train_df[train_df['Embarked'].isnull()].index:\n",
        "  train_df.loc[index,'Embarked'] = 0"
      ],
      "execution_count": 0,
      "outputs": []
    },
    {
      "cell_type": "markdown",
      "metadata": {
        "id": "MYCw_Hk1OF_q",
        "colab_type": "text"
      },
      "source": [
        "전처리('Sex') 문자를 숫자값으로"
      ]
    },
    {
      "cell_type": "code",
      "metadata": {
        "id": "Ft2WcWWXONhI",
        "colab_type": "code",
        "colab": {}
      },
      "source": [
        "for index in train_df[train_df['Sex'] == 'male'].index:\n",
        "  train_df.loc[index,'Sex'] = 0\n",
        "\n",
        "for index in train_df[train_df['Sex'] == 'female'].index:\n",
        "  train_df.loc[index,'Sex'] = 1"
      ],
      "execution_count": 0,
      "outputs": []
    },
    {
      "cell_type": "markdown",
      "metadata": {
        "colab_type": "text",
        "id": "gyKbxnYhdFaq"
      },
      "source": [
        "나이 변환"
      ]
    },
    {
      "cell_type": "code",
      "metadata": {
        "colab_type": "code",
        "id": "PO8qyziEdFaw",
        "colab": {}
      },
      "source": [
        "for index in train_df[train_df['Age'].isnull()].index:\n",
        "  if (train_df.loc[index,'SibSp']==0) & (train_df.loc[index,'Parch']==0):\n",
        "    train_df.loc[index,'Age'] = 32.0\n",
        "  elif (train_df.loc[index,'SibSp']==0) & ((2>=train_df.loc[index,'Parch']) & (train_df.loc[index,'Parch'] > 0)):\n",
        "    train_df.loc[index,'Age'] = 26.0\n",
        "  elif (train_df.loc[index,'SibSp'] == 0) & (train_df.loc[index,'Parch'] > 2):\n",
        "    train_df.loc[index,'Age'] = 32.0\n",
        "  elif ((2 >= train_df.loc[index,'SibSp']) & (train_df.loc[index,'SibSp'] > 0)) & (train_df.loc[index,'Parch']==0):\n",
        "    train_df.loc[index,'Age'] = 32.0\n",
        "  elif ((2 >= train_df.loc[index,'SibSp']) & (train_df.loc[index,'SibSp'] > 0)) & ((2>=train_df.loc[index,'Parch']) &(train_df.loc[index,'Parch'] > 0)):\n",
        "    train_df.loc[index,'Age'] = 23.0\n",
        "  elif ((2>=train_df.loc[index,'SibSp']) & (train_df.loc[index,'SibSp'] > 0)) & (train_df.loc[index,'Parch'] > 2):\n",
        "    train_df.loc[index,'Age'] = 40.0\n",
        "  elif (train_df.loc[index,'SibSp']>2) & (train_df.loc[index,'Parch']==0):\n",
        "    train_df.loc[index,'Age'] = 31.0\n",
        "  elif (train_df.loc[index,'SibSp']>2) & ((2>=train_df.loc[index,'Parch']) &(train_df.loc[index,'Parch'] > 0)):\n",
        "    train_df.loc[index,'Age'] = 8.0\n",
        "  elif (train_df.loc[index,'SibSp']>2) & (train_df.loc[index,'Parch'] > 2):\n",
        "    train_df.loc[index,'Age'] = 32.0\n"
      ],
      "execution_count": 0,
      "outputs": []
    },
    {
      "cell_type": "code",
      "metadata": {
        "id": "-L-kbd_Ei9pd",
        "colab_type": "code",
        "colab": {
          "base_uri": "https://localhost:8080/",
          "height": 204
        },
        "outputId": "0ea8bd4c-97d9-43d3-8932-1f22cde4bbca"
      },
      "source": [
        "# 분포 확인\n",
        "train_df['AgeBand'] = pd.cut(train_df['Age'], 5)\n",
        "train_df[['AgeBand', 'Survived']].groupby(['AgeBand'], as_index=False).mean().sort_values(by='AgeBand', ascending=True)"
      ],
      "execution_count": 91,
      "outputs": [
        {
          "output_type": "execute_result",
          "data": {
            "text/html": [
              "<div>\n",
              "<style scoped>\n",
              "    .dataframe tbody tr th:only-of-type {\n",
              "        vertical-align: middle;\n",
              "    }\n",
              "\n",
              "    .dataframe tbody tr th {\n",
              "        vertical-align: top;\n",
              "    }\n",
              "\n",
              "    .dataframe thead th {\n",
              "        text-align: right;\n",
              "    }\n",
              "</style>\n",
              "<table border=\"1\" class=\"dataframe\">\n",
              "  <thead>\n",
              "    <tr style=\"text-align: right;\">\n",
              "      <th></th>\n",
              "      <th>AgeBand</th>\n",
              "      <th>Survived</th>\n",
              "    </tr>\n",
              "  </thead>\n",
              "  <tbody>\n",
              "    <tr>\n",
              "      <th>0</th>\n",
              "      <td>(0.34, 16.336]</td>\n",
              "      <td>0.550000</td>\n",
              "    </tr>\n",
              "    <tr>\n",
              "      <th>1</th>\n",
              "      <td>(16.336, 32.252]</td>\n",
              "      <td>0.369942</td>\n",
              "    </tr>\n",
              "    <tr>\n",
              "      <th>2</th>\n",
              "      <td>(32.252, 48.168]</td>\n",
              "      <td>0.404255</td>\n",
              "    </tr>\n",
              "    <tr>\n",
              "      <th>3</th>\n",
              "      <td>(48.168, 64.084]</td>\n",
              "      <td>0.434783</td>\n",
              "    </tr>\n",
              "    <tr>\n",
              "      <th>4</th>\n",
              "      <td>(64.084, 80.0]</td>\n",
              "      <td>0.090909</td>\n",
              "    </tr>\n",
              "  </tbody>\n",
              "</table>\n",
              "</div>"
            ],
            "text/plain": [
              "            AgeBand  Survived\n",
              "0    (0.34, 16.336]  0.550000\n",
              "1  (16.336, 32.252]  0.369942\n",
              "2  (32.252, 48.168]  0.404255\n",
              "3  (48.168, 64.084]  0.434783\n",
              "4    (64.084, 80.0]  0.090909"
            ]
          },
          "metadata": {
            "tags": []
          },
          "execution_count": 91
        }
      ]
    },
    {
      "cell_type": "code",
      "metadata": {
        "colab_type": "code",
        "id": "6fCBWrIUtzOo",
        "colab": {}
      },
      "source": [
        "train_df = train_df.drop(['AgeBand'], axis=1)"
      ],
      "execution_count": 0,
      "outputs": []
    },
    {
      "cell_type": "code",
      "metadata": {
        "id": "eS5CqG7C6jdS",
        "colab_type": "code",
        "colab": {
          "base_uri": "https://localhost:8080/",
          "height": 204
        },
        "outputId": "4defaf42-d335-44f2-ab5a-84a26c1d76a1"
      },
      "source": [
        "train_df['FareBand'] = pd.qcut(train_df['Fare'], 5)\n",
        "train_df[['FareBand', 'Survived']].groupby(['FareBand'], as_index=False).mean().sort_values(by='FareBand', ascending=True)"
      ],
      "execution_count": 90,
      "outputs": [
        {
          "output_type": "execute_result",
          "data": {
            "text/html": [
              "<div>\n",
              "<style scoped>\n",
              "    .dataframe tbody tr th:only-of-type {\n",
              "        vertical-align: middle;\n",
              "    }\n",
              "\n",
              "    .dataframe tbody tr th {\n",
              "        vertical-align: top;\n",
              "    }\n",
              "\n",
              "    .dataframe thead th {\n",
              "        text-align: right;\n",
              "    }\n",
              "</style>\n",
              "<table border=\"1\" class=\"dataframe\">\n",
              "  <thead>\n",
              "    <tr style=\"text-align: right;\">\n",
              "      <th></th>\n",
              "      <th>FareBand</th>\n",
              "      <th>Survived</th>\n",
              "    </tr>\n",
              "  </thead>\n",
              "  <tbody>\n",
              "    <tr>\n",
              "      <th>0</th>\n",
              "      <td>(-0.001, 7.854]</td>\n",
              "      <td>0.217877</td>\n",
              "    </tr>\n",
              "    <tr>\n",
              "      <th>1</th>\n",
              "      <td>(7.854, 10.5]</td>\n",
              "      <td>0.201087</td>\n",
              "    </tr>\n",
              "    <tr>\n",
              "      <th>2</th>\n",
              "      <td>(10.5, 21.679]</td>\n",
              "      <td>0.424419</td>\n",
              "    </tr>\n",
              "    <tr>\n",
              "      <th>3</th>\n",
              "      <td>(21.679, 39.688]</td>\n",
              "      <td>0.444444</td>\n",
              "    </tr>\n",
              "    <tr>\n",
              "      <th>4</th>\n",
              "      <td>(39.688, 512.329]</td>\n",
              "      <td>0.642045</td>\n",
              "    </tr>\n",
              "  </tbody>\n",
              "</table>\n",
              "</div>"
            ],
            "text/plain": [
              "            FareBand  Survived\n",
              "0    (-0.001, 7.854]  0.217877\n",
              "1      (7.854, 10.5]  0.201087\n",
              "2     (10.5, 21.679]  0.424419\n",
              "3   (21.679, 39.688]  0.444444\n",
              "4  (39.688, 512.329]  0.642045"
            ]
          },
          "metadata": {
            "tags": []
          },
          "execution_count": 90
        }
      ]
    },
    {
      "cell_type": "code",
      "metadata": {
        "id": "zqp0csGS6jZV",
        "colab_type": "code",
        "colab": {}
      },
      "source": [
        "train_df = train_df.drop(['FareBand'], axis=1)"
      ],
      "execution_count": 0,
      "outputs": []
    },
    {
      "cell_type": "markdown",
      "metadata": {
        "colab_type": "text",
        "id": "Z0eTJXO5fgR6"
      },
      "source": [
        "원핫인코딩"
      ]
    },
    {
      "cell_type": "code",
      "metadata": {
        "colab_type": "code",
        "id": "zLx91ISSfgR8",
        "colab": {
          "base_uri": "https://localhost:8080/",
          "height": 73
        },
        "outputId": "660bcf79-20b0-4f34-a299-bceec7a08ced"
      },
      "source": [
        "train_df[\"Embarked_C\"] = train_df[\"Embarked\"] == \"C\"\n",
        "train_df[\"Embarked_S\"] = train_df[\"Embarked\"] == \"S\"\n",
        "train_df[\"Embarked_Q\"] = train_df[\"Embarked\"] == \"Q\"\n",
        "\n",
        "def dummy_data(data, columns):\n",
        "    for column in columns:\n",
        "        data = pd.concat([data, pd.get_dummies(data[column], prefix = column)], axis=1)\n",
        "        data = data.drop(column, axis=1)\n",
        "    return data\n",
        "\n",
        "\n",
        "dummy_columns = [\"Sex\", \"Pclass\", \"Embarked\"]\n",
        "train_df = dummy_data(train_df, dummy_columns)"
      ],
      "execution_count": 64,
      "outputs": [
        {
          "output_type": "stream",
          "text": [
            "/usr/local/lib/python3.6/dist-packages/pandas/core/ops/__init__.py:1115: FutureWarning: elementwise comparison failed; returning scalar instead, but in the future will perform elementwise comparison\n",
            "  result = method(y)\n"
          ],
          "name": "stderr"
        }
      ]
    },
    {
      "cell_type": "markdown",
      "metadata": {
        "id": "kcshscuY34Ar",
        "colab_type": "text"
      },
      "source": [
        "## test 전처리"
      ]
    },
    {
      "cell_type": "markdown",
      "metadata": {
        "colab_type": "text",
        "id": "ecBsI7GgvIDq"
      },
      "source": [
        "전처리('Embarked') 문자를 숫자값으로"
      ]
    },
    {
      "cell_type": "code",
      "metadata": {
        "colab_type": "code",
        "id": "2wxJ7kEz36nT",
        "colab": {}
      },
      "source": [
        "for index in test_df[test_df['Embarked'] == 'C'].index:\n",
        "  test_df.loc[index,'Embarked'] = 0\n",
        "\n",
        "for index in test_df[test_df['Embarked'] == 'Q'].index:\n",
        "  test_df.loc[index,'Embarked'] = 1\n",
        "\n",
        "for index in test_df[test_df['Embarked'] == 'S'].index:\n",
        "  test_df.loc[index,'Embarked'] = 2\n",
        "\n",
        "for index in test_df[test_df['Embarked'].isnull()].index:\n",
        "  test_df.loc[index,'Embarked'] = 0"
      ],
      "execution_count": 0,
      "outputs": []
    },
    {
      "cell_type": "markdown",
      "metadata": {
        "colab_type": "text",
        "id": "1QY9pWByvKK-"
      },
      "source": [
        "전처리('Sex') 문자를 숫자값으로"
      ]
    },
    {
      "cell_type": "code",
      "metadata": {
        "colab_type": "code",
        "id": "Zr1mdoCS36nY",
        "colab": {}
      },
      "source": [
        "for index in test_df[test_df['Sex'] == 'male'].index:\n",
        "  test_df.loc[index,'Sex'] = 0\n",
        "\n",
        "for index in test_df[test_df['Sex'] == 'female'].index:\n",
        "  test_df.loc[index,'Sex'] = 1"
      ],
      "execution_count": 0,
      "outputs": []
    },
    {
      "cell_type": "markdown",
      "metadata": {
        "colab_type": "text",
        "id": "KinAJ3ERdM9r"
      },
      "source": [
        "나이 변환"
      ]
    },
    {
      "cell_type": "code",
      "metadata": {
        "colab_type": "code",
        "id": "davbsMYcdM9w",
        "colab": {}
      },
      "source": [
        "for index in test_df[test_df['Age'].isnull()].index:\n",
        "  if (test_df.loc[index,'SibSp']==0) & (test_df.loc[index,'Parch']==0):\n",
        "    test_df.loc[index,'Age'] = 32.0\n",
        "  if (test_df.loc[index,'SibSp']==0) & ((2>=test_df.loc[index,'Parch']) &(test_df.loc[index,'Parch'] > 0)):\n",
        "    test_df.loc[index,'Age'] = 26.0\n",
        "  if (test_df.loc[index,'SibSp']==0) & (test_df.loc[index,'Parch'] > 2):\n",
        "    test_df.loc[index,'Age'] = 32.0\n",
        "  if ((2>=test_df.loc[index,'SibSp']) &(test_df.loc[index,'SibSp'] > 0)) & (test_df.loc[index,'Parch']==0):\n",
        "    test_df.loc[index,'Age'] = 32.0\n",
        "  if ((2>=test_df.loc[index,'SibSp']) &(test_df.loc[index,'SibSp'] > 0)) & ((2>=test_df.loc[index,'Parch']) &(test_df.loc[index,'Parch'] > 0)):\n",
        "    test_df.loc[index,'Age'] = 23.0\n",
        "  if ((2>=test_df.loc[index,'SibSp']) &(test_df.loc[index,'SibSp'] > 0)) & (test_df.loc[index,'Parch'] > 2):\n",
        "    test_df.loc[index,'Age'] = 40.0\n",
        "  if (test_df.loc[index,'SibSp']>2) & (test_df.loc[index,'Parch']==0):\n",
        "    test_df.loc[index,'Age'] = 31.0\n",
        "  if (test_df.loc[index,'SibSp']>2) & ((2>=test_df.loc[index,'Parch']) &(test_df.loc[index,'Parch'] > 0)):\n",
        "    test_df.loc[index,'Age'] = 8.0\n",
        "  if (test_df.loc[index,'SibSp']>2) & (test_df.loc[index,'Parch'] > 2):\n",
        "    test_df.loc[index,'Age'] = 32.0\n"
      ],
      "execution_count": 0,
      "outputs": []
    },
    {
      "cell_type": "code",
      "metadata": {
        "id": "H4wwGJ_fi_Qa",
        "colab_type": "code",
        "colab": {}
      },
      "source": [
        "combine = [train_df, test_df]\n",
        "for dataset in combine:\n",
        "    dataset['Title'] = dataset.Name.str.extract(' ([A-Za-z]+)\\.', expand=False)\n",
        "\n",
        "for dataset in combine:\n",
        "    dataset['Title'] = dataset['Title'].replace(['Lady', 'Countess','Capt', 'Col',\\\n",
        " \t'Don', 'Dr', 'Major', 'Rev', 'Sir', 'Jonkheer', 'Dona'], 'Rare')\n",
        "\n",
        "    dataset['Title'] = dataset['Title'].replace('Mlle', 'Miss')\n",
        "    dataset['Title'] = dataset['Title'].replace('Ms', 'Miss')\n",
        "    dataset['Title'] = dataset['Title'].replace('Mme', 'Mrs')\n",
        "\n",
        "title_mapping = {\"Mr\": 1, \"Miss\": 2, \"Mrs\": 3, \"Master\": 4, \"Rare\": 5}\n",
        "for dataset in combine:\n",
        "    dataset['Title'] = dataset['Title'].map(title_mapping)\n",
        "    dataset['Title'] = dataset['Title'].fillna(0)\n"
      ],
      "execution_count": 0,
      "outputs": []
    },
    {
      "cell_type": "code",
      "metadata": {
        "colab_type": "code",
        "id": "awaTrMKssMXb",
        "colab": {}
      },
      "source": [
        "for dataset in combine:    \n",
        "    dataset.loc[ dataset['Age'] <= 16.336, 'Age'] = 0\n",
        "    dataset.loc[(dataset['Age'] > 16.336) & (dataset['Age'] <= 32.252), 'Age'] = 1\n",
        "    dataset.loc[(dataset['Age'] > 32.252) & (dataset['Age'] <= 48.168), 'Age'] = 2\n",
        "    dataset.loc[(dataset['Age'] > 48.168) & (dataset['Age'] <= 64.084), 'Age'] = 3\n",
        "    dataset.loc[ dataset['Age'] > 64.084, 'Age'] = 4"
      ],
      "execution_count": 0,
      "outputs": []
    },
    {
      "cell_type": "code",
      "metadata": {
        "id": "xGhCsP505PfX",
        "colab_type": "code",
        "colab": {}
      },
      "source": [
        "for dataset in combine:\n",
        "    dataset.loc[ dataset['Fare'] <= 7.854, 'Fare'] = 0\n",
        "    dataset.loc[(dataset['Fare'] > 7.854) & (dataset['Fare'] <= 10.5), 'Fare'] = 1\n",
        "    dataset.loc[(dataset['Fare'] > 10.5) & (dataset['Fare'] <= 21.679), 'Fare']   = 2\n",
        "    dataset.loc[(dataset['Fare'] > 21.679) & (dataset['Fare'] <= 39.688), 'Fare']   = 3\n",
        "    dataset.loc[ dataset['Fare'] > 39.688, 'Fare'] = 4"
      ],
      "execution_count": 0,
      "outputs": []
    },
    {
      "cell_type": "markdown",
      "metadata": {
        "id": "QMVEX0mIfZ-V",
        "colab_type": "text"
      },
      "source": [
        "원핫인코딩"
      ]
    },
    {
      "cell_type": "code",
      "metadata": {
        "id": "9eCFCb1LfBD2",
        "colab_type": "code",
        "colab": {
          "base_uri": "https://localhost:8080/",
          "height": 73
        },
        "outputId": "75e0ff92-d547-4645-f6cf-00fe98bac1d9"
      },
      "source": [
        "test_df[\"Embarked_C\"] = test_df[\"Embarked\"] == \"C\"\n",
        "test_df[\"Embarked_S\"] = test_df[\"Embarked\"] == \"S\"\n",
        "test_df[\"Embarked_Q\"] = test_df[\"Embarked\"] == \"Q\"\n",
        "\n",
        "test_df = dummy_data(test_df, dummy_columns)"
      ],
      "execution_count": 48,
      "outputs": [
        {
          "output_type": "stream",
          "text": [
            "/usr/local/lib/python3.6/dist-packages/pandas/core/ops/__init__.py:1115: FutureWarning: elementwise comparison failed; returning scalar instead, but in the future will perform elementwise comparison\n",
            "  result = method(y)\n"
          ],
          "name": "stderr"
        }
      ]
    },
    {
      "cell_type": "markdown",
      "metadata": {
        "id": "W0XAYPyTq4K5",
        "colab_type": "text"
      },
      "source": [
        "col 삭제"
      ]
    },
    {
      "cell_type": "code",
      "metadata": {
        "colab_type": "code",
        "id": "Heyzx0GQe3YK",
        "colab": {}
      },
      "source": [
        "# Name,Ticket,Cabin col 삭제\n",
        "df_1 = train_df.drop(columns=['Name','Ticket','Cabin'])"
      ],
      "execution_count": 0,
      "outputs": []
    },
    {
      "cell_type": "code",
      "metadata": {
        "id": "bAsBGzW5fstp",
        "colab_type": "code",
        "colab": {}
      },
      "source": [
        "#train,valid 나누기 \n",
        "train0,test0 = train_test_split(df_1,test_size=0.3, random_state=1)"
      ],
      "execution_count": 0,
      "outputs": []
    },
    {
      "cell_type": "code",
      "metadata": {
        "colab_type": "code",
        "id": "1quv4PEZ36nb",
        "colab": {}
      },
      "source": [
        "# Name,Ticket,Cabin col 삭제\n",
        "df_2 = test_df.drop(columns=['Name','Ticket','Cabin'])"
      ],
      "execution_count": 0,
      "outputs": []
    },
    {
      "cell_type": "markdown",
      "metadata": {
        "id": "JN7pxQWk4oMi",
        "colab_type": "text"
      },
      "source": [
        "None 값 채우기"
      ]
    },
    {
      "cell_type": "code",
      "metadata": {
        "id": "eh6wqUh1gAqv",
        "colab_type": "code",
        "colab": {}
      },
      "source": [
        "train0=train0.fillna(0.0)\n",
        "test0=test0.fillna(10.0)"
      ],
      "execution_count": 0,
      "outputs": []
    },
    {
      "cell_type": "code",
      "metadata": {
        "id": "ffsOCwCNdBOd",
        "colab_type": "code",
        "colab": {}
      },
      "source": [
        "df_2=df_2.fillna(20.0)"
      ],
      "execution_count": 0,
      "outputs": []
    },
    {
      "cell_type": "markdown",
      "metadata": {
        "id": "tXu9Wypn4bQB",
        "colab_type": "text"
      },
      "source": [
        "## 회귀 넣기 전 데이터 *처리*"
      ]
    },
    {
      "cell_type": "code",
      "metadata": {
        "colab_type": "code",
        "id": "D3W85UHL4dDb",
        "colab": {}
      },
      "source": [
        "Ytrain = train0[\"Survived\"]\n",
        "Xtrain = train0.drop(\"Survived\",axis = 1)\n",
        "Ytest = test0[\"Survived\"]\n",
        "Xtest = test0.drop(\"Survived\",axis = 1)\n",
        "Ydf_1 = df_1[\"Survived\"]\n",
        "Xdf_1 = df_1.drop(\"Survived\",axis = 1)"
      ],
      "execution_count": 0,
      "outputs": []
    },
    {
      "cell_type": "code",
      "metadata": {
        "colab_type": "code",
        "id": "iVvSLHUb4dDs",
        "colab": {}
      },
      "source": [
        "Xtrain=Xtrain.astype('float32')\n",
        "Ytrain=Ytrain.astype('float32')\n",
        "Xtest=Xtest.astype('float32')\n",
        "Ytest=Ytest.astype('float32')\n",
        "Xdf_1=Xdf_1.astype('float32')\n",
        "Ydf_1=Ydf_1.astype('float32')\n",
        "df_2=df_2.astype('float32')\n"
      ],
      "execution_count": 0,
      "outputs": []
    },
    {
      "cell_type": "markdown",
      "metadata": {
        "id": "dm5dSzUMvSCu",
        "colab_type": "text"
      },
      "source": [
        "## 전처리 test"
      ]
    },
    {
      "cell_type": "code",
      "metadata": {
        "id": "MOw9YlHW40FU",
        "colab_type": "code",
        "colab": {}
      },
      "source": [
        "for index in train_df[train_df['Age'].isnull()].index:\n",
        "  train_df=train_df.drop(index=index)"
      ],
      "execution_count": 0,
      "outputs": []
    },
    {
      "cell_type": "code",
      "metadata": {
        "id": "ofW6NosgQl3K",
        "colab_type": "code",
        "colab": {}
      },
      "source": [
        "for index in test_df[test_df['Age'].isnull()].index:\n",
        "  test_df=test_df.drop(index=index)"
      ],
      "execution_count": 0,
      "outputs": []
    },
    {
      "cell_type": "markdown",
      "metadata": {
        "id": "q16YEcloN2Iw",
        "colab_type": "text"
      },
      "source": [
        "test"
      ]
    },
    {
      "cell_type": "code",
      "metadata": {
        "id": "uxggUEGwUjLp",
        "colab_type": "code",
        "colab": {}
      },
      "source": [
        "train_df[((2>=train_df['SibSp']) &(train_df['SibSp'] > 0)) & (train_df['Parch'] > 2)].describe()"
      ],
      "execution_count": 0,
      "outputs": []
    },
    {
      "cell_type": "code",
      "metadata": {
        "id": "xmrgc31sYduY",
        "colab_type": "code",
        "colab": {}
      },
      "source": [
        "train_df[((2>=train_df['SibSp']) &(train_df['SibSp'] > 0)) & ((2>=train_df['Parch']) &(train_df['Parch'] > 0))].describe()"
      ],
      "execution_count": 0,
      "outputs": []
    },
    {
      "cell_type": "code",
      "metadata": {
        "id": "utVFX6_QYuRF",
        "colab_type": "code",
        "colab": {}
      },
      "source": [
        "train_df[((2>=train_df['SibSp']) &(train_df['SibSp'] > 0)) & (train_df['Parch'] == 0)].describe()"
      ],
      "execution_count": 0,
      "outputs": []
    },
    {
      "cell_type": "code",
      "metadata": {
        "id": "IbzTEnJl0yHG",
        "colab_type": "code",
        "colab": {}
      },
      "source": [
        "df_1.info()"
      ],
      "execution_count": 0,
      "outputs": []
    },
    {
      "cell_type": "code",
      "metadata": {
        "id": "Quha6_s2RQXH",
        "colab_type": "code",
        "colab": {}
      },
      "source": [
        "df_2.info()"
      ],
      "execution_count": 0,
      "outputs": []
    },
    {
      "cell_type": "code",
      "metadata": {
        "id": "QaR5nuRawE2O",
        "colab_type": "code",
        "colab": {}
      },
      "source": [
        "Xdf_1"
      ],
      "execution_count": 0,
      "outputs": []
    },
    {
      "cell_type": "code",
      "metadata": {
        "id": "1hky8_Jwv97i",
        "colab_type": "code",
        "colab": {}
      },
      "source": [
        "Xtrain"
      ],
      "execution_count": 0,
      "outputs": []
    },
    {
      "cell_type": "code",
      "metadata": {
        "id": "V3w5L7wEtE8W",
        "colab_type": "code",
        "colab": {}
      },
      "source": [
        "for a in XXtrain.isnull():\n",
        "  print(a)"
      ],
      "execution_count": 0,
      "outputs": []
    },
    {
      "cell_type": "markdown",
      "metadata": {
        "id": "l_HQT7lQvyIN",
        "colab_type": "text"
      },
      "source": [
        "# 회귀 분석"
      ]
    },
    {
      "cell_type": "code",
      "metadata": {
        "id": "WAOCp4o9x7e2",
        "colab_type": "code",
        "outputId": "5b627bfb-e8e7-42de-ce0a-7d1f8b902592",
        "colab": {
          "base_uri": "https://localhost:8080/",
          "height": 71
        }
      },
      "source": [
        "random_forest = RandomForestClassifier(n_estimators=1000)\n",
        "random_forest.fit(Xtrain, Ytrain)\n",
        "Ftrain = random_forest.predict(Xtrain)\n",
        "Ydf_2 = random_forest.predict(df_2)\n",
        "random_forest.score(Xtest,Ytest )\n",
        "random_forest.score(Xtrain, Ytrain )\n",
        "random_forest.score(df_2, Ydf_2 )\n",
        "acc_random_forest1 = round(random_forest.score(Xtrain, Ftrain ) * 100, 2)\n",
        "acc_random_forest2 = round(random_forest.score(Xtest,Ytest ) * 100, 2)\n",
        "acc_random_forest3 = round(random_forest.score(df_2,Ydf_2 ) * 100, 2)\n",
        "print('train : ' , acc_random_forest1)\n",
        "print('valid : ' , acc_random_forest2)\n",
        "print('test : ' ,acc_random_forest3)"
      ],
      "execution_count": 108,
      "outputs": [
        {
          "output_type": "stream",
          "text": [
            "train :  100.0\n",
            "valid :  76.12\n",
            "test :  100.0\n"
          ],
          "name": "stdout"
        }
      ]
    },
    {
      "cell_type": "code",
      "metadata": {
        "id": "8E5PIL5ay8tz",
        "colab_type": "code",
        "colab": {
          "base_uri": "https://localhost:8080/",
          "height": 71
        },
        "outputId": "74d58887-c37f-4066-a32b-0ce8b56cdf3b"
      },
      "source": [
        "random_forest = RandomForestClassifier(n_estimators=1000)\n",
        "random_forest.fit(Xdf_1, Ydf_1)\n",
        "Ftrain = random_forest.predict(Xtrain)\n",
        "Ydf_2 = random_forest.predict(df_2)\n",
        "random_forest.score(Xtest,Ytest )\n",
        "random_forest.score(Xtrain, Ytrain )\n",
        "random_forest.score(df_2, Ydf_2 )\n",
        "acc_random_forest1 = round(random_forest.score(Xtrain, Ftrain ) * 100, 2)\n",
        "acc_random_forest2 = round(random_forest.score(Xtest,Ytest ) * 100, 2)\n",
        "acc_random_forest3 = round(random_forest.score(df_2,Ydf_2 ) * 100, 2)\n",
        "print('train : ' , acc_random_forest1)\n",
        "print('valid : ' , acc_random_forest2)\n",
        "print('test : ' ,acc_random_forest3)"
      ],
      "execution_count": 109,
      "outputs": [
        {
          "output_type": "stream",
          "text": [
            "train :  100.0\n",
            "valid :  100.0\n",
            "test :  100.0\n"
          ],
          "name": "stdout"
        }
      ]
    },
    {
      "cell_type": "markdown",
      "metadata": {
        "id": "_YXJ0O13vrMB",
        "colab_type": "text"
      },
      "source": [
        "# 파일 저장"
      ]
    },
    {
      "cell_type": "code",
      "metadata": {
        "id": "ttbleKb263JR",
        "colab_type": "code",
        "colab": {}
      },
      "source": [
        "submission = pd.DataFrame({\n",
        "        \"PassengerId\": df_2[\"PassengerId\"],\n",
        "        \"Survived\": Ydf_2\n",
        "    })\n",
        "submission.to_csv('Fare_5'+'titanic_SUBMISSION.csv', index=False)"
      ],
      "execution_count": 0,
      "outputs": []
    },
    {
      "cell_type": "markdown",
      "metadata": {
        "id": "OBTtSYr9c9QH",
        "colab_type": "text"
      },
      "source": [
        "# 정보 모으기"
      ]
    },
    {
      "cell_type": "code",
      "metadata": {
        "id": "QXdca_vtFdnY",
        "colab_type": "code",
        "colab": {}
      },
      "source": [
        "print(train_df.sort_values(by='Survived'))\n",
        "print(train_df.columns.values)\n",
        "print('======================================================')\n",
        "print(test_df)\n",
        "print(test_df.columns.values)\n",
        "print('======================================================')\n",
        "print(combine)\n",
        "print('======================================================')"
      ],
      "execution_count": 0,
      "outputs": []
    },
    {
      "cell_type": "code",
      "metadata": {
        "id": "Yuol56XBFsGm",
        "colab_type": "code",
        "colab": {}
      },
      "source": [
        "print(train_df.min())\n",
        "print(train_df.max())\n",
        "train_df.describe(include='all')"
      ],
      "execution_count": 0,
      "outputs": []
    },
    {
      "cell_type": "code",
      "metadata": {
        "id": "Du6ofliP6-h7",
        "colab_type": "code",
        "colab": {}
      },
      "source": [
        "train_df.info()"
      ],
      "execution_count": 0,
      "outputs": []
    },
    {
      "cell_type": "code",
      "metadata": {
        "id": "Uw5dv9gC7KPn",
        "colab_type": "code",
        "colab": {}
      },
      "source": [
        "for a in train_df.index[train_df['Age'].isnull()]:\n",
        "  print(a)"
      ],
      "execution_count": 0,
      "outputs": []
    },
    {
      "cell_type": "code",
      "metadata": {
        "id": "GK7Brkp2Qwvs",
        "colab_type": "code",
        "colab": {}
      },
      "source": [
        "g = sns.FacetGrid(train_df, col='Survived')\n",
        "g.map(plt.hist, 'Age', bins=20)"
      ],
      "execution_count": 0,
      "outputs": []
    },
    {
      "cell_type": "code",
      "metadata": {
        "id": "hGIQb-MXa2mH",
        "colab_type": "code",
        "colab": {}
      },
      "source": [
        "grid = sns.FacetGrid(train_df, col='Survived', row='Pclass', size=2.2, aspect=1.6)\n",
        "grid.map(plt.hist, 'Cabin', alpha=.5, bins=20)\n",
        "grid.add_legend();"
      ],
      "execution_count": 0,
      "outputs": []
    },
    {
      "cell_type": "code",
      "metadata": {
        "id": "iLYfqfmIHU7N",
        "colab_type": "code",
        "colab": {}
      },
      "source": [
        "for index in train_df[train_df['Age'].isnull()].index:\n",
        "  print(train_df.loc[index,['Pclass','SibSp','Parch']])"
      ],
      "execution_count": 0,
      "outputs": []
    },
    {
      "cell_type": "code",
      "metadata": {
        "id": "FUhKnkHiU7Il",
        "colab_type": "code",
        "colab": {}
      },
      "source": [
        "\n",
        "for index in train_df[(train_df['Age'].isnull()) & (train_df['SibSp'] == 0) & (train_df['Parch'] == 0)].index:\n",
        "  print(train_df.loc[index,['Pclass','SibSp','Parch','Fare','Embarked','Cabin']])"
      ],
      "execution_count": 0,
      "outputs": []
    },
    {
      "cell_type": "code",
      "metadata": {
        "id": "SBqM0KeyVaR8",
        "colab_type": "code",
        "colab": {}
      },
      "source": [
        "train_df.corr(method='pearson')"
      ],
      "execution_count": 0,
      "outputs": []
    },
    {
      "cell_type": "code",
      "metadata": {
        "id": "Cj-AZzd3IMFy",
        "colab_type": "code",
        "colab": {}
      },
      "source": [
        "train_df.info()"
      ],
      "execution_count": 0,
      "outputs": []
    },
    {
      "cell_type": "code",
      "metadata": {
        "id": "IdTQNvd1MEqR",
        "colab_type": "code",
        "colab": {}
      },
      "source": [
        "train_df.corr(method='pearson')"
      ],
      "execution_count": 0,
      "outputs": []
    },
    {
      "cell_type": "code",
      "metadata": {
        "id": "nfyTkVx-fHp8",
        "colab_type": "code",
        "colab": {}
      },
      "source": [
        "train_df.describe()"
      ],
      "execution_count": 0,
      "outputs": []
    },
    {
      "cell_type": "code",
      "metadata": {
        "id": "2wMa4WbgMy3y",
        "colab_type": "code",
        "colab": {}
      },
      "source": [
        "for index in train_df[train_df['Pclass'] == 1].index:\n",
        "  train_df.loc[index,'Pclass'] = 'a'"
      ],
      "execution_count": 0,
      "outputs": []
    },
    {
      "cell_type": "code",
      "metadata": {
        "id": "QiWieJtkNJ1T",
        "colab_type": "code",
        "colab": {}
      },
      "source": [
        "for index in train_df[train_df['Pclass'] == 3].index:\n",
        "  print(train_df.loc[index,'Cabin'])"
      ],
      "execution_count": 0,
      "outputs": []
    },
    {
      "cell_type": "code",
      "metadata": {
        "id": "KeY1vXLodJ6w",
        "colab_type": "code",
        "colab": {}
      },
      "source": [
        ""
      ],
      "execution_count": 0,
      "outputs": []
    },
    {
      "cell_type": "markdown",
      "metadata": {
        "id": "lBY4ixOL4Tui",
        "colab_type": "text"
      },
      "source": [
        "# 새 섹션"
      ]
    },
    {
      "cell_type": "code",
      "metadata": {
        "id": "T0Kc3fc2yLLj",
        "colab_type": "code",
        "colab": {}
      },
      "source": [
        "Ytrain = train0[\"Survived\"]\n",
        "Xtrain = train0.drop(\"Survived\",axis = 1)\n",
        "Xtest = test0.drop(\"Survived\",axis = 1)"
      ],
      "execution_count": 0,
      "outputs": []
    },
    {
      "cell_type": "code",
      "metadata": {
        "id": "D80kV6ESzzXq",
        "colab_type": "code",
        "colab": {}
      },
      "source": [
        "Xtrain=Xtrain.astype('float32')\n",
        "Ytrain=Ytrain.astype('float32')\n",
        "Xtest=Xtest.astype('float32')"
      ],
      "execution_count": 0,
      "outputs": []
    },
    {
      "cell_type": "code",
      "metadata": {
        "id": "mLxAhV7q2JRz",
        "colab_type": "code",
        "colab": {}
      },
      "source": [
        "for index in Xtrain[Xtrain.isnull()].index:\n",
        "  print(Xtrain.loc[index])"
      ],
      "execution_count": 0,
      "outputs": []
    },
    {
      "cell_type": "code",
      "metadata": {
        "id": "SpNCOZtX1p6z",
        "colab_type": "code",
        "colab": {}
      },
      "source": [
        "Xtrain[Xtrain.isnull()]"
      ],
      "execution_count": 0,
      "outputs": []
    },
    {
      "cell_type": "code",
      "metadata": {
        "id": "CAk9N2H_2xpo",
        "colab_type": "code",
        "colab": {}
      },
      "source": [
        "Xtest.info()"
      ],
      "execution_count": 0,
      "outputs": []
    },
    {
      "cell_type": "code",
      "metadata": {
        "id": "JO_8tp6h2rJJ",
        "colab_type": "code",
        "colab": {}
      },
      "source": [
        "Xtrain[Xtrain.isnull()].index"
      ],
      "execution_count": 0,
      "outputs": []
    },
    {
      "cell_type": "code",
      "metadata": {
        "id": "x-gjAot07UsG",
        "colab_type": "code",
        "colab": {}
      },
      "source": [
        "Ypred"
      ],
      "execution_count": 0,
      "outputs": []
    },
    {
      "cell_type": "code",
      "metadata": {
        "id": "r47MzGb25vpO",
        "colab_type": "code",
        "colab": {}
      },
      "source": [
        "df_2"
      ],
      "execution_count": 0,
      "outputs": []
    }
  ]
}