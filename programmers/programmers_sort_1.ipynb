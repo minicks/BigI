{
  "nbformat": 4,
  "nbformat_minor": 0,
  "metadata": {
    "colab": {
      "name": "programmers_sort_1.ipynb",
      "provenance": [],
      "authorship_tag": "ABX9TyNHb//UCD4s3XuPzng8yUN1",
      "include_colab_link": true
    },
    "kernelspec": {
      "name": "python3",
      "display_name": "Python 3"
    },
    "accelerator": "GPU"
  },
  "cells": [
    {
      "cell_type": "markdown",
      "metadata": {
        "id": "view-in-github",
        "colab_type": "text"
      },
      "source": [
        "<a href=\"https://colab.research.google.com/github/minicks/BigI/blob/master/programmers/programmers_sort_1.ipynb\" target=\"_parent\"><img src=\"https://colab.research.google.com/assets/colab-badge.svg\" alt=\"Open In Colab\"/></a>"
      ]
    },
    {
      "cell_type": "markdown",
      "metadata": {
        "id": "XTMZw9kpfvus",
        "colab_type": "text"
      },
      "source": [
        "#FINAL"
      ]
    },
    {
      "cell_type": "code",
      "metadata": {
        "id": "UygNIU-dfp_7",
        "colab_type": "code",
        "colab": {}
      },
      "source": [
        "# Final 코드\n",
        "def solution(array, commands):\n",
        "    answer = []\n",
        "    #command 별로 사용\n",
        "    for com in commands:\n",
        "        list = sorted(array[com[0]-1:com[1]])\n",
        "        answer.append(list[com[2]-1])\n",
        "    return answer"
      ],
      "execution_count": 0,
      "outputs": []
    },
    {
      "cell_type": "markdown",
      "metadata": {
        "id": "57Y3Mh51ft2T",
        "colab_type": "text"
      },
      "source": [
        "#연습"
      ]
    },
    {
      "cell_type": "code",
      "metadata": {
        "id": "GUTpUWa3exU-",
        "colab_type": "code",
        "colab": {}
      },
      "source": [
        "def solution(array, commands):\n",
        "    answer = []\n",
        "    #command 별로 사용\n",
        "    for com in commands:\n",
        "        list = array[com[0]-1:com[1]]\n",
        "        answer.append(list[com[2]-1])\n",
        "    return answer"
      ],
      "execution_count": 0,
      "outputs": []
    },
    {
      "cell_type": "code",
      "metadata": {
        "id": "gSeezrqve2mz",
        "colab_type": "code",
        "colab": {}
      },
      "source": [
        "array = [1, 5, 2, 6, 3, 7, 4]\n",
        "commands\t= [[2, 5, 3], [4, 4, 1], [1, 7, 3]]"
      ],
      "execution_count": 0,
      "outputs": []
    },
    {
      "cell_type": "code",
      "metadata": {
        "id": "q6DS4sJFe-gq",
        "colab_type": "code",
        "colab": {
          "base_uri": "https://localhost:8080/",
          "height": 35
        },
        "outputId": "315e423e-5be0-4e77-8ba3-9fdebaeee5cb"
      },
      "source": [
        "print(solution(array,commands))"
      ],
      "execution_count": 4,
      "outputs": [
        {
          "output_type": "stream",
          "text": [
            "[6, 6, 2]\n"
          ],
          "name": "stdout"
        }
      ]
    },
    {
      "cell_type": "code",
      "metadata": {
        "id": "FB-mdk3nfIvC",
        "colab_type": "code",
        "colab": {
          "base_uri": "https://localhost:8080/",
          "height": 71
        },
        "outputId": "cd885ac8-8c9b-4540-c986-d23163f0e824"
      },
      "source": [
        "answer = []\n",
        "#command 별로 사용\n",
        "for com in commands:\n",
        "  list = sorted(array[com[0]-1:com[1]])\n",
        "  answer.append(list[com[2]-1])\n",
        "  print(list)\n"
      ],
      "execution_count": 8,
      "outputs": [
        {
          "output_type": "stream",
          "text": [
            "[2, 3, 5, 6]\n",
            "[6]\n",
            "[1, 2, 3, 4, 5, 6, 7]\n"
          ],
          "name": "stdout"
        }
      ]
    }
  ]
}