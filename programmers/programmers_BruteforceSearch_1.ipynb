{
  "nbformat": 4,
  "nbformat_minor": 0,
  "metadata": {
    "colab": {
      "name": "programmers_BruteforceSearch_1.ipynb",
      "provenance": [],
      "authorship_tag": "ABX9TyNiAS37102xjAEPACHK7GWW",
      "include_colab_link": true
    },
    "kernelspec": {
      "name": "python3",
      "display_name": "Python 3"
    }
  },
  "cells": [
    {
      "cell_type": "markdown",
      "metadata": {
        "id": "view-in-github",
        "colab_type": "text"
      },
      "source": [
        "<a href=\"https://colab.research.google.com/github/minicks/BigI/blob/master/programmers/programmers_BruteforceSearch_1.ipynb\" target=\"_parent\"><img src=\"https://colab.research.google.com/assets/colab-badge.svg\" alt=\"Open In Colab\"/></a>"
      ]
    },
    {
      "cell_type": "markdown",
      "metadata": {
        "id": "6sGmZTKo1bGq",
        "colab_type": "text"
      },
      "source": [
        ""
      ]
    },
    {
      "cell_type": "code",
      "metadata": {
        "id": "Z5OEvk-K0CBp",
        "colab_type": "code",
        "colab": {}
      },
      "source": [
        "def solution(answers):\n",
        "    answer = []\n",
        "    ans1,ans2,ans3 = 0,0,0\n",
        "    for i in range(len(answers)):\n",
        "    # 1\n",
        "        if 0 == (i%5) and 1 == answers[i]:\n",
        "            ans1 += 1\n",
        "        elif 1 == (i%5) and 2 == answers[i]:\n",
        "            ans1 += 1\n",
        "        elif 2 == (i%5) and 3 == answers[i]:\n",
        "            ans1 += 1\n",
        "        elif 3 == (i%5) and 4 == answers[i]:\n",
        "            ans1 += 1\n",
        "        elif 4 == (i%5) and 5 == answers[i]:\n",
        "            ans1 += 1\n",
        "    # 2\n",
        "        if 0 == (i%2) and 2 == answers[i]:\n",
        "            ans2 += 1\n",
        "        elif 1 == (i%8) and 1 == answers[i]:\n",
        "            ans2 += 1\n",
        "        elif 3 == (i%8) and 3 == answers[i]:\n",
        "            ans2 += 1\n",
        "        elif 5 == (i%8) and 4 == answers[i]:\n",
        "            ans2 += 1\n",
        "        elif 7 == (i%8) and 5 == answers[i]:\n",
        "            ans2 += 1\n",
        "    # 3\n",
        "        if (0 == (i%10) or 1 == (i%10)) and 3 == answers[i]:\n",
        "            ans3 += 1\n",
        "        elif (2 == (i%10) or 3 == (i%10)) and 1 == answers[i]:\n",
        "            ans3 += 1\n",
        "        elif (4 == (i%10) or 5 == (i%10)) and 2 == answers[i]:\n",
        "            ans3 += 1\n",
        "        elif (6 == (i%10) or 7 == (i%10)) and 4 == answers[i]:\n",
        "            ans3 += 1\n",
        "        elif (8 == (i%10) or 9 == (i%10)) and 5 == answers[i]:\n",
        "            ans3 += 1\n",
        "\n",
        "    if ans1 >= max(ans1,ans2,ans3):\n",
        "        answer.append(1)\n",
        "    if ans2 >= max(ans1,ans2,ans3):\n",
        "        answer.append(2)\n",
        "    if ans3 >= max(ans1,ans2,ans3):\n",
        "        answer.append(3)\n",
        "\n",
        "    # pattern1 = [1,2,3,4,5]\n",
        "    # pattern2 = [2,1,2,3,2,4,2,5]\n",
        "    # pattern3 = [3,3,1,1,2,2,4,4,5,5]\n",
        "    # score = [0, 0, 0]\n",
        "    # result = []\n",
        "\n",
        "    # for idx, answer in enumerate(answers):\n",
        "    #     if answer == pattern1[idx%len(pattern1)]:\n",
        "    #         score[0] += 1\n",
        "    #     if answer == pattern2[idx%len(pattern2)]:\n",
        "    #         score[1] += 1\n",
        "    #     if answer == pattern3[idx%len(pattern3)]:\n",
        "    #         score[2] += 1\n",
        "\n",
        "    # for idx, s in enumerate(score):\n",
        "    #     if s == max(score):\n",
        "    #         result.append(idx+1)\n",
        "\n",
        "\n",
        "    return answer"
      ],
      "execution_count": 0,
      "outputs": []
    }
  ]
}