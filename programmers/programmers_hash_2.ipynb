{
  "nbformat": 4,
  "nbformat_minor": 0,
  "metadata": {
    "colab": {
      "name": "programmers_hash_2.ipynb",
      "provenance": [],
      "authorship_tag": "ABX9TyMCfuon5qkiMMOu7iZwAvVT",
      "include_colab_link": true
    },
    "kernelspec": {
      "name": "python3",
      "display_name": "Python 3"
    }
  },
  "cells": [
    {
      "cell_type": "markdown",
      "metadata": {
        "id": "view-in-github",
        "colab_type": "text"
      },
      "source": [
        "<a href=\"https://colab.research.google.com/github/minicks/BigI/blob/master/programmers/programmers_hash_2.ipynb\" target=\"_parent\"><img src=\"https://colab.research.google.com/assets/colab-badge.svg\" alt=\"Open In Colab\"/></a>"
      ]
    },
    {
      "cell_type": "code",
      "metadata": {
        "id": "Wk_EJX6M5K-2",
        "colab_type": "code",
        "colab": {}
      },
      "source": [
        "def solution(phone_book):\n",
        "    answer = True\n",
        "    for i in range(0,len(phone_book)):\n",
        "        for j in range(0,len(phone_book)):\n",
        "            if i == j:\n",
        "                continue\n",
        "            if phone_book[i] == phone_book[j][:len(phone_book[i])]:\n",
        "                answer = False\n",
        "                break\n",
        "        if not answer:\n",
        "            break\n",
        "    return answer"
      ],
      "execution_count": 0,
      "outputs": []
    }
  ]
}