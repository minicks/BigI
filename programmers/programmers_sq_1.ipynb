{
  "nbformat": 4,
  "nbformat_minor": 0,
  "metadata": {
    "colab": {
      "name": "programmers_sq_1.ipynb",
      "provenance": [],
      "authorship_tag": "ABX9TyOPKWbHoFOYdwtjByMbTx7g",
      "include_colab_link": true
    },
    "kernelspec": {
      "name": "python3",
      "display_name": "Python 3"
    }
  },
  "cells": [
    {
      "cell_type": "markdown",
      "metadata": {
        "id": "view-in-github",
        "colab_type": "text"
      },
      "source": [
        "<a href=\"https://colab.research.google.com/github/minicks/BigI/blob/master/programmers/programmers_sq_1.ipynb\" target=\"_parent\"><img src=\"https://colab.research.google.com/assets/colab-badge.svg\" alt=\"Open In Colab\"/></a>"
      ]
    },
    {
      "cell_type": "code",
      "metadata": {
        "id": "cxiN5rpq5ae3",
        "colab_type": "code",
        "colab": {}
      },
      "source": [
        "def solution(heights):\n",
        "    answer = []\n",
        "    for i in range(len(heights)):\n",
        "        no = True\n",
        "        for j in range(i,-1,-1):\n",
        "            if heights[i]<heights[j]:\n",
        "                answer.append(j+1)\n",
        "                no = False\n",
        "                break\n",
        "        if no:\n",
        "            answer.append(0)\n",
        "            \n",
        "    return answer"
      ],
      "execution_count": 0,
      "outputs": []
    }
  ]
}