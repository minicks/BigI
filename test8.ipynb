{
  "nbformat": 4,
  "nbformat_minor": 0,
  "metadata": {
    "colab": {
      "name": "Untitled33.ipynb",
      "provenance": [],
      "authorship_tag": "ABX9TyMDa0U4fjLBA3KaJQpBNrR7",
      "include_colab_link": true
    },
    "kernelspec": {
      "name": "python3",
      "display_name": "Python 3"
    }
  },
  "cells": [
    {
      "cell_type": "markdown",
      "metadata": {
        "id": "view-in-github",
        "colab_type": "text"
      },
      "source": [
        "<a href=\"https://colab.research.google.com/github/minicks/BigI/blob/master/test8.ipynb\" target=\"_parent\"><img src=\"https://colab.research.google.com/assets/colab-badge.svg\" alt=\"Open In Colab\"/></a>"
      ]
    },
    {
      "cell_type": "code",
      "metadata": {
        "id": "0LO2RwSrWZ6W",
        "colab_type": "code",
        "colab": {}
      },
      "source": [
        "# Input: [1, 2, 4, 0, 3]\n",
        "\n",
        "# Output: True\n",
        "\n",
        "# // 1 -> 2 -> 4 -> 3 -> 0 -> 1"
      ],
      "execution_count": 1,
      "outputs": []
    },
    {
      "cell_type": "code",
      "metadata": {
        "id": "cbREaalCWfdi",
        "colab_type": "code",
        "colab": {}
      },
      "source": [
        "arr = [1, 2, 2, 0]\n",
        "to = len(arr)\n",
        "count = 0\n",
        "se = True"
      ],
      "execution_count": 6,
      "outputs": []
    },
    {
      "cell_type": "code",
      "metadata": {
        "id": "GVNR3l6UWkC6",
        "colab_type": "code",
        "colab": {}
      },
      "source": [
        "def sol(arr):\n",
        "  to = len(arr)\n",
        "  count = 0\n",
        "  se = True\n",
        "  i = 0\n",
        "  while se:\n",
        "    i = arr[i]\n",
        "    count +=1\n",
        "    if i == 0:\n",
        "      if count == to:\n",
        "        print(True)\n",
        "        break\n",
        "      else:\n",
        "        print(False)\n",
        "        break\n",
        "    if count == to:\n",
        "      print(False)\n",
        "      break\n"
      ],
      "execution_count": 9,
      "outputs": []
    },
    {
      "cell_type": "code",
      "metadata": {
        "id": "wg2oQ1XJYmvM",
        "colab_type": "code",
        "colab": {
          "base_uri": "https://localhost:8080/",
          "height": 35
        },
        "outputId": "2b5fa0aa-58c0-4974-9c5c-cfa2fe168a6c"
      },
      "source": [
        "sol([1, 2, 2, 0])"
      ],
      "execution_count": 10,
      "outputs": [
        {
          "output_type": "stream",
          "text": [
            "False\n"
          ],
          "name": "stdout"
        }
      ]
    }
  ]
}