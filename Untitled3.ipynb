{
  "nbformat": 4,
  "nbformat_minor": 0,
  "metadata": {
    "colab": {
      "name": "Untitled3.ipynb",
      "provenance": [],
      "collapsed_sections": [],
      "include_colab_link": true
    },
    "kernelspec": {
      "name": "python2",
      "display_name": "Python 2"
    }
  },
  "cells": [
    {
      "cell_type": "markdown",
      "metadata": {
        "id": "view-in-github",
        "colab_type": "text"
      },
      "source": [
        "<a href=\"https://colab.research.google.com/github/minicks/BigI/blob/master/Untitled3.ipynb\" target=\"_parent\"><img src=\"https://colab.research.google.com/assets/colab-badge.svg\" alt=\"Open In Colab\"/></a>"
      ]
    },
    {
      "cell_type": "code",
      "metadata": {
        "id": "zIwI3UKmwrQ2",
        "colab_type": "code",
        "colab": {}
      },
      "source": [
        "import pandas as pd\n",
        "import numpy as np"
      ],
      "execution_count": 0,
      "outputs": []
    },
    {
      "cell_type": "markdown",
      "metadata": {
        "id": "rl2B0MLWw9DX",
        "colab_type": "text"
      },
      "source": [
        ""
      ]
    },
    {
      "cell_type": "code",
      "metadata": {
        "id": "gy91fpyizwOl",
        "colab_type": "code",
        "colab": {
          "base_uri": "https://localhost:8080/",
          "height": 485
        },
        "outputId": "71dbccce-466a-486b-bad0-8ad7ada85596"
      },
      "source": [
        "a=np.hstack([list('ABCDE')])\n",
        "b=np.round(np.random.rand(3, 5), 2)\n",
        "a\n",
        "c=''\n",
        "for b in list('ABCDE'):\n",
        "  c = np.vstack([c,b])\n",
        "  print(b)\n",
        "  print(c)\n",
        "c.T\n"
      ],
      "execution_count": 79,
      "outputs": [
        {
          "output_type": "stream",
          "text": [
            "A\n",
            "[['']\n",
            " ['A']]\n",
            "B\n",
            "[['']\n",
            " ['A']\n",
            " ['B']]\n",
            "C\n",
            "[['']\n",
            " ['A']\n",
            " ['B']\n",
            " ['C']]\n",
            "D\n",
            "[['']\n",
            " ['A']\n",
            " ['B']\n",
            " ['C']\n",
            " ['D']]\n",
            "E\n",
            "[['']\n",
            " ['A']\n",
            " ['B']\n",
            " ['C']\n",
            " ['D']\n",
            " ['E']]\n"
          ],
          "name": "stdout"
        },
        {
          "output_type": "execute_result",
          "data": {
            "text/plain": [
              "array([['', 'A', 'B', 'C', 'D', 'E']], dtype='|S1')"
            ]
          },
          "metadata": {
            "tags": []
          },
          "execution_count": 79
        }
      ]
    },
    {
      "cell_type": "code",
      "metadata": {
        "id": "LAyAWhRu2mR2",
        "colab_type": "code",
        "colab": {
          "base_uri": "https://localhost:8080/",
          "height": 53
        },
        "outputId": "bab58eaf-443e-452a-9370-f0aee09e9e4b"
      },
      "source": [
        "np.vstack(['a','b'])"
      ],
      "execution_count": 65,
      "outputs": [
        {
          "output_type": "execute_result",
          "data": {
            "text/plain": [
              "array([['a'],\n",
              "       ['b']], dtype='|S1')"
            ]
          },
          "metadata": {
            "tags": []
          },
          "execution_count": 65
        }
      ]
    },
    {
      "cell_type": "code",
      "metadata": {
        "id": "qs1CPBmPxAoM",
        "colab_type": "code",
        "colab": {
          "base_uri": "https://localhost:8080/",
          "height": 204
        },
        "outputId": "e103d8ee-f8d7-4db4-e344-bce94333ff1a"
      },
      "source": [
        "np.random.seed(0)\n",
        "df1 = pd.DataFrame(np.hstack([np.vstack([list('ABCDE')]).T,\n",
        "                              np.round(np.random.rand(5, 3), 2)]))\n",
        "df1"
      ],
      "execution_count": 88,
      "outputs": [
        {
          "output_type": "execute_result",
          "data": {
            "text/html": [
              "<div>\n",
              "<style scoped>\n",
              "    .dataframe tbody tr th:only-of-type {\n",
              "        vertical-align: middle;\n",
              "    }\n",
              "\n",
              "    .dataframe tbody tr th {\n",
              "        vertical-align: top;\n",
              "    }\n",
              "\n",
              "    .dataframe thead th {\n",
              "        text-align: right;\n",
              "    }\n",
              "</style>\n",
              "<table border=\"1\" class=\"dataframe\">\n",
              "  <thead>\n",
              "    <tr style=\"text-align: right;\">\n",
              "      <th></th>\n",
              "      <th>0</th>\n",
              "      <th>1</th>\n",
              "      <th>2</th>\n",
              "      <th>3</th>\n",
              "    </tr>\n",
              "  </thead>\n",
              "  <tbody>\n",
              "    <tr>\n",
              "      <th>0</th>\n",
              "      <td>A</td>\n",
              "      <td>0.55</td>\n",
              "      <td>0.72</td>\n",
              "      <td>0.6</td>\n",
              "    </tr>\n",
              "    <tr>\n",
              "      <th>1</th>\n",
              "      <td>B</td>\n",
              "      <td>0.54</td>\n",
              "      <td>0.42</td>\n",
              "      <td>0.65</td>\n",
              "    </tr>\n",
              "    <tr>\n",
              "      <th>2</th>\n",
              "      <td>C</td>\n",
              "      <td>0.44</td>\n",
              "      <td>0.89</td>\n",
              "      <td>0.96</td>\n",
              "    </tr>\n",
              "    <tr>\n",
              "      <th>3</th>\n",
              "      <td>D</td>\n",
              "      <td>0.38</td>\n",
              "      <td>0.79</td>\n",
              "      <td>0.53</td>\n",
              "    </tr>\n",
              "    <tr>\n",
              "      <th>4</th>\n",
              "      <td>E</td>\n",
              "      <td>0.57</td>\n",
              "      <td>0.93</td>\n",
              "      <td>0.07</td>\n",
              "    </tr>\n",
              "  </tbody>\n",
              "</table>\n",
              "</div>"
            ],
            "text/plain": [
              "   0     1     2     3\n",
              "0  A  0.55  0.72   0.6\n",
              "1  B  0.54  0.42  0.65\n",
              "2  C  0.44  0.89  0.96\n",
              "3  D  0.38  0.79  0.53\n",
              "4  E  0.57  0.93  0.07"
            ]
          },
          "metadata": {
            "tags": []
          },
          "execution_count": 88
        }
      ]
    },
    {
      "cell_type": "code",
      "metadata": {
        "id": "Ps9hqbmWw_tT",
        "colab_type": "code",
        "colab": {
          "base_uri": "https://localhost:8080/",
          "height": 107
        },
        "outputId": "f3160a36-fa3b-4913-f617-e82070c0e515"
      },
      "source": [
        "np.vstack([list('ABCDE')]).T"
      ],
      "execution_count": 87,
      "outputs": [
        {
          "output_type": "execute_result",
          "data": {
            "text/plain": [
              "array([['A'],\n",
              "       ['B'],\n",
              "       ['C'],\n",
              "       ['D'],\n",
              "       ['E']], dtype='|S1')"
            ]
          },
          "metadata": {
            "tags": []
          },
          "execution_count": 87
        }
      ]
    }
  ]
}